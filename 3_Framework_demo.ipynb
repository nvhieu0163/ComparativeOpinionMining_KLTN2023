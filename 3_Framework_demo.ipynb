{
  "nbformat": 4,
  "nbformat_minor": 0,
  "metadata": {
    "colab": {
      "provenance": [],
      "gpuType": "T4",
      "toc_visible": true,
      "authorship_tag": "ABX9TyPWwV06bKPzWn4Is8+F5cRw",
      "include_colab_link": true
    },
    "kernelspec": {
      "name": "python3",
      "display_name": "Python 3"
    },
    "language_info": {
      "name": "python"
    },
    "accelerator": "GPU",
    "widgets": {
      "application/vnd.jupyter.widget-state+json": {
        "21d63605d2c741ed9b8f7c5fa8444f94": {
          "model_module": "@jupyter-widgets/controls",
          "model_name": "HBoxModel",
          "model_module_version": "1.5.0",
          "state": {
            "_dom_classes": [],
            "_model_module": "@jupyter-widgets/controls",
            "_model_module_version": "1.5.0",
            "_model_name": "HBoxModel",
            "_view_count": null,
            "_view_module": "@jupyter-widgets/controls",
            "_view_module_version": "1.5.0",
            "_view_name": "HBoxView",
            "box_style": "",
            "children": [
              "IPY_MODEL_0ccc817656964643ac16f799cea8aec3",
              "IPY_MODEL_da99e4ee313e41a990f31016fab50b2a",
              "IPY_MODEL_17df40dfc9964ee4a9ff1510e1ed8daa"
            ],
            "layout": "IPY_MODEL_ea6d11ae78b44e7cb92d6212537bca1a"
          }
        },
        "0ccc817656964643ac16f799cea8aec3": {
          "model_module": "@jupyter-widgets/controls",
          "model_name": "HTMLModel",
          "model_module_version": "1.5.0",
          "state": {
            "_dom_classes": [],
            "_model_module": "@jupyter-widgets/controls",
            "_model_module_version": "1.5.0",
            "_model_name": "HTMLModel",
            "_view_count": null,
            "_view_module": "@jupyter-widgets/controls",
            "_view_module_version": "1.5.0",
            "_view_name": "HTMLView",
            "description": "",
            "description_tooltip": null,
            "layout": "IPY_MODEL_dedd919694dd48f9b785f52a01f1cc6c",
            "placeholder": "​",
            "style": "IPY_MODEL_36b8dec396f74e7282acd9e00a920409",
            "value": "config.json: 100%"
          }
        },
        "da99e4ee313e41a990f31016fab50b2a": {
          "model_module": "@jupyter-widgets/controls",
          "model_name": "FloatProgressModel",
          "model_module_version": "1.5.0",
          "state": {
            "_dom_classes": [],
            "_model_module": "@jupyter-widgets/controls",
            "_model_module_version": "1.5.0",
            "_model_name": "FloatProgressModel",
            "_view_count": null,
            "_view_module": "@jupyter-widgets/controls",
            "_view_module_version": "1.5.0",
            "_view_name": "ProgressView",
            "bar_style": "success",
            "description": "",
            "description_tooltip": null,
            "layout": "IPY_MODEL_97cefd2899964c57bb0567b63e94354a",
            "max": 557,
            "min": 0,
            "orientation": "horizontal",
            "style": "IPY_MODEL_72e713b81c5e47bb8749ffe6be377f92",
            "value": 557
          }
        },
        "17df40dfc9964ee4a9ff1510e1ed8daa": {
          "model_module": "@jupyter-widgets/controls",
          "model_name": "HTMLModel",
          "model_module_version": "1.5.0",
          "state": {
            "_dom_classes": [],
            "_model_module": "@jupyter-widgets/controls",
            "_model_module_version": "1.5.0",
            "_model_name": "HTMLModel",
            "_view_count": null,
            "_view_module": "@jupyter-widgets/controls",
            "_view_module_version": "1.5.0",
            "_view_name": "HTMLView",
            "description": "",
            "description_tooltip": null,
            "layout": "IPY_MODEL_047769a40aea491d9d6208a4b2fd3088",
            "placeholder": "​",
            "style": "IPY_MODEL_61fddbb3294b4689a1667c4f0fb25d31",
            "value": " 557/557 [00:00&lt;00:00, 9.58kB/s]"
          }
        },
        "ea6d11ae78b44e7cb92d6212537bca1a": {
          "model_module": "@jupyter-widgets/base",
          "model_name": "LayoutModel",
          "model_module_version": "1.2.0",
          "state": {
            "_model_module": "@jupyter-widgets/base",
            "_model_module_version": "1.2.0",
            "_model_name": "LayoutModel",
            "_view_count": null,
            "_view_module": "@jupyter-widgets/base",
            "_view_module_version": "1.2.0",
            "_view_name": "LayoutView",
            "align_content": null,
            "align_items": null,
            "align_self": null,
            "border": null,
            "bottom": null,
            "display": null,
            "flex": null,
            "flex_flow": null,
            "grid_area": null,
            "grid_auto_columns": null,
            "grid_auto_flow": null,
            "grid_auto_rows": null,
            "grid_column": null,
            "grid_gap": null,
            "grid_row": null,
            "grid_template_areas": null,
            "grid_template_columns": null,
            "grid_template_rows": null,
            "height": null,
            "justify_content": null,
            "justify_items": null,
            "left": null,
            "margin": null,
            "max_height": null,
            "max_width": null,
            "min_height": null,
            "min_width": null,
            "object_fit": null,
            "object_position": null,
            "order": null,
            "overflow": null,
            "overflow_x": null,
            "overflow_y": null,
            "padding": null,
            "right": null,
            "top": null,
            "visibility": null,
            "width": null
          }
        },
        "dedd919694dd48f9b785f52a01f1cc6c": {
          "model_module": "@jupyter-widgets/base",
          "model_name": "LayoutModel",
          "model_module_version": "1.2.0",
          "state": {
            "_model_module": "@jupyter-widgets/base",
            "_model_module_version": "1.2.0",
            "_model_name": "LayoutModel",
            "_view_count": null,
            "_view_module": "@jupyter-widgets/base",
            "_view_module_version": "1.2.0",
            "_view_name": "LayoutView",
            "align_content": null,
            "align_items": null,
            "align_self": null,
            "border": null,
            "bottom": null,
            "display": null,
            "flex": null,
            "flex_flow": null,
            "grid_area": null,
            "grid_auto_columns": null,
            "grid_auto_flow": null,
            "grid_auto_rows": null,
            "grid_column": null,
            "grid_gap": null,
            "grid_row": null,
            "grid_template_areas": null,
            "grid_template_columns": null,
            "grid_template_rows": null,
            "height": null,
            "justify_content": null,
            "justify_items": null,
            "left": null,
            "margin": null,
            "max_height": null,
            "max_width": null,
            "min_height": null,
            "min_width": null,
            "object_fit": null,
            "object_position": null,
            "order": null,
            "overflow": null,
            "overflow_x": null,
            "overflow_y": null,
            "padding": null,
            "right": null,
            "top": null,
            "visibility": null,
            "width": null
          }
        },
        "36b8dec396f74e7282acd9e00a920409": {
          "model_module": "@jupyter-widgets/controls",
          "model_name": "DescriptionStyleModel",
          "model_module_version": "1.5.0",
          "state": {
            "_model_module": "@jupyter-widgets/controls",
            "_model_module_version": "1.5.0",
            "_model_name": "DescriptionStyleModel",
            "_view_count": null,
            "_view_module": "@jupyter-widgets/base",
            "_view_module_version": "1.2.0",
            "_view_name": "StyleView",
            "description_width": ""
          }
        },
        "97cefd2899964c57bb0567b63e94354a": {
          "model_module": "@jupyter-widgets/base",
          "model_name": "LayoutModel",
          "model_module_version": "1.2.0",
          "state": {
            "_model_module": "@jupyter-widgets/base",
            "_model_module_version": "1.2.0",
            "_model_name": "LayoutModel",
            "_view_count": null,
            "_view_module": "@jupyter-widgets/base",
            "_view_module_version": "1.2.0",
            "_view_name": "LayoutView",
            "align_content": null,
            "align_items": null,
            "align_self": null,
            "border": null,
            "bottom": null,
            "display": null,
            "flex": null,
            "flex_flow": null,
            "grid_area": null,
            "grid_auto_columns": null,
            "grid_auto_flow": null,
            "grid_auto_rows": null,
            "grid_column": null,
            "grid_gap": null,
            "grid_row": null,
            "grid_template_areas": null,
            "grid_template_columns": null,
            "grid_template_rows": null,
            "height": null,
            "justify_content": null,
            "justify_items": null,
            "left": null,
            "margin": null,
            "max_height": null,
            "max_width": null,
            "min_height": null,
            "min_width": null,
            "object_fit": null,
            "object_position": null,
            "order": null,
            "overflow": null,
            "overflow_x": null,
            "overflow_y": null,
            "padding": null,
            "right": null,
            "top": null,
            "visibility": null,
            "width": null
          }
        },
        "72e713b81c5e47bb8749ffe6be377f92": {
          "model_module": "@jupyter-widgets/controls",
          "model_name": "ProgressStyleModel",
          "model_module_version": "1.5.0",
          "state": {
            "_model_module": "@jupyter-widgets/controls",
            "_model_module_version": "1.5.0",
            "_model_name": "ProgressStyleModel",
            "_view_count": null,
            "_view_module": "@jupyter-widgets/base",
            "_view_module_version": "1.2.0",
            "_view_name": "StyleView",
            "bar_color": null,
            "description_width": ""
          }
        },
        "047769a40aea491d9d6208a4b2fd3088": {
          "model_module": "@jupyter-widgets/base",
          "model_name": "LayoutModel",
          "model_module_version": "1.2.0",
          "state": {
            "_model_module": "@jupyter-widgets/base",
            "_model_module_version": "1.2.0",
            "_model_name": "LayoutModel",
            "_view_count": null,
            "_view_module": "@jupyter-widgets/base",
            "_view_module_version": "1.2.0",
            "_view_name": "LayoutView",
            "align_content": null,
            "align_items": null,
            "align_self": null,
            "border": null,
            "bottom": null,
            "display": null,
            "flex": null,
            "flex_flow": null,
            "grid_area": null,
            "grid_auto_columns": null,
            "grid_auto_flow": null,
            "grid_auto_rows": null,
            "grid_column": null,
            "grid_gap": null,
            "grid_row": null,
            "grid_template_areas": null,
            "grid_template_columns": null,
            "grid_template_rows": null,
            "height": null,
            "justify_content": null,
            "justify_items": null,
            "left": null,
            "margin": null,
            "max_height": null,
            "max_width": null,
            "min_height": null,
            "min_width": null,
            "object_fit": null,
            "object_position": null,
            "order": null,
            "overflow": null,
            "overflow_x": null,
            "overflow_y": null,
            "padding": null,
            "right": null,
            "top": null,
            "visibility": null,
            "width": null
          }
        },
        "61fddbb3294b4689a1667c4f0fb25d31": {
          "model_module": "@jupyter-widgets/controls",
          "model_name": "DescriptionStyleModel",
          "model_module_version": "1.5.0",
          "state": {
            "_model_module": "@jupyter-widgets/controls",
            "_model_module_version": "1.5.0",
            "_model_name": "DescriptionStyleModel",
            "_view_count": null,
            "_view_module": "@jupyter-widgets/base",
            "_view_module_version": "1.2.0",
            "_view_name": "StyleView",
            "description_width": ""
          }
        },
        "f25054e1970146aeb4618d7cf29593d1": {
          "model_module": "@jupyter-widgets/controls",
          "model_name": "HBoxModel",
          "model_module_version": "1.5.0",
          "state": {
            "_dom_classes": [],
            "_model_module": "@jupyter-widgets/controls",
            "_model_module_version": "1.5.0",
            "_model_name": "HBoxModel",
            "_view_count": null,
            "_view_module": "@jupyter-widgets/controls",
            "_view_module_version": "1.5.0",
            "_view_name": "HBoxView",
            "box_style": "",
            "children": [
              "IPY_MODEL_ec54772a63534e37bfe5145b1d254146",
              "IPY_MODEL_17147df5fe2c48fda08ab17b9bdac17a",
              "IPY_MODEL_dcf037b074bb4e3ab1005e23599d3ecb"
            ],
            "layout": "IPY_MODEL_342ac7ff9fea426d9b060549c63714a5"
          }
        },
        "ec54772a63534e37bfe5145b1d254146": {
          "model_module": "@jupyter-widgets/controls",
          "model_name": "HTMLModel",
          "model_module_version": "1.5.0",
          "state": {
            "_dom_classes": [],
            "_model_module": "@jupyter-widgets/controls",
            "_model_module_version": "1.5.0",
            "_model_name": "HTMLModel",
            "_view_count": null,
            "_view_module": "@jupyter-widgets/controls",
            "_view_module_version": "1.5.0",
            "_view_name": "HTMLView",
            "description": "",
            "description_tooltip": null,
            "layout": "IPY_MODEL_12f0402a4f6e40ee8843fd45a0f4f2b8",
            "placeholder": "​",
            "style": "IPY_MODEL_27a6b72ee214441ea45da5fbe2fbc259",
            "value": "vocab.txt: 100%"
          }
        },
        "17147df5fe2c48fda08ab17b9bdac17a": {
          "model_module": "@jupyter-widgets/controls",
          "model_name": "FloatProgressModel",
          "model_module_version": "1.5.0",
          "state": {
            "_dom_classes": [],
            "_model_module": "@jupyter-widgets/controls",
            "_model_module_version": "1.5.0",
            "_model_name": "FloatProgressModel",
            "_view_count": null,
            "_view_module": "@jupyter-widgets/controls",
            "_view_module_version": "1.5.0",
            "_view_name": "ProgressView",
            "bar_style": "success",
            "description": "",
            "description_tooltip": null,
            "layout": "IPY_MODEL_6190ad6d1fcc47728b68fdb18b71a65b",
            "max": 895321,
            "min": 0,
            "orientation": "horizontal",
            "style": "IPY_MODEL_50ad17bf5b8147f9ac18334fefbd607b",
            "value": 895321
          }
        },
        "dcf037b074bb4e3ab1005e23599d3ecb": {
          "model_module": "@jupyter-widgets/controls",
          "model_name": "HTMLModel",
          "model_module_version": "1.5.0",
          "state": {
            "_dom_classes": [],
            "_model_module": "@jupyter-widgets/controls",
            "_model_module_version": "1.5.0",
            "_model_name": "HTMLModel",
            "_view_count": null,
            "_view_module": "@jupyter-widgets/controls",
            "_view_module_version": "1.5.0",
            "_view_name": "HTMLView",
            "description": "",
            "description_tooltip": null,
            "layout": "IPY_MODEL_a78e667046ba4c4997bfffba4abaccaa",
            "placeholder": "​",
            "style": "IPY_MODEL_c07fb0d471b64197b1b64216766d2f13",
            "value": " 895k/895k [00:00&lt;00:00, 13.0MB/s]"
          }
        },
        "342ac7ff9fea426d9b060549c63714a5": {
          "model_module": "@jupyter-widgets/base",
          "model_name": "LayoutModel",
          "model_module_version": "1.2.0",
          "state": {
            "_model_module": "@jupyter-widgets/base",
            "_model_module_version": "1.2.0",
            "_model_name": "LayoutModel",
            "_view_count": null,
            "_view_module": "@jupyter-widgets/base",
            "_view_module_version": "1.2.0",
            "_view_name": "LayoutView",
            "align_content": null,
            "align_items": null,
            "align_self": null,
            "border": null,
            "bottom": null,
            "display": null,
            "flex": null,
            "flex_flow": null,
            "grid_area": null,
            "grid_auto_columns": null,
            "grid_auto_flow": null,
            "grid_auto_rows": null,
            "grid_column": null,
            "grid_gap": null,
            "grid_row": null,
            "grid_template_areas": null,
            "grid_template_columns": null,
            "grid_template_rows": null,
            "height": null,
            "justify_content": null,
            "justify_items": null,
            "left": null,
            "margin": null,
            "max_height": null,
            "max_width": null,
            "min_height": null,
            "min_width": null,
            "object_fit": null,
            "object_position": null,
            "order": null,
            "overflow": null,
            "overflow_x": null,
            "overflow_y": null,
            "padding": null,
            "right": null,
            "top": null,
            "visibility": null,
            "width": null
          }
        },
        "12f0402a4f6e40ee8843fd45a0f4f2b8": {
          "model_module": "@jupyter-widgets/base",
          "model_name": "LayoutModel",
          "model_module_version": "1.2.0",
          "state": {
            "_model_module": "@jupyter-widgets/base",
            "_model_module_version": "1.2.0",
            "_model_name": "LayoutModel",
            "_view_count": null,
            "_view_module": "@jupyter-widgets/base",
            "_view_module_version": "1.2.0",
            "_view_name": "LayoutView",
            "align_content": null,
            "align_items": null,
            "align_self": null,
            "border": null,
            "bottom": null,
            "display": null,
            "flex": null,
            "flex_flow": null,
            "grid_area": null,
            "grid_auto_columns": null,
            "grid_auto_flow": null,
            "grid_auto_rows": null,
            "grid_column": null,
            "grid_gap": null,
            "grid_row": null,
            "grid_template_areas": null,
            "grid_template_columns": null,
            "grid_template_rows": null,
            "height": null,
            "justify_content": null,
            "justify_items": null,
            "left": null,
            "margin": null,
            "max_height": null,
            "max_width": null,
            "min_height": null,
            "min_width": null,
            "object_fit": null,
            "object_position": null,
            "order": null,
            "overflow": null,
            "overflow_x": null,
            "overflow_y": null,
            "padding": null,
            "right": null,
            "top": null,
            "visibility": null,
            "width": null
          }
        },
        "27a6b72ee214441ea45da5fbe2fbc259": {
          "model_module": "@jupyter-widgets/controls",
          "model_name": "DescriptionStyleModel",
          "model_module_version": "1.5.0",
          "state": {
            "_model_module": "@jupyter-widgets/controls",
            "_model_module_version": "1.5.0",
            "_model_name": "DescriptionStyleModel",
            "_view_count": null,
            "_view_module": "@jupyter-widgets/base",
            "_view_module_version": "1.2.0",
            "_view_name": "StyleView",
            "description_width": ""
          }
        },
        "6190ad6d1fcc47728b68fdb18b71a65b": {
          "model_module": "@jupyter-widgets/base",
          "model_name": "LayoutModel",
          "model_module_version": "1.2.0",
          "state": {
            "_model_module": "@jupyter-widgets/base",
            "_model_module_version": "1.2.0",
            "_model_name": "LayoutModel",
            "_view_count": null,
            "_view_module": "@jupyter-widgets/base",
            "_view_module_version": "1.2.0",
            "_view_name": "LayoutView",
            "align_content": null,
            "align_items": null,
            "align_self": null,
            "border": null,
            "bottom": null,
            "display": null,
            "flex": null,
            "flex_flow": null,
            "grid_area": null,
            "grid_auto_columns": null,
            "grid_auto_flow": null,
            "grid_auto_rows": null,
            "grid_column": null,
            "grid_gap": null,
            "grid_row": null,
            "grid_template_areas": null,
            "grid_template_columns": null,
            "grid_template_rows": null,
            "height": null,
            "justify_content": null,
            "justify_items": null,
            "left": null,
            "margin": null,
            "max_height": null,
            "max_width": null,
            "min_height": null,
            "min_width": null,
            "object_fit": null,
            "object_position": null,
            "order": null,
            "overflow": null,
            "overflow_x": null,
            "overflow_y": null,
            "padding": null,
            "right": null,
            "top": null,
            "visibility": null,
            "width": null
          }
        },
        "50ad17bf5b8147f9ac18334fefbd607b": {
          "model_module": "@jupyter-widgets/controls",
          "model_name": "ProgressStyleModel",
          "model_module_version": "1.5.0",
          "state": {
            "_model_module": "@jupyter-widgets/controls",
            "_model_module_version": "1.5.0",
            "_model_name": "ProgressStyleModel",
            "_view_count": null,
            "_view_module": "@jupyter-widgets/base",
            "_view_module_version": "1.2.0",
            "_view_name": "StyleView",
            "bar_color": null,
            "description_width": ""
          }
        },
        "a78e667046ba4c4997bfffba4abaccaa": {
          "model_module": "@jupyter-widgets/base",
          "model_name": "LayoutModel",
          "model_module_version": "1.2.0",
          "state": {
            "_model_module": "@jupyter-widgets/base",
            "_model_module_version": "1.2.0",
            "_model_name": "LayoutModel",
            "_view_count": null,
            "_view_module": "@jupyter-widgets/base",
            "_view_module_version": "1.2.0",
            "_view_name": "LayoutView",
            "align_content": null,
            "align_items": null,
            "align_self": null,
            "border": null,
            "bottom": null,
            "display": null,
            "flex": null,
            "flex_flow": null,
            "grid_area": null,
            "grid_auto_columns": null,
            "grid_auto_flow": null,
            "grid_auto_rows": null,
            "grid_column": null,
            "grid_gap": null,
            "grid_row": null,
            "grid_template_areas": null,
            "grid_template_columns": null,
            "grid_template_rows": null,
            "height": null,
            "justify_content": null,
            "justify_items": null,
            "left": null,
            "margin": null,
            "max_height": null,
            "max_width": null,
            "min_height": null,
            "min_width": null,
            "object_fit": null,
            "object_position": null,
            "order": null,
            "overflow": null,
            "overflow_x": null,
            "overflow_y": null,
            "padding": null,
            "right": null,
            "top": null,
            "visibility": null,
            "width": null
          }
        },
        "c07fb0d471b64197b1b64216766d2f13": {
          "model_module": "@jupyter-widgets/controls",
          "model_name": "DescriptionStyleModel",
          "model_module_version": "1.5.0",
          "state": {
            "_model_module": "@jupyter-widgets/controls",
            "_model_module_version": "1.5.0",
            "_model_name": "DescriptionStyleModel",
            "_view_count": null,
            "_view_module": "@jupyter-widgets/base",
            "_view_module_version": "1.2.0",
            "_view_name": "StyleView",
            "description_width": ""
          }
        },
        "f29698c32a154e5896ca695eb0e5533f": {
          "model_module": "@jupyter-widgets/controls",
          "model_name": "HBoxModel",
          "model_module_version": "1.5.0",
          "state": {
            "_dom_classes": [],
            "_model_module": "@jupyter-widgets/controls",
            "_model_module_version": "1.5.0",
            "_model_name": "HBoxModel",
            "_view_count": null,
            "_view_module": "@jupyter-widgets/controls",
            "_view_module_version": "1.5.0",
            "_view_name": "HBoxView",
            "box_style": "",
            "children": [
              "IPY_MODEL_5a4107fbb2e545e8b3567081ad63cb5f",
              "IPY_MODEL_c730094bc33b4b09bcfd3dbe0dde0f5b",
              "IPY_MODEL_00bc0254788f4499b06dd63969e4380c"
            ],
            "layout": "IPY_MODEL_8edf34ae69ed4a7aaf43cedee0f1a759"
          }
        },
        "5a4107fbb2e545e8b3567081ad63cb5f": {
          "model_module": "@jupyter-widgets/controls",
          "model_name": "HTMLModel",
          "model_module_version": "1.5.0",
          "state": {
            "_dom_classes": [],
            "_model_module": "@jupyter-widgets/controls",
            "_model_module_version": "1.5.0",
            "_model_name": "HTMLModel",
            "_view_count": null,
            "_view_module": "@jupyter-widgets/controls",
            "_view_module_version": "1.5.0",
            "_view_name": "HTMLView",
            "description": "",
            "description_tooltip": null,
            "layout": "IPY_MODEL_2143167eacf149e4957414cd94acf7f0",
            "placeholder": "​",
            "style": "IPY_MODEL_46b6a0e102c64cc6aced840f9b9e9278",
            "value": "bpe.codes: 100%"
          }
        },
        "c730094bc33b4b09bcfd3dbe0dde0f5b": {
          "model_module": "@jupyter-widgets/controls",
          "model_name": "FloatProgressModel",
          "model_module_version": "1.5.0",
          "state": {
            "_dom_classes": [],
            "_model_module": "@jupyter-widgets/controls",
            "_model_module_version": "1.5.0",
            "_model_name": "FloatProgressModel",
            "_view_count": null,
            "_view_module": "@jupyter-widgets/controls",
            "_view_module_version": "1.5.0",
            "_view_name": "ProgressView",
            "bar_style": "success",
            "description": "",
            "description_tooltip": null,
            "layout": "IPY_MODEL_8e438fbcb4bf436f99bd35efdbfeaa6b",
            "max": 1135173,
            "min": 0,
            "orientation": "horizontal",
            "style": "IPY_MODEL_0c1f9a21f40a4693a78884037e0ccce0",
            "value": 1135173
          }
        },
        "00bc0254788f4499b06dd63969e4380c": {
          "model_module": "@jupyter-widgets/controls",
          "model_name": "HTMLModel",
          "model_module_version": "1.5.0",
          "state": {
            "_dom_classes": [],
            "_model_module": "@jupyter-widgets/controls",
            "_model_module_version": "1.5.0",
            "_model_name": "HTMLModel",
            "_view_count": null,
            "_view_module": "@jupyter-widgets/controls",
            "_view_module_version": "1.5.0",
            "_view_name": "HTMLView",
            "description": "",
            "description_tooltip": null,
            "layout": "IPY_MODEL_38e2c7c29a3342e7b864b52ad4f691b1",
            "placeholder": "​",
            "style": "IPY_MODEL_77bc95f961dd48188af80401281b4331",
            "value": " 1.14M/1.14M [00:00&lt;00:00, 16.8MB/s]"
          }
        },
        "8edf34ae69ed4a7aaf43cedee0f1a759": {
          "model_module": "@jupyter-widgets/base",
          "model_name": "LayoutModel",
          "model_module_version": "1.2.0",
          "state": {
            "_model_module": "@jupyter-widgets/base",
            "_model_module_version": "1.2.0",
            "_model_name": "LayoutModel",
            "_view_count": null,
            "_view_module": "@jupyter-widgets/base",
            "_view_module_version": "1.2.0",
            "_view_name": "LayoutView",
            "align_content": null,
            "align_items": null,
            "align_self": null,
            "border": null,
            "bottom": null,
            "display": null,
            "flex": null,
            "flex_flow": null,
            "grid_area": null,
            "grid_auto_columns": null,
            "grid_auto_flow": null,
            "grid_auto_rows": null,
            "grid_column": null,
            "grid_gap": null,
            "grid_row": null,
            "grid_template_areas": null,
            "grid_template_columns": null,
            "grid_template_rows": null,
            "height": null,
            "justify_content": null,
            "justify_items": null,
            "left": null,
            "margin": null,
            "max_height": null,
            "max_width": null,
            "min_height": null,
            "min_width": null,
            "object_fit": null,
            "object_position": null,
            "order": null,
            "overflow": null,
            "overflow_x": null,
            "overflow_y": null,
            "padding": null,
            "right": null,
            "top": null,
            "visibility": null,
            "width": null
          }
        },
        "2143167eacf149e4957414cd94acf7f0": {
          "model_module": "@jupyter-widgets/base",
          "model_name": "LayoutModel",
          "model_module_version": "1.2.0",
          "state": {
            "_model_module": "@jupyter-widgets/base",
            "_model_module_version": "1.2.0",
            "_model_name": "LayoutModel",
            "_view_count": null,
            "_view_module": "@jupyter-widgets/base",
            "_view_module_version": "1.2.0",
            "_view_name": "LayoutView",
            "align_content": null,
            "align_items": null,
            "align_self": null,
            "border": null,
            "bottom": null,
            "display": null,
            "flex": null,
            "flex_flow": null,
            "grid_area": null,
            "grid_auto_columns": null,
            "grid_auto_flow": null,
            "grid_auto_rows": null,
            "grid_column": null,
            "grid_gap": null,
            "grid_row": null,
            "grid_template_areas": null,
            "grid_template_columns": null,
            "grid_template_rows": null,
            "height": null,
            "justify_content": null,
            "justify_items": null,
            "left": null,
            "margin": null,
            "max_height": null,
            "max_width": null,
            "min_height": null,
            "min_width": null,
            "object_fit": null,
            "object_position": null,
            "order": null,
            "overflow": null,
            "overflow_x": null,
            "overflow_y": null,
            "padding": null,
            "right": null,
            "top": null,
            "visibility": null,
            "width": null
          }
        },
        "46b6a0e102c64cc6aced840f9b9e9278": {
          "model_module": "@jupyter-widgets/controls",
          "model_name": "DescriptionStyleModel",
          "model_module_version": "1.5.0",
          "state": {
            "_model_module": "@jupyter-widgets/controls",
            "_model_module_version": "1.5.0",
            "_model_name": "DescriptionStyleModel",
            "_view_count": null,
            "_view_module": "@jupyter-widgets/base",
            "_view_module_version": "1.2.0",
            "_view_name": "StyleView",
            "description_width": ""
          }
        },
        "8e438fbcb4bf436f99bd35efdbfeaa6b": {
          "model_module": "@jupyter-widgets/base",
          "model_name": "LayoutModel",
          "model_module_version": "1.2.0",
          "state": {
            "_model_module": "@jupyter-widgets/base",
            "_model_module_version": "1.2.0",
            "_model_name": "LayoutModel",
            "_view_count": null,
            "_view_module": "@jupyter-widgets/base",
            "_view_module_version": "1.2.0",
            "_view_name": "LayoutView",
            "align_content": null,
            "align_items": null,
            "align_self": null,
            "border": null,
            "bottom": null,
            "display": null,
            "flex": null,
            "flex_flow": null,
            "grid_area": null,
            "grid_auto_columns": null,
            "grid_auto_flow": null,
            "grid_auto_rows": null,
            "grid_column": null,
            "grid_gap": null,
            "grid_row": null,
            "grid_template_areas": null,
            "grid_template_columns": null,
            "grid_template_rows": null,
            "height": null,
            "justify_content": null,
            "justify_items": null,
            "left": null,
            "margin": null,
            "max_height": null,
            "max_width": null,
            "min_height": null,
            "min_width": null,
            "object_fit": null,
            "object_position": null,
            "order": null,
            "overflow": null,
            "overflow_x": null,
            "overflow_y": null,
            "padding": null,
            "right": null,
            "top": null,
            "visibility": null,
            "width": null
          }
        },
        "0c1f9a21f40a4693a78884037e0ccce0": {
          "model_module": "@jupyter-widgets/controls",
          "model_name": "ProgressStyleModel",
          "model_module_version": "1.5.0",
          "state": {
            "_model_module": "@jupyter-widgets/controls",
            "_model_module_version": "1.5.0",
            "_model_name": "ProgressStyleModel",
            "_view_count": null,
            "_view_module": "@jupyter-widgets/base",
            "_view_module_version": "1.2.0",
            "_view_name": "StyleView",
            "bar_color": null,
            "description_width": ""
          }
        },
        "38e2c7c29a3342e7b864b52ad4f691b1": {
          "model_module": "@jupyter-widgets/base",
          "model_name": "LayoutModel",
          "model_module_version": "1.2.0",
          "state": {
            "_model_module": "@jupyter-widgets/base",
            "_model_module_version": "1.2.0",
            "_model_name": "LayoutModel",
            "_view_count": null,
            "_view_module": "@jupyter-widgets/base",
            "_view_module_version": "1.2.0",
            "_view_name": "LayoutView",
            "align_content": null,
            "align_items": null,
            "align_self": null,
            "border": null,
            "bottom": null,
            "display": null,
            "flex": null,
            "flex_flow": null,
            "grid_area": null,
            "grid_auto_columns": null,
            "grid_auto_flow": null,
            "grid_auto_rows": null,
            "grid_column": null,
            "grid_gap": null,
            "grid_row": null,
            "grid_template_areas": null,
            "grid_template_columns": null,
            "grid_template_rows": null,
            "height": null,
            "justify_content": null,
            "justify_items": null,
            "left": null,
            "margin": null,
            "max_height": null,
            "max_width": null,
            "min_height": null,
            "min_width": null,
            "object_fit": null,
            "object_position": null,
            "order": null,
            "overflow": null,
            "overflow_x": null,
            "overflow_y": null,
            "padding": null,
            "right": null,
            "top": null,
            "visibility": null,
            "width": null
          }
        },
        "77bc95f961dd48188af80401281b4331": {
          "model_module": "@jupyter-widgets/controls",
          "model_name": "DescriptionStyleModel",
          "model_module_version": "1.5.0",
          "state": {
            "_model_module": "@jupyter-widgets/controls",
            "_model_module_version": "1.5.0",
            "_model_name": "DescriptionStyleModel",
            "_view_count": null,
            "_view_module": "@jupyter-widgets/base",
            "_view_module_version": "1.2.0",
            "_view_name": "StyleView",
            "description_width": ""
          }
        },
        "ce1d05f72275478489725a2f83948e30": {
          "model_module": "@jupyter-widgets/controls",
          "model_name": "HBoxModel",
          "model_module_version": "1.5.0",
          "state": {
            "_dom_classes": [],
            "_model_module": "@jupyter-widgets/controls",
            "_model_module_version": "1.5.0",
            "_model_name": "HBoxModel",
            "_view_count": null,
            "_view_module": "@jupyter-widgets/controls",
            "_view_module_version": "1.5.0",
            "_view_name": "HBoxView",
            "box_style": "",
            "children": [
              "IPY_MODEL_0632b2b4238d4bfe998dbb381cc708d2",
              "IPY_MODEL_49419ddf9db648c1b8e57c7e12346ec5",
              "IPY_MODEL_a201c7c1fabb4eb1a722d2bba4567e00"
            ],
            "layout": "IPY_MODEL_3734a3ec78f94cf59ff4e0babc94a958"
          }
        },
        "0632b2b4238d4bfe998dbb381cc708d2": {
          "model_module": "@jupyter-widgets/controls",
          "model_name": "HTMLModel",
          "model_module_version": "1.5.0",
          "state": {
            "_dom_classes": [],
            "_model_module": "@jupyter-widgets/controls",
            "_model_module_version": "1.5.0",
            "_model_name": "HTMLModel",
            "_view_count": null,
            "_view_module": "@jupyter-widgets/controls",
            "_view_module_version": "1.5.0",
            "_view_name": "HTMLView",
            "description": "",
            "description_tooltip": null,
            "layout": "IPY_MODEL_393c15651c3b493f8e130403a1de6521",
            "placeholder": "​",
            "style": "IPY_MODEL_68101b4570764292a97f5f1728f45e73",
            "value": "tokenizer.json: 100%"
          }
        },
        "49419ddf9db648c1b8e57c7e12346ec5": {
          "model_module": "@jupyter-widgets/controls",
          "model_name": "FloatProgressModel",
          "model_module_version": "1.5.0",
          "state": {
            "_dom_classes": [],
            "_model_module": "@jupyter-widgets/controls",
            "_model_module_version": "1.5.0",
            "_model_name": "FloatProgressModel",
            "_view_count": null,
            "_view_module": "@jupyter-widgets/controls",
            "_view_module_version": "1.5.0",
            "_view_name": "ProgressView",
            "bar_style": "success",
            "description": "",
            "description_tooltip": null,
            "layout": "IPY_MODEL_2247306e962d4379825a70ede8729db5",
            "max": 3132320,
            "min": 0,
            "orientation": "horizontal",
            "style": "IPY_MODEL_0e9243724aa24d078f948e979dc461b2",
            "value": 3132320
          }
        },
        "a201c7c1fabb4eb1a722d2bba4567e00": {
          "model_module": "@jupyter-widgets/controls",
          "model_name": "HTMLModel",
          "model_module_version": "1.5.0",
          "state": {
            "_dom_classes": [],
            "_model_module": "@jupyter-widgets/controls",
            "_model_module_version": "1.5.0",
            "_model_name": "HTMLModel",
            "_view_count": null,
            "_view_module": "@jupyter-widgets/controls",
            "_view_module_version": "1.5.0",
            "_view_name": "HTMLView",
            "description": "",
            "description_tooltip": null,
            "layout": "IPY_MODEL_544d0de8f4e44661aa8dacd670385480",
            "placeholder": "​",
            "style": "IPY_MODEL_6098fd5fdd67473db779a428f14c38f9",
            "value": " 3.13M/3.13M [00:00&lt;00:00, 38.5MB/s]"
          }
        },
        "3734a3ec78f94cf59ff4e0babc94a958": {
          "model_module": "@jupyter-widgets/base",
          "model_name": "LayoutModel",
          "model_module_version": "1.2.0",
          "state": {
            "_model_module": "@jupyter-widgets/base",
            "_model_module_version": "1.2.0",
            "_model_name": "LayoutModel",
            "_view_count": null,
            "_view_module": "@jupyter-widgets/base",
            "_view_module_version": "1.2.0",
            "_view_name": "LayoutView",
            "align_content": null,
            "align_items": null,
            "align_self": null,
            "border": null,
            "bottom": null,
            "display": null,
            "flex": null,
            "flex_flow": null,
            "grid_area": null,
            "grid_auto_columns": null,
            "grid_auto_flow": null,
            "grid_auto_rows": null,
            "grid_column": null,
            "grid_gap": null,
            "grid_row": null,
            "grid_template_areas": null,
            "grid_template_columns": null,
            "grid_template_rows": null,
            "height": null,
            "justify_content": null,
            "justify_items": null,
            "left": null,
            "margin": null,
            "max_height": null,
            "max_width": null,
            "min_height": null,
            "min_width": null,
            "object_fit": null,
            "object_position": null,
            "order": null,
            "overflow": null,
            "overflow_x": null,
            "overflow_y": null,
            "padding": null,
            "right": null,
            "top": null,
            "visibility": null,
            "width": null
          }
        },
        "393c15651c3b493f8e130403a1de6521": {
          "model_module": "@jupyter-widgets/base",
          "model_name": "LayoutModel",
          "model_module_version": "1.2.0",
          "state": {
            "_model_module": "@jupyter-widgets/base",
            "_model_module_version": "1.2.0",
            "_model_name": "LayoutModel",
            "_view_count": null,
            "_view_module": "@jupyter-widgets/base",
            "_view_module_version": "1.2.0",
            "_view_name": "LayoutView",
            "align_content": null,
            "align_items": null,
            "align_self": null,
            "border": null,
            "bottom": null,
            "display": null,
            "flex": null,
            "flex_flow": null,
            "grid_area": null,
            "grid_auto_columns": null,
            "grid_auto_flow": null,
            "grid_auto_rows": null,
            "grid_column": null,
            "grid_gap": null,
            "grid_row": null,
            "grid_template_areas": null,
            "grid_template_columns": null,
            "grid_template_rows": null,
            "height": null,
            "justify_content": null,
            "justify_items": null,
            "left": null,
            "margin": null,
            "max_height": null,
            "max_width": null,
            "min_height": null,
            "min_width": null,
            "object_fit": null,
            "object_position": null,
            "order": null,
            "overflow": null,
            "overflow_x": null,
            "overflow_y": null,
            "padding": null,
            "right": null,
            "top": null,
            "visibility": null,
            "width": null
          }
        },
        "68101b4570764292a97f5f1728f45e73": {
          "model_module": "@jupyter-widgets/controls",
          "model_name": "DescriptionStyleModel",
          "model_module_version": "1.5.0",
          "state": {
            "_model_module": "@jupyter-widgets/controls",
            "_model_module_version": "1.5.0",
            "_model_name": "DescriptionStyleModel",
            "_view_count": null,
            "_view_module": "@jupyter-widgets/base",
            "_view_module_version": "1.2.0",
            "_view_name": "StyleView",
            "description_width": ""
          }
        },
        "2247306e962d4379825a70ede8729db5": {
          "model_module": "@jupyter-widgets/base",
          "model_name": "LayoutModel",
          "model_module_version": "1.2.0",
          "state": {
            "_model_module": "@jupyter-widgets/base",
            "_model_module_version": "1.2.0",
            "_model_name": "LayoutModel",
            "_view_count": null,
            "_view_module": "@jupyter-widgets/base",
            "_view_module_version": "1.2.0",
            "_view_name": "LayoutView",
            "align_content": null,
            "align_items": null,
            "align_self": null,
            "border": null,
            "bottom": null,
            "display": null,
            "flex": null,
            "flex_flow": null,
            "grid_area": null,
            "grid_auto_columns": null,
            "grid_auto_flow": null,
            "grid_auto_rows": null,
            "grid_column": null,
            "grid_gap": null,
            "grid_row": null,
            "grid_template_areas": null,
            "grid_template_columns": null,
            "grid_template_rows": null,
            "height": null,
            "justify_content": null,
            "justify_items": null,
            "left": null,
            "margin": null,
            "max_height": null,
            "max_width": null,
            "min_height": null,
            "min_width": null,
            "object_fit": null,
            "object_position": null,
            "order": null,
            "overflow": null,
            "overflow_x": null,
            "overflow_y": null,
            "padding": null,
            "right": null,
            "top": null,
            "visibility": null,
            "width": null
          }
        },
        "0e9243724aa24d078f948e979dc461b2": {
          "model_module": "@jupyter-widgets/controls",
          "model_name": "ProgressStyleModel",
          "model_module_version": "1.5.0",
          "state": {
            "_model_module": "@jupyter-widgets/controls",
            "_model_module_version": "1.5.0",
            "_model_name": "ProgressStyleModel",
            "_view_count": null,
            "_view_module": "@jupyter-widgets/base",
            "_view_module_version": "1.2.0",
            "_view_name": "StyleView",
            "bar_color": null,
            "description_width": ""
          }
        },
        "544d0de8f4e44661aa8dacd670385480": {
          "model_module": "@jupyter-widgets/base",
          "model_name": "LayoutModel",
          "model_module_version": "1.2.0",
          "state": {
            "_model_module": "@jupyter-widgets/base",
            "_model_module_version": "1.2.0",
            "_model_name": "LayoutModel",
            "_view_count": null,
            "_view_module": "@jupyter-widgets/base",
            "_view_module_version": "1.2.0",
            "_view_name": "LayoutView",
            "align_content": null,
            "align_items": null,
            "align_self": null,
            "border": null,
            "bottom": null,
            "display": null,
            "flex": null,
            "flex_flow": null,
            "grid_area": null,
            "grid_auto_columns": null,
            "grid_auto_flow": null,
            "grid_auto_rows": null,
            "grid_column": null,
            "grid_gap": null,
            "grid_row": null,
            "grid_template_areas": null,
            "grid_template_columns": null,
            "grid_template_rows": null,
            "height": null,
            "justify_content": null,
            "justify_items": null,
            "left": null,
            "margin": null,
            "max_height": null,
            "max_width": null,
            "min_height": null,
            "min_width": null,
            "object_fit": null,
            "object_position": null,
            "order": null,
            "overflow": null,
            "overflow_x": null,
            "overflow_y": null,
            "padding": null,
            "right": null,
            "top": null,
            "visibility": null,
            "width": null
          }
        },
        "6098fd5fdd67473db779a428f14c38f9": {
          "model_module": "@jupyter-widgets/controls",
          "model_name": "DescriptionStyleModel",
          "model_module_version": "1.5.0",
          "state": {
            "_model_module": "@jupyter-widgets/controls",
            "_model_module_version": "1.5.0",
            "_model_name": "DescriptionStyleModel",
            "_view_count": null,
            "_view_module": "@jupyter-widgets/base",
            "_view_module_version": "1.2.0",
            "_view_name": "StyleView",
            "description_width": ""
          }
        }
      }
    }
  },
  "cells": [
    {
      "cell_type": "markdown",
      "metadata": {
        "id": "view-in-github",
        "colab_type": "text"
      },
      "source": [
        "<a href=\"https://colab.research.google.com/github/nvhieu0163/ComparativeOpinionMining_KLTN2023/blob/main/3_Framework_demo.ipynb\" target=\"_parent\"><img src=\"https://colab.research.google.com/assets/colab-badge.svg\" alt=\"Open In Colab\"/></a>"
      ]
    },
    {
      "cell_type": "markdown",
      "source": [
        "## Tải thư viện"
      ],
      "metadata": {
        "id": "tMb2MjPJlYB7"
      }
    },
    {
      "cell_type": "code",
      "source": [
        "!pip install pytorch-crf"
      ],
      "metadata": {
        "colab": {
          "base_uri": "https://localhost:8080/"
        },
        "id": "hRs2N132J40n",
        "outputId": "8f118433-df74-4fe4-c588-99ee44d41e2e"
      },
      "execution_count": 1,
      "outputs": [
        {
          "output_type": "stream",
          "name": "stdout",
          "text": [
            "Collecting pytorch-crf\n",
            "  Downloading pytorch_crf-0.7.2-py3-none-any.whl (9.5 kB)\n",
            "Installing collected packages: pytorch-crf\n",
            "Successfully installed pytorch-crf-0.7.2\n"
          ]
        }
      ]
    },
    {
      "cell_type": "code",
      "execution_count": 2,
      "metadata": {
        "id": "_tdJXq6ibsPw",
        "colab": {
          "base_uri": "https://localhost:8080/"
        },
        "outputId": "5b9249e8-fd85-43be-8e83-a102f3c0d6d2"
      },
      "outputs": [
        {
          "output_type": "stream",
          "name": "stdout",
          "text": [
            "Collecting py_vncorenlp\n",
            "  Downloading py_vncorenlp-0.1.4.tar.gz (3.9 kB)\n",
            "  Preparing metadata (setup.py) ... \u001b[?25l\u001b[?25hdone\n",
            "Collecting pyjnius (from py_vncorenlp)\n",
            "  Downloading pyjnius-1.6.1-cp310-cp310-manylinux_2_17_x86_64.manylinux2014_x86_64.whl (1.5 MB)\n",
            "\u001b[2K     \u001b[90m━━━━━━━━━━━━━━━━━━━━━━━━━━━━━━━━━━━━━━━━\u001b[0m \u001b[32m1.5/1.5 MB\u001b[0m \u001b[31m9.0 MB/s\u001b[0m eta \u001b[36m0:00:00\u001b[0m\n",
            "\u001b[?25hBuilding wheels for collected packages: py_vncorenlp\n",
            "  Building wheel for py_vncorenlp (setup.py) ... \u001b[?25l\u001b[?25hdone\n",
            "  Created wheel for py_vncorenlp: filename=py_vncorenlp-0.1.4-py3-none-any.whl size=4307 sha256=34915cd7c8e13f6686a0f095efa768bc71c7d81f7880622cc43a19f9c4a0eed2\n",
            "  Stored in directory: /root/.cache/pip/wheels/d5/d9/bf/62632cdb007c702a0664091e92a0bb1f18a2fcecbe962d9827\n",
            "Successfully built py_vncorenlp\n",
            "Installing collected packages: pyjnius, py_vncorenlp\n",
            "Successfully installed py_vncorenlp-0.1.4 pyjnius-1.6.1\n",
            "Requirement already satisfied: transformers in /usr/local/lib/python3.10/dist-packages (4.35.2)\n",
            "Requirement already satisfied: filelock in /usr/local/lib/python3.10/dist-packages (from transformers) (3.13.1)\n",
            "Requirement already satisfied: huggingface-hub<1.0,>=0.16.4 in /usr/local/lib/python3.10/dist-packages (from transformers) (0.19.4)\n",
            "Requirement already satisfied: numpy>=1.17 in /usr/local/lib/python3.10/dist-packages (from transformers) (1.23.5)\n",
            "Requirement already satisfied: packaging>=20.0 in /usr/local/lib/python3.10/dist-packages (from transformers) (23.2)\n",
            "Requirement already satisfied: pyyaml>=5.1 in /usr/local/lib/python3.10/dist-packages (from transformers) (6.0.1)\n",
            "Requirement already satisfied: regex!=2019.12.17 in /usr/local/lib/python3.10/dist-packages (from transformers) (2023.6.3)\n",
            "Requirement already satisfied: requests in /usr/local/lib/python3.10/dist-packages (from transformers) (2.31.0)\n",
            "Requirement already satisfied: tokenizers<0.19,>=0.14 in /usr/local/lib/python3.10/dist-packages (from transformers) (0.15.0)\n",
            "Requirement already satisfied: safetensors>=0.3.1 in /usr/local/lib/python3.10/dist-packages (from transformers) (0.4.1)\n",
            "Requirement already satisfied: tqdm>=4.27 in /usr/local/lib/python3.10/dist-packages (from transformers) (4.66.1)\n",
            "Requirement already satisfied: fsspec>=2023.5.0 in /usr/local/lib/python3.10/dist-packages (from huggingface-hub<1.0,>=0.16.4->transformers) (2023.6.0)\n",
            "Requirement already satisfied: typing-extensions>=3.7.4.3 in /usr/local/lib/python3.10/dist-packages (from huggingface-hub<1.0,>=0.16.4->transformers) (4.5.0)\n",
            "Requirement already satisfied: charset-normalizer<4,>=2 in /usr/local/lib/python3.10/dist-packages (from requests->transformers) (3.3.2)\n",
            "Requirement already satisfied: idna<4,>=2.5 in /usr/local/lib/python3.10/dist-packages (from requests->transformers) (3.6)\n",
            "Requirement already satisfied: urllib3<3,>=1.21.1 in /usr/local/lib/python3.10/dist-packages (from requests->transformers) (2.0.7)\n",
            "Requirement already satisfied: certifi>=2017.4.17 in /usr/local/lib/python3.10/dist-packages (from requests->transformers) (2023.11.17)\n",
            "Requirement already satisfied: tokenizers in /usr/local/lib/python3.10/dist-packages (0.15.0)\n",
            "Requirement already satisfied: huggingface_hub<1.0,>=0.16.4 in /usr/local/lib/python3.10/dist-packages (from tokenizers) (0.19.4)\n",
            "Requirement already satisfied: filelock in /usr/local/lib/python3.10/dist-packages (from huggingface_hub<1.0,>=0.16.4->tokenizers) (3.13.1)\n",
            "Requirement already satisfied: fsspec>=2023.5.0 in /usr/local/lib/python3.10/dist-packages (from huggingface_hub<1.0,>=0.16.4->tokenizers) (2023.6.0)\n",
            "Requirement already satisfied: requests in /usr/local/lib/python3.10/dist-packages (from huggingface_hub<1.0,>=0.16.4->tokenizers) (2.31.0)\n",
            "Requirement already satisfied: tqdm>=4.42.1 in /usr/local/lib/python3.10/dist-packages (from huggingface_hub<1.0,>=0.16.4->tokenizers) (4.66.1)\n",
            "Requirement already satisfied: pyyaml>=5.1 in /usr/local/lib/python3.10/dist-packages (from huggingface_hub<1.0,>=0.16.4->tokenizers) (6.0.1)\n",
            "Requirement already satisfied: typing-extensions>=3.7.4.3 in /usr/local/lib/python3.10/dist-packages (from huggingface_hub<1.0,>=0.16.4->tokenizers) (4.5.0)\n",
            "Requirement already satisfied: packaging>=20.9 in /usr/local/lib/python3.10/dist-packages (from huggingface_hub<1.0,>=0.16.4->tokenizers) (23.2)\n",
            "Requirement already satisfied: charset-normalizer<4,>=2 in /usr/local/lib/python3.10/dist-packages (from requests->huggingface_hub<1.0,>=0.16.4->tokenizers) (3.3.2)\n",
            "Requirement already satisfied: idna<4,>=2.5 in /usr/local/lib/python3.10/dist-packages (from requests->huggingface_hub<1.0,>=0.16.4->tokenizers) (3.6)\n",
            "Requirement already satisfied: urllib3<3,>=1.21.1 in /usr/local/lib/python3.10/dist-packages (from requests->huggingface_hub<1.0,>=0.16.4->tokenizers) (2.0.7)\n",
            "Requirement already satisfied: certifi>=2017.4.17 in /usr/local/lib/python3.10/dist-packages (from requests->huggingface_hub<1.0,>=0.16.4->tokenizers) (2023.11.17)\n",
            "Requirement already satisfied: pytorch-crf in /usr/local/lib/python3.10/dist-packages (0.7.2)\n"
          ]
        }
      ],
      "source": [
        "!pip install py_vncorenlp\n",
        "!pip install transformers\n",
        "!pip install tokenizers\n",
        "!pip install pytorch-crf"
      ]
    },
    {
      "cell_type": "code",
      "source": [
        "from google.colab import drive\n",
        "drive.mount('/content/drive')"
      ],
      "metadata": {
        "id": "EO6rwHvrb343",
        "colab": {
          "base_uri": "https://localhost:8080/"
        },
        "outputId": "6ec2bbec-bf31-4954-fa4f-3fb3ac44da1a"
      },
      "execution_count": 3,
      "outputs": [
        {
          "output_type": "stream",
          "name": "stdout",
          "text": [
            "Mounted at /content/drive\n"
          ]
        }
      ]
    },
    {
      "cell_type": "markdown",
      "source": [
        "## Load word sementator and tokenizer"
      ],
      "metadata": {
        "id": "WPRRvIVxlj8Q"
      }
    },
    {
      "cell_type": "code",
      "source": [
        "import pandas as pd\n",
        "import numpy as np\n",
        "import py_vncorenlp\n",
        "from transformers import AutoModel, AutoTokenizer\n",
        "\n",
        "rdrsegmenter = py_vncorenlp.VnCoreNLP(annotators=[\"wseg\"], save_dir='/content/drive/MyDrive/NCKH_KLTN/Thuc_nghiem/vn_corenlp_2')\n",
        "tokenizer = AutoTokenizer.from_pretrained(\"vinai/phobert-base\")"
      ],
      "metadata": {
        "id": "RUkonaHUb7El",
        "colab": {
          "base_uri": "https://localhost:8080/",
          "height": 145,
          "referenced_widgets": [
            "21d63605d2c741ed9b8f7c5fa8444f94",
            "0ccc817656964643ac16f799cea8aec3",
            "da99e4ee313e41a990f31016fab50b2a",
            "17df40dfc9964ee4a9ff1510e1ed8daa",
            "ea6d11ae78b44e7cb92d6212537bca1a",
            "dedd919694dd48f9b785f52a01f1cc6c",
            "36b8dec396f74e7282acd9e00a920409",
            "97cefd2899964c57bb0567b63e94354a",
            "72e713b81c5e47bb8749ffe6be377f92",
            "047769a40aea491d9d6208a4b2fd3088",
            "61fddbb3294b4689a1667c4f0fb25d31",
            "f25054e1970146aeb4618d7cf29593d1",
            "ec54772a63534e37bfe5145b1d254146",
            "17147df5fe2c48fda08ab17b9bdac17a",
            "dcf037b074bb4e3ab1005e23599d3ecb",
            "342ac7ff9fea426d9b060549c63714a5",
            "12f0402a4f6e40ee8843fd45a0f4f2b8",
            "27a6b72ee214441ea45da5fbe2fbc259",
            "6190ad6d1fcc47728b68fdb18b71a65b",
            "50ad17bf5b8147f9ac18334fefbd607b",
            "a78e667046ba4c4997bfffba4abaccaa",
            "c07fb0d471b64197b1b64216766d2f13",
            "f29698c32a154e5896ca695eb0e5533f",
            "5a4107fbb2e545e8b3567081ad63cb5f",
            "c730094bc33b4b09bcfd3dbe0dde0f5b",
            "00bc0254788f4499b06dd63969e4380c",
            "8edf34ae69ed4a7aaf43cedee0f1a759",
            "2143167eacf149e4957414cd94acf7f0",
            "46b6a0e102c64cc6aced840f9b9e9278",
            "8e438fbcb4bf436f99bd35efdbfeaa6b",
            "0c1f9a21f40a4693a78884037e0ccce0",
            "38e2c7c29a3342e7b864b52ad4f691b1",
            "77bc95f961dd48188af80401281b4331",
            "ce1d05f72275478489725a2f83948e30",
            "0632b2b4238d4bfe998dbb381cc708d2",
            "49419ddf9db648c1b8e57c7e12346ec5",
            "a201c7c1fabb4eb1a722d2bba4567e00",
            "3734a3ec78f94cf59ff4e0babc94a958",
            "393c15651c3b493f8e130403a1de6521",
            "68101b4570764292a97f5f1728f45e73",
            "2247306e962d4379825a70ede8729db5",
            "0e9243724aa24d078f948e979dc461b2",
            "544d0de8f4e44661aa8dacd670385480",
            "6098fd5fdd67473db779a428f14c38f9"
          ]
        },
        "outputId": "cb2c3bfd-6e8d-4470-ad5b-91380b7c1e61"
      },
      "execution_count": 4,
      "outputs": [
        {
          "output_type": "display_data",
          "data": {
            "text/plain": [
              "config.json:   0%|          | 0.00/557 [00:00<?, ?B/s]"
            ],
            "application/vnd.jupyter.widget-view+json": {
              "version_major": 2,
              "version_minor": 0,
              "model_id": "21d63605d2c741ed9b8f7c5fa8444f94"
            }
          },
          "metadata": {}
        },
        {
          "output_type": "display_data",
          "data": {
            "text/plain": [
              "vocab.txt:   0%|          | 0.00/895k [00:00<?, ?B/s]"
            ],
            "application/vnd.jupyter.widget-view+json": {
              "version_major": 2,
              "version_minor": 0,
              "model_id": "f25054e1970146aeb4618d7cf29593d1"
            }
          },
          "metadata": {}
        },
        {
          "output_type": "display_data",
          "data": {
            "text/plain": [
              "bpe.codes:   0%|          | 0.00/1.14M [00:00<?, ?B/s]"
            ],
            "application/vnd.jupyter.widget-view+json": {
              "version_major": 2,
              "version_minor": 0,
              "model_id": "f29698c32a154e5896ca695eb0e5533f"
            }
          },
          "metadata": {}
        },
        {
          "output_type": "display_data",
          "data": {
            "text/plain": [
              "tokenizer.json:   0%|          | 0.00/3.13M [00:00<?, ?B/s]"
            ],
            "application/vnd.jupyter.widget-view+json": {
              "version_major": 2,
              "version_minor": 0,
              "model_id": "ce1d05f72275478489725a2f83948e30"
            }
          },
          "metadata": {}
        }
      ]
    },
    {
      "cell_type": "code",
      "source": [
        "import torch\n",
        "import torch.nn as nn\n",
        "import torch.nn.functional as F\n",
        "from torchcrf import CRF"
      ],
      "metadata": {
        "id": "vVAgXfwSJyHZ"
      },
      "execution_count": 5,
      "outputs": []
    },
    {
      "cell_type": "code",
      "source": [
        "use_cuda = torch.cuda.is_available()\n",
        "device = torch.device(\"cuda\" if use_cuda else \"cpu\")\n",
        "MAX_LENGTH_SENTENCE = 256"
      ],
      "metadata": {
        "id": "kOB_9HbKKhsp"
      },
      "execution_count": 6,
      "outputs": []
    },
    {
      "cell_type": "markdown",
      "source": [
        "## PreProcessing"
      ],
      "metadata": {
        "id": "C5_DkpTwZoq9"
      }
    },
    {
      "cell_type": "markdown",
      "source": [
        "### Định nghĩa các hàm mapping words to bert token"
      ],
      "metadata": {
        "id": "Uide0Mj-m7m-"
      }
    },
    {
      "cell_type": "code",
      "source": [
        "def token_bert_mapping(tokenized_stc, seq_gold_token):\n",
        "    seq_map, bert_index, token_index = {0: -1}, 1, 0\n",
        "    seq_bert_token = tokenizer.convert_ids_to_tokens(tokenized_stc[\"input_ids\"][0])\n",
        "\n",
        "    print(seq_bert_token)\n",
        "    print(seq_gold_token)\n",
        "    while bert_index < len(seq_bert_token) and token_index < len(seq_gold_token):   # check chưa hết câu văn (không tính 'PAD')\n",
        "        # print(index)\n",
        "        seq_map[bert_index] = token_index  # khởi tạo\n",
        "\n",
        "\n",
        "        # [UNK] denote special symbol\n",
        "        if seq_bert_token[bert_index] == \"<unk>\":\n",
        "            bert_index = bert_index + 1\n",
        "            token_index = token_index + 1\n",
        "            continue\n",
        "\n",
        "        # get cur index correspond length\n",
        "        token_length = len(seq_gold_token[token_index])     # độ dài của token\n",
        "        bert_length = len(seq_bert_token[bert_index])       # độ dài của bert_token\n",
        "\n",
        "        # drop \"@@\" prefix\n",
        "        if seq_bert_token[bert_index].find(\"@@\") != -1:     # tìm thấy subword\n",
        "            bert_length = len(seq_bert_token[bert_index]) - 2   # sẽ không tính '@@', độ dài thực tế của bert_length phải trừ đi 2\n",
        "\n",
        "        while token_length > bert_length:                       # chừng nào bert_length < token_length thì chưa đúng\n",
        "            bert_index += 1\n",
        "            seq_map[bert_index] = token_index\n",
        "            bert_length += len(seq_bert_token[bert_index])\n",
        "            if seq_bert_token[bert_index].find(\"@@\") != -1:     # nếu vẫn còn subword, lặp lại quy trình\n",
        "                bert_length -= 2\n",
        "\n",
        "        assert bert_length == token_length, \"appear mapping error! {}?{}\\n{}\\n{}\".format(bert_length, token_length, seq_gold_token, seq_bert_token)\n",
        "\n",
        "        token_index = token_index + 1       # cập nhật index\n",
        "        bert_index = bert_index + 1         # cập nhật index\n",
        "\n",
        "    # Do độ dài seq_bert_token lớn hơn seq_gold_token 2 (thêm '<s>' và '</s>')\n",
        "    seq_map[bert_index] = -1    # token_index đã out of range, còn bert_index sẽ là '</s>'\n",
        "\n",
        "    return seq_map"
      ],
      "metadata": {
        "id": "SDShs1HmSyVe"
      },
      "execution_count": 23,
      "outputs": []
    },
    {
      "cell_type": "code",
      "source": [
        "from collections import defaultdict\n",
        "\n",
        "def mapping_output_to_actual_seq(segmented_stc_list, mapping_dict, y_pred):\n",
        "    output = y_pred          # output hiện tại, kích thước 256\n",
        "    assert len(output) == MAX_LENGTH_SENTENCE, {f'Error: {len(output)}'}\n",
        "\n",
        "    # chuyển đổi dict từ bert2gold về gold2bert\n",
        "    dict_bert2gold = mapping_dict\n",
        "    dict_gold2bert = defaultdict(list)\n",
        "    for key, value in dict_bert2gold.items():\n",
        "        if value == -1:\n",
        "            continue\n",
        "        dict_gold2bert[value].append(key)\n",
        "\n",
        "    # bỏ padding\n",
        "    trancated_output = output[:len(dict_bert2gold)]\n",
        "\n",
        "    pred = []\n",
        "    for key in dict_gold2bert.keys():\n",
        "        pred.append(trancated_output[dict_gold2bert[key][0]])\n",
        "\n",
        "    assert len(pred) == len(segmented_stc_list), 'Đầu ra không bằng độ dài câu ban đầu'\n",
        "    final_output = ''\n",
        "    for i, token_label in enumerate(pred):\n",
        "        if token_label == 1:\n",
        "            final_output += segmented_stc_list[i] + ' '\n",
        "    return final_output[:-1]"
      ],
      "metadata": {
        "id": "ND6eQ_MP_GiD"
      },
      "execution_count": 24,
      "outputs": []
    },
    {
      "cell_type": "markdown",
      "source": [
        "### Định nghĩa hàm Preprocessing"
      ],
      "metadata": {
        "id": "f3ilaQiur2jc"
      }
    },
    {
      "cell_type": "code",
      "source": [
        "def preprocessing(stc):\n",
        "    segmented_stc =  rdrsegmenter.word_segment(stc)\n",
        "    assert len(segmented_stc) == 1\n",
        "    segmented_stc_list = segmented_stc[0].split(' ')\n",
        "\n",
        "    tokenized_stc = tokenizer(segmented_stc, padding='max_length', max_length = MAX_LENGTH_SENTENCE, truncation=True, return_tensors=\"pt\")\n",
        "    mapping_dict = token_bert_mapping(tokenized_stc, segmented_stc_list)\n",
        "\n",
        "    return segmented_stc_list, tokenized_stc, mapping_dict"
      ],
      "metadata": {
        "id": "A_-A5QPrcl52"
      },
      "execution_count": 9,
      "outputs": []
    },
    {
      "cell_type": "code",
      "source": [
        "# print(preprocessing('Nhìn vào những thông số kích thước trên , VinFast Lux SA2.0 đang nhỉnh hơn Kia Sorento về mọi chỉ số , điều này giúp xe vạm vỡ hơn khi nhìn từ phần thân'))"
      ],
      "metadata": {
        "id": "hCe6vVTmEmAy"
      },
      "execution_count": 10,
      "outputs": []
    },
    {
      "cell_type": "markdown",
      "source": [
        "## Định nghĩa pha 1"
      ],
      "metadata": {
        "id": "NKhjBKJVZyZh"
      }
    },
    {
      "cell_type": "markdown",
      "source": [
        "### Định nghĩa mô hình CSI"
      ],
      "metadata": {
        "id": "scoyHRo5lI2o"
      }
    },
    {
      "cell_type": "code",
      "source": [
        "class CSI_model(nn.Module):\n",
        "    def __init__(self):\n",
        "        super(CSI_model, self).__init__()\n",
        "        self.bert = AutoModel.from_pretrained('vinai/phobert-base')\n",
        "        self.dropout1 = nn.Dropout(p = 0.2)\n",
        "        self.linear1 = nn.Linear(self.bert.config.hidden_size, 384)\n",
        "        self.dropout2 = nn.Dropout(p = 0.2)\n",
        "        self.linear2 = nn.Linear(384, 192)\n",
        "        self.dropout3 = nn.Dropout(p = 0.2)\n",
        "        self.linear3 = nn.Linear(192, 96)\n",
        "        self.dropout4 = nn.Dropout(p = 0.2)\n",
        "        self.linear4 = nn.Linear(96, 3)\n",
        "        # self.relu2 = nn.ReLU()\n",
        "        # self.sigmoid = nn.Sigmoid()\n",
        "\n",
        "    def forward(self, input_id, mask):\n",
        "        last_hidden_state, pooled_output = self.bert(input_ids= input_id, attention_mask=mask,return_dict=False)\n",
        "        dropout_output1 = self.dropout1(pooled_output)\n",
        "        linear_output_1 = self.linear1(dropout_output1)\n",
        "        dropout_output2 = self.dropout2(linear_output_1)\n",
        "        linear_output_2 = self.linear2(dropout_output2)\n",
        "        dropout_output3 = self.dropout3(linear_output_2)\n",
        "        linear_output_3 = self.linear3(dropout_output3)\n",
        "        dropout_output4 = self.dropout4(linear_output_3)\n",
        "        linear_output_4 = self.linear4(dropout_output4)\n",
        "        # linear_output_2_relu = self.relu2(linear_output_2)\n",
        "        return linear_output_4"
      ],
      "metadata": {
        "id": "-Y5y2gN0MrqV"
      },
      "execution_count": 11,
      "outputs": []
    },
    {
      "cell_type": "markdown",
      "source": [
        "### Định nghĩa hàm phase 1"
      ],
      "metadata": {
        "id": "rKwBU6jWlT06"
      }
    },
    {
      "cell_type": "code",
      "source": [
        "def phase_1_processing(tokenized_stc, phase1_model):\n",
        "    mask = tokenized_stc['attention_mask'].to(device)\n",
        "    input_id = tokenized_stc['input_ids'].squeeze(1).to(device)\n",
        "\n",
        "    phase1_model.eval()\n",
        "    output = phase1_model(input_id, mask).to(device)\n",
        "\n",
        "    _, phase_1_pred = torch.max(torch.softmax(output, dim=1), dim=1)\n",
        "    return phase_1_pred"
      ],
      "metadata": {
        "id": "qXVHyjlRKZUg"
      },
      "execution_count": 12,
      "outputs": []
    },
    {
      "cell_type": "markdown",
      "source": [
        "## Định nghĩa pha 2"
      ],
      "metadata": {
        "id": "BB08nzgLZ4cj"
      }
    },
    {
      "cell_type": "markdown",
      "source": [
        "### Định nghĩa mô hình joint CEE-SC"
      ],
      "metadata": {
        "id": "0-ug7bgyMVc0"
      }
    },
    {
      "cell_type": "code",
      "source": [
        "class CRFCell(nn.Module):\n",
        "    def __init__(self, num_classes, batch_first=True):\n",
        "        super(CRFCell, self).__init__()\n",
        "        self.crf = CRF(num_tags=num_classes, batch_first=batch_first)\n",
        "\n",
        "    def forward(self, feature, mask, target):\n",
        "        mask = mask.bool()\n",
        "        # feature : batch_size * seq_length * num_tags\n",
        "        # mask : batch_size * seq_length\n",
        "        # target : batch_size * seq_length\n",
        "\n",
        "        # target is None means decode sequence\n",
        "        if target is None:\n",
        "            max_seq_len = feature.size(1)\n",
        "            output = self.crf.decode(feature, mask)\n",
        "            output = torch.as_tensor(\n",
        "                [e + [0] * (max_seq_len - len(e)) for e in output],\n",
        "                dtype=torch.long,\n",
        "                device=feature.device\n",
        "            )\n",
        "\n",
        "        # target is not None means get loss\n",
        "        else:\n",
        "            output = self.crf(feature, target, mask, reduction='mean')\n",
        "            output = output.neg()      # output: BATCH_SIZE\n",
        "        return output"
      ],
      "metadata": {
        "id": "vpsKOxE8KJ4e"
      },
      "execution_count": 13,
      "outputs": []
    },
    {
      "cell_type": "code",
      "source": [
        "class CEE_SC_model(torch.nn.Module):\n",
        "    def __init__(self, model_type, model_config):\n",
        "        super(CEE_SC_model, self).__init__()\n",
        "\n",
        "        self.model_type = model_type\n",
        "        self.gamma_sc = model_config.get('gamma_sc')\n",
        "        self.gamma_cee = model_config.get('gamma_cee')\n",
        "        self.encoder = AutoModel.from_pretrained('vinai/phobert-base')\n",
        "        self.embedding_dropout = nn.Dropout(p = model_config.get('dropout_threshold'))\n",
        "\n",
        "        self.sentiment_linear_1 = nn.Linear(self.encoder.config.hidden_size, 96)\n",
        "        self.sentiment_linear_2 = nn.Linear(96, 3)                              # better, equal, worse\n",
        "\n",
        "        self.subject_linear =  nn.Linear(self.encoder.config.hidden_size, 2)\n",
        "        self.object_linear =  nn.Linear(self.encoder.config.hidden_size, 2)\n",
        "        self.aspect_linear = nn.Linear(self.encoder.config.hidden_size, 2)\n",
        "\n",
        "        self.crf_subject_layer = CRFCell(2, batch_first = True)\n",
        "        self.crf_object_layer = CRFCell(2, batch_first = True)\n",
        "        self.crf_aspect_layer = CRFCell(2, batch_first = True)\n",
        "\n",
        "\n",
        "    def forward(self, input_ids, attn_mask, sentiment_label=None, sub=None, obj=None, aspect=None):\n",
        "        # get hidden representation (token embedding)\n",
        "        token_embedding, pooled_output = self.encoder(input_ids, attn_mask, return_dict=False) # token_embedding = last_hidden_state\n",
        "        batch_size, sequence_length, hidden_size = token_embedding.size()\n",
        "\n",
        "        # drop out\n",
        "        final_embedding = self.embedding_dropout(token_embedding)       # batch_size * sequence_length * hidden_size\n",
        "        # class_embedding = self.embedding_dropout(pooled_output)\n",
        "\n",
        "        # linear mapping.\n",
        "        subject_linear_output = self.subject_linear(final_embedding)    # batch_size * sequence_length * num_label\n",
        "        object_linear_output = self.object_linear(final_embedding)      # tức là bây h mỗi token chỉ được biểu diễn bởi vector 3 giá trị\n",
        "        aspect_linear_output = self.aspect_linear(final_embedding)\n",
        "\n",
        "        # get SC\n",
        "        sentiment_avg_output = torch.mean(final_embedding, dim = 1)     # batch_size * hidden_size\n",
        "        sentiment_linear_1_output = self.sentiment_linear_1(sentiment_avg_output)    # batch_size * 96\n",
        "        sentiment_class_prob = self.sentiment_linear_2(sentiment_linear_1_output)     # batch_size * 3\n",
        "        # sent_class_prob = self.sent_linear(class_embedding)\n",
        "\n",
        "        # TESTING: Chỉ lấy đầu ra\n",
        "        if sub is None and sentiment_label is None and obj is None and aspect is None:\n",
        "            sentiment_class_output = sentiment_class_prob                       # batch_size * num_label\n",
        "\n",
        "            subject_crf_output = self.crf_subject_layer(subject_linear_output, attn_mask, None)     # batch_size * sequence_length\n",
        "            object_crf_output = self.crf_object_layer(object_linear_output, attn_mask, None)\n",
        "            aspect_crf_output = self.crf_aspect_layer(aspect_linear_output, attn_mask, None)\n",
        "\n",
        "            return sentiment_class_output, subject_crf_output, object_crf_output, aspect_crf_output\n",
        "\n",
        "        # TRAINING: Lấy loss\n",
        "        sentiment_loss = F.cross_entropy(sentiment_class_prob, sentiment_label.view(-1).to(device))\n",
        "\n",
        "        sub_loss = self.crf_subject_layer(subject_linear_output, attn_mask, sub.to(device))\n",
        "        obj_loss = self.crf_object_layer(object_linear_output, attn_mask, obj.to(device))\n",
        "        asp_loss = self.crf_aspect_layer(aspect_linear_output, attn_mask, aspect.to(device))\n",
        "        element_loss = sub_loss + obj_loss + asp_loss\n",
        "\n",
        "        # according different model type to get different loss type.\n",
        "        if self.model_type == \"classification\":\n",
        "            return sentiment_loss\n",
        "        elif self.model_type == \"extraction\":\n",
        "            return element_loss\n",
        "        else:\n",
        "            assert self.model_type == 'joint'\n",
        "            return self.gamma_sc * sentiment_loss + self.gamma_cee * element_loss"
      ],
      "metadata": {
        "id": "WmV624qxMsu3"
      },
      "execution_count": 14,
      "outputs": []
    },
    {
      "cell_type": "markdown",
      "source": [
        "### Định nghĩa hàm phase 2"
      ],
      "metadata": {
        "id": "JJfvSR5myViv"
      }
    },
    {
      "cell_type": "code",
      "source": [
        "def phase_2_processing(segmented_stc, processed_stc, mapping_dict, phase_2_model):\n",
        "    mask = processed_stc['attention_mask'].to(device)\n",
        "    input_id = processed_stc['input_ids'].squeeze(1).to(device)\n",
        "\n",
        "    phase_2_model.eval()\n",
        "    sent_output_pred, sub_pred, obj_pred, aspect_pred = phase_2_model(input_id, mask)\n",
        "\n",
        "    # print(sent_output_pred.shape)\n",
        "    # print(sub_pred.shape)\n",
        "\n",
        "    _, sentiment_pred = torch.max(torch.softmax(sent_output_pred, dim=1), dim=1)\n",
        "    sub = mapping_output_to_actual_seq(segmented_stc, mapping_dict, sub_pred[0])\n",
        "    obj = mapping_output_to_actual_seq(segmented_stc, mapping_dict, obj_pred[0])\n",
        "    aspect = mapping_output_to_actual_seq(segmented_stc, mapping_dict, aspect_pred[0])\n",
        "\n",
        "    sentiment_dict = {0: 'Worse', 1 : 'Equal', 2 : 'Better'}\n",
        "    return {'Subject' : sub , 'Object' : obj, 'Aspect' : aspect, 'Sentiment' : sentiment_dict[sentiment_pred.item()]}"
      ],
      "metadata": {
        "id": "RVBHD-ndLAIP"
      },
      "execution_count": 15,
      "outputs": []
    },
    {
      "cell_type": "markdown",
      "source": [
        "## Main"
      ],
      "metadata": {
        "id": "HS7B4RNwnGZ7"
      }
    },
    {
      "cell_type": "code",
      "source": [
        "def main(stc, phase1_model, phase2_model):\n",
        "    # Data Preprocessing\n",
        "    print(\"========= Pre Processing =========\")\n",
        "    segmented_stc_list, tokenized_stc, mapping_dict = preprocessing(stc)\n",
        "\n",
        "    print(\"\\n========= Compapative Opinion Mining =========\")\n",
        "    # Phase 1 Processing\n",
        "    phaseI_output = phase_1_processing(tokenized_stc, phase1_model).item()\n",
        "    # print('Nhãn pha 1: ', phaseI_output)\n",
        "\n",
        "    # Phase 2 Processing\n",
        "    if phaseI_output == 0:\n",
        "        return \"Prediction: Non Comparative Sentence.\"\n",
        "    elif phaseI_output == 1:\n",
        "        return \"Prediction: Non-gradable Comparative Sentence.\"\n",
        "    else:\n",
        "        phaseII_output = phase_2_processing(segmented_stc_list, tokenized_stc, mapping_dict, phase2_model)\n",
        "        return f\"Prediction: Gradable Comparative Sentence:\\n{phaseII_output}\""
      ],
      "metadata": {
        "id": "F405USSSHF1-"
      },
      "execution_count": 27,
      "outputs": []
    },
    {
      "cell_type": "markdown",
      "source": [
        "### Load mô hình"
      ],
      "metadata": {
        "id": "juSsGYNmHGo6"
      }
    },
    {
      "cell_type": "code",
      "source": [
        "phase1_model = CSI_model()\n",
        "phase1_model.load_state_dict(torch.load('/content/drive/MyDrive/phase2_saved_model/csi_model.pth'))\n",
        "phase1_model.cuda()\n",
        "if torch.cuda.device_count() > 1:\n",
        "    phase1_model = nn.DataParallel(phase1_model)\n",
        "    phase1_model = phase1_model.module"
      ],
      "metadata": {
        "id": "bKaXQ3kKh-Rl"
      },
      "execution_count": null,
      "outputs": []
    },
    {
      "cell_type": "code",
      "source": [
        "model_config = {\n",
        "    'gamma_sc' : 1,\n",
        "    'gamma_cee' : 1,\n",
        "    'dropout_threshold' : 0\n",
        "}\n",
        "\n",
        "phase2_model = CEE_SC_model('joint', model_config)\n",
        "phase2_model.load_state_dict(torch.load('/content/drive/MyDrive/phase2_saved_model/joint_model.pth'))\n",
        "phase2_model.cuda()\n",
        "if torch.cuda.device_count() > 1:\n",
        "    phase2_model = nn.DataParallel(phase2_model)\n",
        "    phase2_model = phase2_model.module"
      ],
      "metadata": {
        "id": "WDKWVRFLncv9"
      },
      "execution_count": null,
      "outputs": []
    },
    {
      "cell_type": "markdown",
      "source": [
        "### Demo"
      ],
      "metadata": {
        "id": "J7YzEX2ycLHE"
      }
    },
    {
      "cell_type": "code",
      "source": [
        "example_stc = \"Honda CR-V 1.5L có cùng giá bán với V-Series 2.5 SV Luxury, ở mức 1,083 tỷ đồng\""
      ],
      "metadata": {
        "id": "DKJDdzHEIyIE"
      },
      "execution_count": 19,
      "outputs": []
    },
    {
      "cell_type": "code",
      "source": [
        "output = main(example_stc, phase1_model, phase2_model)\n",
        "print(output)"
      ],
      "metadata": {
        "id": "DK9kWrJiKNbS",
        "colab": {
          "base_uri": "https://localhost:8080/"
        },
        "outputId": "db9232d0-086a-40a8-dd29-3a9d9cec2b7c"
      },
      "execution_count": 28,
      "outputs": [
        {
          "output_type": "stream",
          "name": "stdout",
          "text": [
            "========= Pre Processing =========\n",
            "['<s>', 'Honda', 'CR-V', '1.5', 'L', 'có', 'cùng', 'giá', 'bán', 'với', 'V-@@', 'Series', '2.5', 'SV', 'Luxury', ',', 'ở', 'mức', '1,0@@', '83', 'tỷ', 'đồng', '</s>', '<pad>', '<pad>', '<pad>', '<pad>', '<pad>', '<pad>', '<pad>', '<pad>', '<pad>', '<pad>', '<pad>', '<pad>', '<pad>', '<pad>', '<pad>', '<pad>', '<pad>', '<pad>', '<pad>', '<pad>', '<pad>', '<pad>', '<pad>', '<pad>', '<pad>', '<pad>', '<pad>', '<pad>', '<pad>', '<pad>', '<pad>', '<pad>', '<pad>', '<pad>', '<pad>', '<pad>', '<pad>', '<pad>', '<pad>', '<pad>', '<pad>', '<pad>', '<pad>', '<pad>', '<pad>', '<pad>', '<pad>', '<pad>', '<pad>', '<pad>', '<pad>', '<pad>', '<pad>', '<pad>', '<pad>', '<pad>', '<pad>', '<pad>', '<pad>', '<pad>', '<pad>', '<pad>', '<pad>', '<pad>', '<pad>', '<pad>', '<pad>', '<pad>', '<pad>', '<pad>', '<pad>', '<pad>', '<pad>', '<pad>', '<pad>', '<pad>', '<pad>', '<pad>', '<pad>', '<pad>', '<pad>', '<pad>', '<pad>', '<pad>', '<pad>', '<pad>', '<pad>', '<pad>', '<pad>', '<pad>', '<pad>', '<pad>', '<pad>', '<pad>', '<pad>', '<pad>', '<pad>', '<pad>', '<pad>', '<pad>', '<pad>', '<pad>', '<pad>', '<pad>', '<pad>', '<pad>', '<pad>', '<pad>', '<pad>', '<pad>', '<pad>', '<pad>', '<pad>', '<pad>', '<pad>', '<pad>', '<pad>', '<pad>', '<pad>', '<pad>', '<pad>', '<pad>', '<pad>', '<pad>', '<pad>', '<pad>', '<pad>', '<pad>', '<pad>', '<pad>', '<pad>', '<pad>', '<pad>', '<pad>', '<pad>', '<pad>', '<pad>', '<pad>', '<pad>', '<pad>', '<pad>', '<pad>', '<pad>', '<pad>', '<pad>', '<pad>', '<pad>', '<pad>', '<pad>', '<pad>', '<pad>', '<pad>', '<pad>', '<pad>', '<pad>', '<pad>', '<pad>', '<pad>', '<pad>', '<pad>', '<pad>', '<pad>', '<pad>', '<pad>', '<pad>', '<pad>', '<pad>', '<pad>', '<pad>', '<pad>', '<pad>', '<pad>', '<pad>', '<pad>', '<pad>', '<pad>', '<pad>', '<pad>', '<pad>', '<pad>', '<pad>', '<pad>', '<pad>', '<pad>', '<pad>', '<pad>', '<pad>', '<pad>', '<pad>', '<pad>', '<pad>', '<pad>', '<pad>', '<pad>', '<pad>', '<pad>', '<pad>', '<pad>', '<pad>', '<pad>', '<pad>', '<pad>', '<pad>', '<pad>', '<pad>', '<pad>', '<pad>', '<pad>', '<pad>', '<pad>', '<pad>', '<pad>', '<pad>', '<pad>', '<pad>', '<pad>', '<pad>', '<pad>', '<pad>', '<pad>', '<pad>', '<pad>', '<pad>', '<pad>', '<pad>', '<pad>', '<pad>', '<pad>', '<pad>', '<pad>', '<pad>', '<pad>', '<pad>']\n",
            "['Honda', 'CR-V', '1.5', 'L', 'có', 'cùng', 'giá', 'bán', 'với', 'V-Series', '2.5', 'SV', 'Luxury', ',', 'ở', 'mức', '1,083', 'tỷ', 'đồng']\n",
            "\n",
            "========= Compapative Opinion Mining =========\n",
            "Prediction: Gradable Comparative Sentence:\n",
            " {'Subject': 'Honda CR-V 1.5 L', 'Object': 'V-Series 2.5 SV Luxury', 'Aspect': 'giá bán', 'Sentiment': 'Equal'}\n"
          ]
        }
      ]
    },
    {
      "cell_type": "code",
      "source": [
        "example_stc = \"Toyota Camry có động cơ 2.8L\"\n",
        "output = main(example_stc, phase1_model, phase2_model)\n",
        "print(output)"
      ],
      "metadata": {
        "colab": {
          "base_uri": "https://localhost:8080/"
        },
        "id": "4edzjEjvc_oY",
        "outputId": "00b5209e-61c8-4324-ab3a-da7d2eb273d6"
      },
      "execution_count": 37,
      "outputs": [
        {
          "output_type": "stream",
          "name": "stdout",
          "text": [
            "========= Pre Processing =========\n",
            "['<s>', 'Toyota', 'Camry', 'có', 'động_cơ', '2.8', 'L', '</s>', '<pad>', '<pad>', '<pad>', '<pad>', '<pad>', '<pad>', '<pad>', '<pad>', '<pad>', '<pad>', '<pad>', '<pad>', '<pad>', '<pad>', '<pad>', '<pad>', '<pad>', '<pad>', '<pad>', '<pad>', '<pad>', '<pad>', '<pad>', '<pad>', '<pad>', '<pad>', '<pad>', '<pad>', '<pad>', '<pad>', '<pad>', '<pad>', '<pad>', '<pad>', '<pad>', '<pad>', '<pad>', '<pad>', '<pad>', '<pad>', '<pad>', '<pad>', '<pad>', '<pad>', '<pad>', '<pad>', '<pad>', '<pad>', '<pad>', '<pad>', '<pad>', '<pad>', '<pad>', '<pad>', '<pad>', '<pad>', '<pad>', '<pad>', '<pad>', '<pad>', '<pad>', '<pad>', '<pad>', '<pad>', '<pad>', '<pad>', '<pad>', '<pad>', '<pad>', '<pad>', '<pad>', '<pad>', '<pad>', '<pad>', '<pad>', '<pad>', '<pad>', '<pad>', '<pad>', '<pad>', '<pad>', '<pad>', '<pad>', '<pad>', '<pad>', '<pad>', '<pad>', '<pad>', '<pad>', '<pad>', '<pad>', '<pad>', '<pad>', '<pad>', '<pad>', '<pad>', '<pad>', '<pad>', '<pad>', '<pad>', '<pad>', '<pad>', '<pad>', '<pad>', '<pad>', '<pad>', '<pad>', '<pad>', '<pad>', '<pad>', '<pad>', '<pad>', '<pad>', '<pad>', '<pad>', '<pad>', '<pad>', '<pad>', '<pad>', '<pad>', '<pad>', '<pad>', '<pad>', '<pad>', '<pad>', '<pad>', '<pad>', '<pad>', '<pad>', '<pad>', '<pad>', '<pad>', '<pad>', '<pad>', '<pad>', '<pad>', '<pad>', '<pad>', '<pad>', '<pad>', '<pad>', '<pad>', '<pad>', '<pad>', '<pad>', '<pad>', '<pad>', '<pad>', '<pad>', '<pad>', '<pad>', '<pad>', '<pad>', '<pad>', '<pad>', '<pad>', '<pad>', '<pad>', '<pad>', '<pad>', '<pad>', '<pad>', '<pad>', '<pad>', '<pad>', '<pad>', '<pad>', '<pad>', '<pad>', '<pad>', '<pad>', '<pad>', '<pad>', '<pad>', '<pad>', '<pad>', '<pad>', '<pad>', '<pad>', '<pad>', '<pad>', '<pad>', '<pad>', '<pad>', '<pad>', '<pad>', '<pad>', '<pad>', '<pad>', '<pad>', '<pad>', '<pad>', '<pad>', '<pad>', '<pad>', '<pad>', '<pad>', '<pad>', '<pad>', '<pad>', '<pad>', '<pad>', '<pad>', '<pad>', '<pad>', '<pad>', '<pad>', '<pad>', '<pad>', '<pad>', '<pad>', '<pad>', '<pad>', '<pad>', '<pad>', '<pad>', '<pad>', '<pad>', '<pad>', '<pad>', '<pad>', '<pad>', '<pad>', '<pad>', '<pad>', '<pad>', '<pad>', '<pad>', '<pad>', '<pad>', '<pad>', '<pad>', '<pad>', '<pad>', '<pad>', '<pad>', '<pad>', '<pad>', '<pad>', '<pad>', '<pad>', '<pad>', '<pad>', '<pad>', '<pad>', '<pad>', '<pad>', '<pad>']\n",
            "['Toyota', 'Camry', 'có', 'động_cơ', '2.8', 'L']\n",
            "\n",
            "========= Compapative Opinion Mining =========\n",
            "Prediction: Non Comparative Sentence.\n"
          ]
        }
      ]
    },
    {
      "cell_type": "code",
      "source": [
        "example_stc = \"Toyota Camry có động cơ mạnh hơn Xpander\"\n",
        "output = main(example_stc, phase1_model, phase2_model)\n",
        "print(output)"
      ],
      "metadata": {
        "colab": {
          "base_uri": "https://localhost:8080/"
        },
        "id": "wrMfFB0Md_R3",
        "outputId": "c20ced61-16f3-45ee-d816-759df7104c96"
      },
      "execution_count": 38,
      "outputs": [
        {
          "output_type": "stream",
          "name": "stdout",
          "text": [
            "========= Pre Processing =========\n",
            "['<s>', 'Toyota', 'Camry', 'có', 'động_cơ', 'mạnh', 'hơn', 'X@@', 'p@@', 'ander', '</s>', '<pad>', '<pad>', '<pad>', '<pad>', '<pad>', '<pad>', '<pad>', '<pad>', '<pad>', '<pad>', '<pad>', '<pad>', '<pad>', '<pad>', '<pad>', '<pad>', '<pad>', '<pad>', '<pad>', '<pad>', '<pad>', '<pad>', '<pad>', '<pad>', '<pad>', '<pad>', '<pad>', '<pad>', '<pad>', '<pad>', '<pad>', '<pad>', '<pad>', '<pad>', '<pad>', '<pad>', '<pad>', '<pad>', '<pad>', '<pad>', '<pad>', '<pad>', '<pad>', '<pad>', '<pad>', '<pad>', '<pad>', '<pad>', '<pad>', '<pad>', '<pad>', '<pad>', '<pad>', '<pad>', '<pad>', '<pad>', '<pad>', '<pad>', '<pad>', '<pad>', '<pad>', '<pad>', '<pad>', '<pad>', '<pad>', '<pad>', '<pad>', '<pad>', '<pad>', '<pad>', '<pad>', '<pad>', '<pad>', '<pad>', '<pad>', '<pad>', '<pad>', '<pad>', '<pad>', '<pad>', '<pad>', '<pad>', '<pad>', '<pad>', '<pad>', '<pad>', '<pad>', '<pad>', '<pad>', '<pad>', '<pad>', '<pad>', '<pad>', '<pad>', '<pad>', '<pad>', '<pad>', '<pad>', '<pad>', '<pad>', '<pad>', '<pad>', '<pad>', '<pad>', '<pad>', '<pad>', '<pad>', '<pad>', '<pad>', '<pad>', '<pad>', '<pad>', '<pad>', '<pad>', '<pad>', '<pad>', '<pad>', '<pad>', '<pad>', '<pad>', '<pad>', '<pad>', '<pad>', '<pad>', '<pad>', '<pad>', '<pad>', '<pad>', '<pad>', '<pad>', '<pad>', '<pad>', '<pad>', '<pad>', '<pad>', '<pad>', '<pad>', '<pad>', '<pad>', '<pad>', '<pad>', '<pad>', '<pad>', '<pad>', '<pad>', '<pad>', '<pad>', '<pad>', '<pad>', '<pad>', '<pad>', '<pad>', '<pad>', '<pad>', '<pad>', '<pad>', '<pad>', '<pad>', '<pad>', '<pad>', '<pad>', '<pad>', '<pad>', '<pad>', '<pad>', '<pad>', '<pad>', '<pad>', '<pad>', '<pad>', '<pad>', '<pad>', '<pad>', '<pad>', '<pad>', '<pad>', '<pad>', '<pad>', '<pad>', '<pad>', '<pad>', '<pad>', '<pad>', '<pad>', '<pad>', '<pad>', '<pad>', '<pad>', '<pad>', '<pad>', '<pad>', '<pad>', '<pad>', '<pad>', '<pad>', '<pad>', '<pad>', '<pad>', '<pad>', '<pad>', '<pad>', '<pad>', '<pad>', '<pad>', '<pad>', '<pad>', '<pad>', '<pad>', '<pad>', '<pad>', '<pad>', '<pad>', '<pad>', '<pad>', '<pad>', '<pad>', '<pad>', '<pad>', '<pad>', '<pad>', '<pad>', '<pad>', '<pad>', '<pad>', '<pad>', '<pad>', '<pad>', '<pad>', '<pad>', '<pad>', '<pad>', '<pad>', '<pad>', '<pad>', '<pad>', '<pad>', '<pad>', '<pad>', '<pad>', '<pad>', '<pad>', '<pad>', '<pad>', '<pad>', '<pad>']\n",
            "['Toyota', 'Camry', 'có', 'động_cơ', 'mạnh', 'hơn', 'Xpander']\n",
            "\n",
            "========= Compapative Opinion Mining =========\n",
            "Prediction: Gradable Comparative Sentence:\n",
            " {'Subject': 'Toyota Camry', 'Object': 'Xpander', 'Aspect': 'động_cơ', 'Sentiment': 'Better'}\n"
          ]
        }
      ]
    },
    {
      "cell_type": "code",
      "source": [
        "example_stc = \"Toyota Camry có động cơ khác với Xpander\"\n",
        "output = main(example_stc, phase1_model, phase2_model)\n",
        "print(output)"
      ],
      "metadata": {
        "colab": {
          "base_uri": "https://localhost:8080/"
        },
        "id": "6JmRRCKLeCeN",
        "outputId": "5fcb7e06-72db-4d1a-faf2-244558544db7"
      },
      "execution_count": 39,
      "outputs": [
        {
          "output_type": "stream",
          "name": "stdout",
          "text": [
            "========= Pre Processing =========\n",
            "['<s>', 'Toyota', 'Camry', 'có', 'động_cơ', 'khác', 'với', 'X@@', 'p@@', 'ander', '</s>', '<pad>', '<pad>', '<pad>', '<pad>', '<pad>', '<pad>', '<pad>', '<pad>', '<pad>', '<pad>', '<pad>', '<pad>', '<pad>', '<pad>', '<pad>', '<pad>', '<pad>', '<pad>', '<pad>', '<pad>', '<pad>', '<pad>', '<pad>', '<pad>', '<pad>', '<pad>', '<pad>', '<pad>', '<pad>', '<pad>', '<pad>', '<pad>', '<pad>', '<pad>', '<pad>', '<pad>', '<pad>', '<pad>', '<pad>', '<pad>', '<pad>', '<pad>', '<pad>', '<pad>', '<pad>', '<pad>', '<pad>', '<pad>', '<pad>', '<pad>', '<pad>', '<pad>', '<pad>', '<pad>', '<pad>', '<pad>', '<pad>', '<pad>', '<pad>', '<pad>', '<pad>', '<pad>', '<pad>', '<pad>', '<pad>', '<pad>', '<pad>', '<pad>', '<pad>', '<pad>', '<pad>', '<pad>', '<pad>', '<pad>', '<pad>', '<pad>', '<pad>', '<pad>', '<pad>', '<pad>', '<pad>', '<pad>', '<pad>', '<pad>', '<pad>', '<pad>', '<pad>', '<pad>', '<pad>', '<pad>', '<pad>', '<pad>', '<pad>', '<pad>', '<pad>', '<pad>', '<pad>', '<pad>', '<pad>', '<pad>', '<pad>', '<pad>', '<pad>', '<pad>', '<pad>', '<pad>', '<pad>', '<pad>', '<pad>', '<pad>', '<pad>', '<pad>', '<pad>', '<pad>', '<pad>', '<pad>', '<pad>', '<pad>', '<pad>', '<pad>', '<pad>', '<pad>', '<pad>', '<pad>', '<pad>', '<pad>', '<pad>', '<pad>', '<pad>', '<pad>', '<pad>', '<pad>', '<pad>', '<pad>', '<pad>', '<pad>', '<pad>', '<pad>', '<pad>', '<pad>', '<pad>', '<pad>', '<pad>', '<pad>', '<pad>', '<pad>', '<pad>', '<pad>', '<pad>', '<pad>', '<pad>', '<pad>', '<pad>', '<pad>', '<pad>', '<pad>', '<pad>', '<pad>', '<pad>', '<pad>', '<pad>', '<pad>', '<pad>', '<pad>', '<pad>', '<pad>', '<pad>', '<pad>', '<pad>', '<pad>', '<pad>', '<pad>', '<pad>', '<pad>', '<pad>', '<pad>', '<pad>', '<pad>', '<pad>', '<pad>', '<pad>', '<pad>', '<pad>', '<pad>', '<pad>', '<pad>', '<pad>', '<pad>', '<pad>', '<pad>', '<pad>', '<pad>', '<pad>', '<pad>', '<pad>', '<pad>', '<pad>', '<pad>', '<pad>', '<pad>', '<pad>', '<pad>', '<pad>', '<pad>', '<pad>', '<pad>', '<pad>', '<pad>', '<pad>', '<pad>', '<pad>', '<pad>', '<pad>', '<pad>', '<pad>', '<pad>', '<pad>', '<pad>', '<pad>', '<pad>', '<pad>', '<pad>', '<pad>', '<pad>', '<pad>', '<pad>', '<pad>', '<pad>', '<pad>', '<pad>', '<pad>', '<pad>', '<pad>', '<pad>', '<pad>', '<pad>', '<pad>', '<pad>', '<pad>', '<pad>', '<pad>', '<pad>', '<pad>', '<pad>', '<pad>']\n",
            "['Toyota', 'Camry', 'có', 'động_cơ', 'khác', 'với', 'Xpander']\n",
            "\n",
            "========= Compapative Opinion Mining =========\n",
            "Prediction: Non-gradable Comparative Sentence.\n"
          ]
        }
      ]
    }
  ]
}