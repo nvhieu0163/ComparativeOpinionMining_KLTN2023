{
 "cells": [
  {
   "cell_type": "code",
   "execution_count": null,
   "metadata": {},
   "outputs": [],
   "source": [
    "# !pip install git+https://github.com/SethPoulsen/sklearn-crfsuite.git@add-missing-attributes#egg=sklearn_crfsuite"
   ]
  },
  {
   "cell_type": "code",
   "execution_count": null,
   "metadata": {},
   "outputs": [],
   "source": [
    "# !pip install --force-reinstall --no-dependencies \"scikit-learn==0.24.2\""
   ]
  },
  {
   "cell_type": "code",
   "execution_count": 2,
   "metadata": {},
   "outputs": [],
   "source": [
    "# import pandas as pd\n",
    "import json\n",
    "import sys\n",
    "import copy\n",
    "\n",
    "\n",
    "from itertools import chain\n",
    "\n",
    "import sklearn\n",
    "from sklearn.metrics import make_scorer\n",
    "\n",
    "from sklearn.model_selection import cross_val_score\n",
    "from sklearn.model_selection import RandomizedSearchCV\n",
    "\n",
    "import sklearn_crfsuite\n",
    "from sklearn_crfsuite import scorers\n",
    "from sklearn_crfsuite import metrics"
   ]
  },
  {
   "cell_type": "code",
   "execution_count": 3,
   "metadata": {},
   "outputs": [],
   "source": [
    "list_of_stc = []\n",
    "list_of_list_token_of_stc = []\n",
    "list_of_list_label_of_stc = []\n",
    "list_of_list_POStag = []\n",
    "\n",
    "list_of_sentiment = []\n",
    "list_of_stc_id = []\n",
    "\n",
    "with open(\"./file12345_isPOStag_NER_phase_filter_UNK_oversampling.txt\", \"r\", encoding = \"utf-8\") as f:\n",
    "    while f:\n",
    "        info = f.readline()[:-1] # bỏ dấu xuống dòng\n",
    "        stc = f.readline()[:-1]\n",
    "        token = f.readline()[:-1]\n",
    "        label = f.readline()[:-1]\n",
    "        postag = f.readline()[:-1]\n",
    "\n",
    "        # check hết file\n",
    "        if info == \"\" and stc == \"\" and label == \"\":\n",
    "            break\n",
    "\n",
    "        # add idx, add sentiment\n",
    "        info_split = info.split(\"\\t\")\n",
    "        list_of_stc_id.append(int(info_split[0]))\n",
    "        sentiment = json.loads(info_split[1])\n",
    "\n",
    "        # add sentiment\n",
    "        if sentiment[0] == 0:\n",
    "            list_of_sentiment.append([1])\n",
    "        elif sentiment[0] in [1, 2]:\n",
    "            list_of_sentiment.append([2])\n",
    "        else:\n",
    "            assert sentiment[0] in [-1, -2]\n",
    "            list_of_sentiment.append([0])\n",
    "\n",
    "        # add stc, add label, add postag\n",
    "        list_of_stc.append(json.loads(stc))\n",
    "        list_of_list_token_of_stc.append(json.loads(token))\n",
    "        list_of_list_label_of_stc.append(json.loads(label))\n",
    "        list_of_list_POStag.append(json.loads(postag))"
   ]
  },
  {
   "cell_type": "code",
   "execution_count": 5,
   "metadata": {},
   "outputs": [
    {
     "name": "stdout",
     "output_type": "stream",
     "text": [
      "{'B-ap', 'O', 'I-ap', 'I-obj', 'B-obj', 'I-sub', 'B-sub'}\n"
     ]
    }
   ],
   "source": [
    "# Check how many labels are there in the dataset\n",
    "unique_labels = set()\n",
    "\n",
    "for list_lb in list_of_list_label_of_stc:\n",
    "  [unique_labels.add(lb) for lb in list_lb if lb not in unique_labels]\n",
    "\n",
    "print(unique_labels)"
   ]
  },
  {
   "cell_type": "code",
   "execution_count": 5,
   "metadata": {},
   "outputs": [],
   "source": [
    "import random\n",
    "\n",
    "def shuffle_data(data:list):\n",
    "    random.shuffle(data)\n",
    "\n",
    "\n",
    "def build_data_CEE_CRF(list_of_token_stc, list_of_POS_tag, list_CEE_label, is_unify_entity = False, is_shuffle_data = False):\n",
    "    data_set = []\n",
    "    CEE_label_dict = {\n",
    "        \"B-sub\": \"SUB\",\n",
    "        \"I-sub\": \"SUB\",\n",
    "        \"B-obj\": \"OBJ\",\n",
    "        \"I-obj\": \"OBJ\",\n",
    "        \"B-ap\": \"AP\",\n",
    "        \"I-ap\": \"AP\",\n",
    "        \"O\": \"O\"\n",
    "    }\n",
    "\n",
    "    for index, CEE_label in enumerate(list_CEE_label):\n",
    "        pos_tag = list_of_POS_tag[index]\n",
    "        tokens = list_of_token_stc[index]\n",
    "        \n",
    "        assert len(pos_tag) == len(tokens)\n",
    "        assert len(tokens) ==  len(CEE_label)\n",
    "\n",
    "        list_for_stc = []\n",
    "        for i, dict_ in enumerate(pos_tag):\n",
    "            if is_unify_entity:\n",
    "                list_for_stc.append(tuple([tokens[i], pos_tag[i], CEE_label_dict[CEE_label[i]]]))\n",
    "            else:\n",
    "                assert CEE_label[i] in CEE_label_dict.keys()\n",
    "                list_for_stc.append(tuple([tokens[i], pos_tag[i], CEE_label_dict[i]]))\n",
    "        data_set.append(list_for_stc)\n",
    "\n",
    "    if is_shuffle_data:\n",
    "        shuffle_data(data_set)\n",
    "    end_train_idx = 9000\n",
    "    return data_set[:end_train_idx], data_set[end_train_idx:]\n",
    "\n",
    "data_NER_CRF_train, data_NER_CRF_test  = build_data_CEE_CRF(list_of_list_token_of_stc, list_of_list_POStag, list_of_list_label_of_stc, True)"
   ]
  },
  {
   "cell_type": "code",
   "execution_count": 8,
   "metadata": {},
   "outputs": [
    {
     "data": {
      "text/plain": [
       "[('Nhìn', 'V', 'O'),\n",
       " ('vào', 'E', 'O'),\n",
       " ('những', 'L', 'O'),\n",
       " ('thông_số', 'N', 'AP'),\n",
       " ('kích_thước', 'N', 'AP'),\n",
       " ('trên', 'N', 'O'),\n",
       " (',', 'CH', 'O'),\n",
       " ('VinFast_Lux_SA', 'Np', 'SUB'),\n",
       " ('2.0', 'M', 'SUB'),\n",
       " ('đang', 'R', 'O'),\n",
       " ('nhỉnh', 'V', 'O'),\n",
       " ('hơn', 'A', 'O'),\n",
       " ('Kia_Sorento', 'Np', 'OBJ'),\n",
       " ('về', 'E', 'O'),\n",
       " ('mọi', 'L', 'O'),\n",
       " ('chỉ_số', 'N', 'O'),\n",
       " (',', 'CH', 'O'),\n",
       " ('điều', 'N', 'O'),\n",
       " ('này', 'P', 'O'),\n",
       " ('giúp', 'V', 'O'),\n",
       " ('xe', 'N', 'O'),\n",
       " ('vạm_vỡ', 'V', 'O'),\n",
       " ('hơn', 'R', 'O'),\n",
       " ('khi', 'N', 'O'),\n",
       " ('nhìn', 'V', 'O'),\n",
       " ('từ', 'E', 'O'),\n",
       " ('phần', 'N', 'O'),\n",
       " ('thân', 'N', 'O')]"
      ]
     },
     "execution_count": 8,
     "metadata": {},
     "output_type": "execute_result"
    }
   ],
   "source": [
    "data_NER_CRF_train[0]"
   ]
  },
  {
   "cell_type": "code",
   "execution_count": 9,
   "metadata": {},
   "outputs": [],
   "source": [
    "def _word2features_pos(sent, i, window):\n",
    "    word = sent[i][0]\n",
    "    postag = sent[i][1]\n",
    "    features = {\n",
    "        'bias': 1.0,\n",
    "        'word.lower()': word.lower(),\n",
    "        'word[-3:]': word[-3:],\n",
    "        'word[-2:]': word[-2:],\n",
    "        'word.isupper()': word.isupper(),\n",
    "        'word.istitle()': word.istitle(),\n",
    "        'word.isdigit()': word.isdigit(),\n",
    "        'postag': postag,\n",
    "        'postag[:3]': postag[:3],\n",
    "    }\n",
    "\n",
    "    for w in range(1, window + 1):\n",
    "        if i > 0:\n",
    "            word = sent[i - w][0]\n",
    "            postag = sent[i - w][1]\n",
    "            features.update({\n",
    "                '-{}:word.lower()'.format(w): word.lower(),\n",
    "                '-{}:word.istitle()'.format(w): word.istitle(),\n",
    "                '-{}:word.isupper()'.format(w): word.isupper(),\n",
    "                '-{}:postag'.format(w): postag,\n",
    "                '-{}:postag[:3]'.format(w): postag[:3],\n",
    "            })\n",
    "        else:\n",
    "            features['-{}:BOS'.format(w)] = True\n",
    "\n",
    "        if i < len(sent) - w:\n",
    "            word1 = sent[i + w][0]\n",
    "            postag1 = sent[i + w][1]\n",
    "            features.update({\n",
    "                '+{}:word.lower()'.format(w): word1.lower(),\n",
    "                '+{}:word.istitle()'.format(w): word1.istitle(),\n",
    "                '+{}:word.isupper()'.format(w): word1.isupper(),\n",
    "                '+{}:postag'.format(w): postag1,\n",
    "                '+{}:postag[:3]'.format(w): postag1[:3],\n",
    "            })\n",
    "        else:\n",
    "            features['-{}:EOS'.format(w)] = True\n",
    "\n",
    "    return features\n",
    "\n",
    "\n",
    "def _word2features(sent, i, window):\n",
    "    word = sent[i][0]\n",
    "    features = {\n",
    "        'bias': 1.0,\n",
    "        'word.lower()': word.lower(),\n",
    "        'word[-3:]': word[-3:],\n",
    "        'word[-2:]': word[-2:],\n",
    "        'word.isupper()': word.isupper(),\n",
    "        'word.istitle()': word.istitle(),\n",
    "        'word.isdigit()': word.isdigit(),\n",
    "    }\n",
    "    for w in range(1, window + 1):\n",
    "        if i > 0:\n",
    "            word = sent[i - w][0]\n",
    "            features.update({\n",
    "                '-{}:word.lower()'.format(w): word.lower(),\n",
    "                '-{}:word.istitle()'.format(w): word.istitle(),\n",
    "                '-{}:word.isupper()'.format(w): word.isupper(),\n",
    "            })\n",
    "        else:\n",
    "            features['-{}:BOS'.format(w)] = True\n",
    "\n",
    "        if i < len(sent) - w:\n",
    "            word1 = sent[i + w][0]\n",
    "            features.update({\n",
    "                '+{}:word.lower()'.format(w): word1.lower(),\n",
    "                '+{}:word.istitle()'.format(w): word1.istitle(),\n",
    "                '+{}:word.isupper()'.format(w): word1.isupper(),\n",
    "            })\n",
    "        else:\n",
    "            features['-{}:EOS'.format(w)] = True\n",
    "    return features\n",
    "\n",
    "\n",
    "def word2features(sent, i, is_pos, window):\n",
    "    if is_pos:\n",
    "        return _word2features_pos(sent, i, window)\n",
    "    return _word2features(sent, i, window)\n",
    "\n",
    "def sent2features(sent, is_pos, window):\n",
    "    return [word2features(sent, i, is_pos, window) for i in range(len(sent))]\n",
    "\n",
    "def sent2labels(sent):\n",
    "    return [label for token, postag, label in sent]\n",
    "\n",
    "def sent2tokens(sent, is_pos):\n",
    "    if is_pos:\n",
    "        return [token for token, postag, label in sent]\n",
    "    return [token for token, label in sent]"
   ]
  },
  {
   "cell_type": "code",
   "execution_count": 10,
   "metadata": {},
   "outputs": [
    {
     "name": "stdout",
     "output_type": "stream",
     "text": [
      "\n",
      "====================== Window_size : 1 ======================\n",
      "POS-tag:\n"
     ]
    },
    {
     "name": "stderr",
     "output_type": "stream",
     "text": [
      "/home/hieunv/CEE_using_CRF/cee_venv/lib/python3.8/site-packages/sklearn/utils/validation.py:70: FutureWarning: Pass labels=['SUB', 'OBJ', 'AP'] as keyword args. From version 1.0 (renaming of 0.25) passing these as positional arguments will result in an error\n",
      "  warnings.warn(f\"Pass {args_msg} as keyword args. From version \"\n"
     ]
    },
    {
     "name": "stdout",
     "output_type": "stream",
     "text": [
      "              precision    recall  f1-score   support\n",
      "\n",
      "         SUB     0.8073    0.7770    0.7919       453\n",
      "         OBJ     0.7057    0.6851    0.6953       343\n",
      "          AP     0.7059    0.6176    0.6588       408\n",
      "\n",
      "   micro avg     0.7451    0.6968    0.7202      1204\n",
      "   macro avg     0.7396    0.6933    0.7153      1204\n",
      "weighted avg     0.7440    0.6968    0.7193      1204\n",
      "\n",
      "No POS-tag:\n"
     ]
    },
    {
     "name": "stderr",
     "output_type": "stream",
     "text": [
      "/home/hieunv/CEE_using_CRF/cee_venv/lib/python3.8/site-packages/sklearn/utils/validation.py:70: FutureWarning: Pass labels=['SUB', 'OBJ', 'AP'] as keyword args. From version 1.0 (renaming of 0.25) passing these as positional arguments will result in an error\n",
      "  warnings.warn(f\"Pass {args_msg} as keyword args. From version \"\n"
     ]
    },
    {
     "name": "stdout",
     "output_type": "stream",
     "text": [
      "              precision    recall  f1-score   support\n",
      "\n",
      "         SUB     0.7955    0.7726    0.7839       453\n",
      "         OBJ     0.7085    0.6589    0.6828       343\n",
      "          AP     0.7143    0.5882    0.6452       408\n",
      "\n",
      "   micro avg     0.7452    0.6777    0.7099      1204\n",
      "   macro avg     0.7394    0.6733    0.7039      1204\n",
      "weighted avg     0.7432    0.6777    0.7081      1204\n",
      "\n",
      "\n",
      "====================== Window_size : 2 ======================\n",
      "POS-tag:\n"
     ]
    },
    {
     "name": "stderr",
     "output_type": "stream",
     "text": [
      "/home/hieunv/CEE_using_CRF/cee_venv/lib/python3.8/site-packages/sklearn/utils/validation.py:70: FutureWarning: Pass labels=['SUB', 'OBJ', 'AP'] as keyword args. From version 1.0 (renaming of 0.25) passing these as positional arguments will result in an error\n",
      "  warnings.warn(f\"Pass {args_msg} as keyword args. From version \"\n"
     ]
    },
    {
     "name": "stdout",
     "output_type": "stream",
     "text": [
      "              precision    recall  f1-score   support\n",
      "\n",
      "         SUB     0.8087    0.7373    0.7714       453\n",
      "         OBJ     0.7542    0.6531    0.7000       343\n",
      "          AP     0.6676    0.6054    0.6350       408\n",
      "\n",
      "   micro avg     0.7454    0.6686    0.7049      1204\n",
      "   macro avg     0.7435    0.6653    0.7021      1204\n",
      "weighted avg     0.7454    0.6686    0.7048      1204\n",
      "\n",
      "No POS-tag:\n"
     ]
    },
    {
     "name": "stderr",
     "output_type": "stream",
     "text": [
      "/home/hieunv/CEE_using_CRF/cee_venv/lib/python3.8/site-packages/sklearn/utils/validation.py:70: FutureWarning: Pass labels=['SUB', 'OBJ', 'AP'] as keyword args. From version 1.0 (renaming of 0.25) passing these as positional arguments will result in an error\n",
      "  warnings.warn(f\"Pass {args_msg} as keyword args. From version \"\n"
     ]
    },
    {
     "name": "stdout",
     "output_type": "stream",
     "text": [
      "              precision    recall  f1-score   support\n",
      "\n",
      "         SUB     0.8062    0.7439    0.7738       453\n",
      "         OBJ     0.7609    0.6589    0.7063       343\n",
      "          AP     0.6507    0.5980    0.6232       408\n",
      "\n",
      "   micro avg     0.7404    0.6703    0.7036      1204\n",
      "   macro avg     0.7393    0.6670    0.7011      1204\n",
      "weighted avg     0.7406    0.6703    0.7035      1204\n",
      "\n",
      "\n",
      "====================== Window_size : 3 ======================\n",
      "POS-tag:\n"
     ]
    },
    {
     "name": "stderr",
     "output_type": "stream",
     "text": [
      "/home/hieunv/CEE_using_CRF/cee_venv/lib/python3.8/site-packages/sklearn/utils/validation.py:70: FutureWarning: Pass labels=['SUB', 'OBJ', 'AP'] as keyword args. From version 1.0 (renaming of 0.25) passing these as positional arguments will result in an error\n",
      "  warnings.warn(f\"Pass {args_msg} as keyword args. From version \"\n"
     ]
    },
    {
     "name": "stdout",
     "output_type": "stream",
     "text": [
      "              precision    recall  f1-score   support\n",
      "\n",
      "         SUB     0.8146    0.7660    0.7895       453\n",
      "         OBJ     0.7580    0.6939    0.7245       343\n",
      "          AP     0.6921    0.5784    0.6302       408\n",
      "\n",
      "   micro avg     0.7595    0.6819    0.7186      1204\n",
      "   macro avg     0.7549    0.6794    0.7147      1204\n",
      "weighted avg     0.7569    0.6819    0.7170      1204\n",
      "\n",
      "No POS-tag:\n",
      "              precision    recall  f1-score   support\n",
      "\n",
      "         SUB     0.7928    0.7770    0.7848       453\n",
      "         OBJ     0.7438    0.6939    0.7179       343\n",
      "          AP     0.7121    0.5760    0.6369       408\n",
      "\n",
      "   micro avg     0.7541    0.6852    0.7180      1204\n",
      "   macro avg     0.7496    0.6823    0.7132      1204\n",
      "weighted avg     0.7515    0.6852    0.7156      1204\n",
      "\n"
     ]
    },
    {
     "name": "stderr",
     "output_type": "stream",
     "text": [
      "/home/hieunv/CEE_using_CRF/cee_venv/lib/python3.8/site-packages/sklearn/utils/validation.py:70: FutureWarning: Pass labels=['SUB', 'OBJ', 'AP'] as keyword args. From version 1.0 (renaming of 0.25) passing these as positional arguments will result in an error\n",
      "  warnings.warn(f\"Pass {args_msg} as keyword args. From version \"\n"
     ]
    }
   ],
   "source": [
    "for window_size in range(1,4):\n",
    "    print(f'\\n====================== Window_size : {window_size} ======================')\n",
    "    print('POS-tag:')\n",
    "    X_train = [sent2features(sent = s, is_pos = True, window = window_size) for s in data_NER_CRF_train]\n",
    "    y_train = [sent2labels(sent = s) for s in data_NER_CRF_train]\n",
    "    X_test = [sent2features(sent = s, is_pos = True, window = window_size) for s in data_NER_CRF_test]\n",
    "    y_test = [sent2labels(sent = s) for s in data_NER_CRF_test]\n",
    "\n",
    "    crf_model = sklearn_crfsuite.CRF(\n",
    "        algorithm='lbfgs',\n",
    "        c1=0.1,\n",
    "        c2=0.1,\n",
    "        max_iterations=100,\n",
    "        all_possible_transitions=False,\n",
    "    )\n",
    "\n",
    "    crf_model.fit(X_train, y_train)\n",
    "    pred = crf_model.predict(X_test)\n",
    "    print(metrics.flat_classification_report(y_test, pred, labels=['SUB', 'OBJ', 'AP'], digits=4))\n",
    "    del crf_model\n",
    "    \n",
    "    # ==========================================================================================================\n",
    "    print('No POS-tag:')\n",
    "    X_train = [sent2features(sent = s, is_pos = False, window = window_size) for s in data_NER_CRF_train]\n",
    "    y_train = [sent2labels(sent = s) for s in data_NER_CRF_train]\n",
    "    X_test = [sent2features(sent = s, is_pos = False, window = window_size) for s in data_NER_CRF_test]\n",
    "    y_test = [sent2labels(sent = s) for s in data_NER_CRF_test]\n",
    "\n",
    "    crf_model = sklearn_crfsuite.CRF(\n",
    "        algorithm='lbfgs',\n",
    "        c1=0.1,\n",
    "        c2=0.1,\n",
    "        max_iterations=100,\n",
    "        all_possible_transitions=False,\n",
    "    )\n",
    "\n",
    "    crf_model.fit(X_train, y_train)\n",
    "    pred = crf_model.predict(X_test)\n",
    "    print(metrics.flat_classification_report(y_test, pred, labels=['SUB', 'OBJ', 'AP'], digits=4))\n",
    "    del crf_model"
   ]
  }
 ],
 "metadata": {
  "kernelspec": {
   "display_name": "cee_venv",
   "language": "python",
   "name": "python3"
  },
  "language_info": {
   "codemirror_mode": {
    "name": "ipython",
    "version": 3
   },
   "file_extension": ".py",
   "mimetype": "text/x-python",
   "name": "python",
   "nbconvert_exporter": "python",
   "pygments_lexer": "ipython3",
   "version": "3.8.18"
  }
 },
 "nbformat": 4,
 "nbformat_minor": 2
}
