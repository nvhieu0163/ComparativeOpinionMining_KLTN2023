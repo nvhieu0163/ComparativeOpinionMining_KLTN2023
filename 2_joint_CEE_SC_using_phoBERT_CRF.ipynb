{
  "nbformat": 4,
  "nbformat_minor": 0,
  "metadata": {
    "colab": {
      "provenance": [],
      "toc_visible": true,
      "gpuType": "T4",
      "include_colab_link": true
    },
    "kernelspec": {
      "name": "python3",
      "display_name": "Python 3"
    },
    "language_info": {
      "name": "python"
    },
    "widgets": {
      "application/vnd.jupyter.widget-state+json": {
        "a598d71e262e4b9c9df6acbc2f4c3081": {
          "model_module": "@jupyter-widgets/controls",
          "model_name": "HBoxModel",
          "model_module_version": "1.5.0",
          "state": {
            "_dom_classes": [],
            "_model_module": "@jupyter-widgets/controls",
            "_model_module_version": "1.5.0",
            "_model_name": "HBoxModel",
            "_view_count": null,
            "_view_module": "@jupyter-widgets/controls",
            "_view_module_version": "1.5.0",
            "_view_name": "HBoxView",
            "box_style": "",
            "children": [
              "IPY_MODEL_18e5b2d3337c40a58ace0fade3936c58",
              "IPY_MODEL_46ede49a0e5b45dc8d300536ae095287",
              "IPY_MODEL_cf653966389343ca9c9bddb9b84afdfd"
            ],
            "layout": "IPY_MODEL_4db47e47323648b9ab6f195865f0ccd0"
          }
        },
        "18e5b2d3337c40a58ace0fade3936c58": {
          "model_module": "@jupyter-widgets/controls",
          "model_name": "HTMLModel",
          "model_module_version": "1.5.0",
          "state": {
            "_dom_classes": [],
            "_model_module": "@jupyter-widgets/controls",
            "_model_module_version": "1.5.0",
            "_model_name": "HTMLModel",
            "_view_count": null,
            "_view_module": "@jupyter-widgets/controls",
            "_view_module_version": "1.5.0",
            "_view_name": "HTMLView",
            "description": "",
            "description_tooltip": null,
            "layout": "IPY_MODEL_611d18f8eeb549b691d56173ae16a682",
            "placeholder": "​",
            "style": "IPY_MODEL_fb64e498c8ef4c449ddbe9f9d5663e65",
            "value": "config.json: 100%"
          }
        },
        "46ede49a0e5b45dc8d300536ae095287": {
          "model_module": "@jupyter-widgets/controls",
          "model_name": "FloatProgressModel",
          "model_module_version": "1.5.0",
          "state": {
            "_dom_classes": [],
            "_model_module": "@jupyter-widgets/controls",
            "_model_module_version": "1.5.0",
            "_model_name": "FloatProgressModel",
            "_view_count": null,
            "_view_module": "@jupyter-widgets/controls",
            "_view_module_version": "1.5.0",
            "_view_name": "ProgressView",
            "bar_style": "success",
            "description": "",
            "description_tooltip": null,
            "layout": "IPY_MODEL_a96c5314f4ef4162927ea07d712f7f1f",
            "max": 557,
            "min": 0,
            "orientation": "horizontal",
            "style": "IPY_MODEL_c1ee5b96664c4863a88c49986ce18cf3",
            "value": 557
          }
        },
        "cf653966389343ca9c9bddb9b84afdfd": {
          "model_module": "@jupyter-widgets/controls",
          "model_name": "HTMLModel",
          "model_module_version": "1.5.0",
          "state": {
            "_dom_classes": [],
            "_model_module": "@jupyter-widgets/controls",
            "_model_module_version": "1.5.0",
            "_model_name": "HTMLModel",
            "_view_count": null,
            "_view_module": "@jupyter-widgets/controls",
            "_view_module_version": "1.5.0",
            "_view_name": "HTMLView",
            "description": "",
            "description_tooltip": null,
            "layout": "IPY_MODEL_9ccad81daee94fe18f1dfbdc1ca41736",
            "placeholder": "​",
            "style": "IPY_MODEL_10a46023262d42399929f980b67ba3ee",
            "value": " 557/557 [00:00&lt;00:00, 9.16kB/s]"
          }
        },
        "4db47e47323648b9ab6f195865f0ccd0": {
          "model_module": "@jupyter-widgets/base",
          "model_name": "LayoutModel",
          "model_module_version": "1.2.0",
          "state": {
            "_model_module": "@jupyter-widgets/base",
            "_model_module_version": "1.2.0",
            "_model_name": "LayoutModel",
            "_view_count": null,
            "_view_module": "@jupyter-widgets/base",
            "_view_module_version": "1.2.0",
            "_view_name": "LayoutView",
            "align_content": null,
            "align_items": null,
            "align_self": null,
            "border": null,
            "bottom": null,
            "display": null,
            "flex": null,
            "flex_flow": null,
            "grid_area": null,
            "grid_auto_columns": null,
            "grid_auto_flow": null,
            "grid_auto_rows": null,
            "grid_column": null,
            "grid_gap": null,
            "grid_row": null,
            "grid_template_areas": null,
            "grid_template_columns": null,
            "grid_template_rows": null,
            "height": null,
            "justify_content": null,
            "justify_items": null,
            "left": null,
            "margin": null,
            "max_height": null,
            "max_width": null,
            "min_height": null,
            "min_width": null,
            "object_fit": null,
            "object_position": null,
            "order": null,
            "overflow": null,
            "overflow_x": null,
            "overflow_y": null,
            "padding": null,
            "right": null,
            "top": null,
            "visibility": null,
            "width": null
          }
        },
        "611d18f8eeb549b691d56173ae16a682": {
          "model_module": "@jupyter-widgets/base",
          "model_name": "LayoutModel",
          "model_module_version": "1.2.0",
          "state": {
            "_model_module": "@jupyter-widgets/base",
            "_model_module_version": "1.2.0",
            "_model_name": "LayoutModel",
            "_view_count": null,
            "_view_module": "@jupyter-widgets/base",
            "_view_module_version": "1.2.0",
            "_view_name": "LayoutView",
            "align_content": null,
            "align_items": null,
            "align_self": null,
            "border": null,
            "bottom": null,
            "display": null,
            "flex": null,
            "flex_flow": null,
            "grid_area": null,
            "grid_auto_columns": null,
            "grid_auto_flow": null,
            "grid_auto_rows": null,
            "grid_column": null,
            "grid_gap": null,
            "grid_row": null,
            "grid_template_areas": null,
            "grid_template_columns": null,
            "grid_template_rows": null,
            "height": null,
            "justify_content": null,
            "justify_items": null,
            "left": null,
            "margin": null,
            "max_height": null,
            "max_width": null,
            "min_height": null,
            "min_width": null,
            "object_fit": null,
            "object_position": null,
            "order": null,
            "overflow": null,
            "overflow_x": null,
            "overflow_y": null,
            "padding": null,
            "right": null,
            "top": null,
            "visibility": null,
            "width": null
          }
        },
        "fb64e498c8ef4c449ddbe9f9d5663e65": {
          "model_module": "@jupyter-widgets/controls",
          "model_name": "DescriptionStyleModel",
          "model_module_version": "1.5.0",
          "state": {
            "_model_module": "@jupyter-widgets/controls",
            "_model_module_version": "1.5.0",
            "_model_name": "DescriptionStyleModel",
            "_view_count": null,
            "_view_module": "@jupyter-widgets/base",
            "_view_module_version": "1.2.0",
            "_view_name": "StyleView",
            "description_width": ""
          }
        },
        "a96c5314f4ef4162927ea07d712f7f1f": {
          "model_module": "@jupyter-widgets/base",
          "model_name": "LayoutModel",
          "model_module_version": "1.2.0",
          "state": {
            "_model_module": "@jupyter-widgets/base",
            "_model_module_version": "1.2.0",
            "_model_name": "LayoutModel",
            "_view_count": null,
            "_view_module": "@jupyter-widgets/base",
            "_view_module_version": "1.2.0",
            "_view_name": "LayoutView",
            "align_content": null,
            "align_items": null,
            "align_self": null,
            "border": null,
            "bottom": null,
            "display": null,
            "flex": null,
            "flex_flow": null,
            "grid_area": null,
            "grid_auto_columns": null,
            "grid_auto_flow": null,
            "grid_auto_rows": null,
            "grid_column": null,
            "grid_gap": null,
            "grid_row": null,
            "grid_template_areas": null,
            "grid_template_columns": null,
            "grid_template_rows": null,
            "height": null,
            "justify_content": null,
            "justify_items": null,
            "left": null,
            "margin": null,
            "max_height": null,
            "max_width": null,
            "min_height": null,
            "min_width": null,
            "object_fit": null,
            "object_position": null,
            "order": null,
            "overflow": null,
            "overflow_x": null,
            "overflow_y": null,
            "padding": null,
            "right": null,
            "top": null,
            "visibility": null,
            "width": null
          }
        },
        "c1ee5b96664c4863a88c49986ce18cf3": {
          "model_module": "@jupyter-widgets/controls",
          "model_name": "ProgressStyleModel",
          "model_module_version": "1.5.0",
          "state": {
            "_model_module": "@jupyter-widgets/controls",
            "_model_module_version": "1.5.0",
            "_model_name": "ProgressStyleModel",
            "_view_count": null,
            "_view_module": "@jupyter-widgets/base",
            "_view_module_version": "1.2.0",
            "_view_name": "StyleView",
            "bar_color": null,
            "description_width": ""
          }
        },
        "9ccad81daee94fe18f1dfbdc1ca41736": {
          "model_module": "@jupyter-widgets/base",
          "model_name": "LayoutModel",
          "model_module_version": "1.2.0",
          "state": {
            "_model_module": "@jupyter-widgets/base",
            "_model_module_version": "1.2.0",
            "_model_name": "LayoutModel",
            "_view_count": null,
            "_view_module": "@jupyter-widgets/base",
            "_view_module_version": "1.2.0",
            "_view_name": "LayoutView",
            "align_content": null,
            "align_items": null,
            "align_self": null,
            "border": null,
            "bottom": null,
            "display": null,
            "flex": null,
            "flex_flow": null,
            "grid_area": null,
            "grid_auto_columns": null,
            "grid_auto_flow": null,
            "grid_auto_rows": null,
            "grid_column": null,
            "grid_gap": null,
            "grid_row": null,
            "grid_template_areas": null,
            "grid_template_columns": null,
            "grid_template_rows": null,
            "height": null,
            "justify_content": null,
            "justify_items": null,
            "left": null,
            "margin": null,
            "max_height": null,
            "max_width": null,
            "min_height": null,
            "min_width": null,
            "object_fit": null,
            "object_position": null,
            "order": null,
            "overflow": null,
            "overflow_x": null,
            "overflow_y": null,
            "padding": null,
            "right": null,
            "top": null,
            "visibility": null,
            "width": null
          }
        },
        "10a46023262d42399929f980b67ba3ee": {
          "model_module": "@jupyter-widgets/controls",
          "model_name": "DescriptionStyleModel",
          "model_module_version": "1.5.0",
          "state": {
            "_model_module": "@jupyter-widgets/controls",
            "_model_module_version": "1.5.0",
            "_model_name": "DescriptionStyleModel",
            "_view_count": null,
            "_view_module": "@jupyter-widgets/base",
            "_view_module_version": "1.2.0",
            "_view_name": "StyleView",
            "description_width": ""
          }
        },
        "56cfa2d401aa47578bd747681c5c0967": {
          "model_module": "@jupyter-widgets/controls",
          "model_name": "HBoxModel",
          "model_module_version": "1.5.0",
          "state": {
            "_dom_classes": [],
            "_model_module": "@jupyter-widgets/controls",
            "_model_module_version": "1.5.0",
            "_model_name": "HBoxModel",
            "_view_count": null,
            "_view_module": "@jupyter-widgets/controls",
            "_view_module_version": "1.5.0",
            "_view_name": "HBoxView",
            "box_style": "",
            "children": [
              "IPY_MODEL_ca9aae3a542849919a80e4c3b7d1f3f8",
              "IPY_MODEL_715225c772a14ec5a36dcec2b920e83b",
              "IPY_MODEL_989ad0ab691c4b0b92aaca94ccb1e889"
            ],
            "layout": "IPY_MODEL_066e730e42d94dc2854c8e4567045b7a"
          }
        },
        "ca9aae3a542849919a80e4c3b7d1f3f8": {
          "model_module": "@jupyter-widgets/controls",
          "model_name": "HTMLModel",
          "model_module_version": "1.5.0",
          "state": {
            "_dom_classes": [],
            "_model_module": "@jupyter-widgets/controls",
            "_model_module_version": "1.5.0",
            "_model_name": "HTMLModel",
            "_view_count": null,
            "_view_module": "@jupyter-widgets/controls",
            "_view_module_version": "1.5.0",
            "_view_name": "HTMLView",
            "description": "",
            "description_tooltip": null,
            "layout": "IPY_MODEL_5a230c8e4b1547a4b4097bb48df34748",
            "placeholder": "​",
            "style": "IPY_MODEL_e1f5e60203e04225924345070307e97b",
            "value": "vocab.txt: 100%"
          }
        },
        "715225c772a14ec5a36dcec2b920e83b": {
          "model_module": "@jupyter-widgets/controls",
          "model_name": "FloatProgressModel",
          "model_module_version": "1.5.0",
          "state": {
            "_dom_classes": [],
            "_model_module": "@jupyter-widgets/controls",
            "_model_module_version": "1.5.0",
            "_model_name": "FloatProgressModel",
            "_view_count": null,
            "_view_module": "@jupyter-widgets/controls",
            "_view_module_version": "1.5.0",
            "_view_name": "ProgressView",
            "bar_style": "success",
            "description": "",
            "description_tooltip": null,
            "layout": "IPY_MODEL_e74cb9af5a41484d972b892190b52315",
            "max": 895321,
            "min": 0,
            "orientation": "horizontal",
            "style": "IPY_MODEL_ba7fd5c809a64e228ac44913b762d3a7",
            "value": 895321
          }
        },
        "989ad0ab691c4b0b92aaca94ccb1e889": {
          "model_module": "@jupyter-widgets/controls",
          "model_name": "HTMLModel",
          "model_module_version": "1.5.0",
          "state": {
            "_dom_classes": [],
            "_model_module": "@jupyter-widgets/controls",
            "_model_module_version": "1.5.0",
            "_model_name": "HTMLModel",
            "_view_count": null,
            "_view_module": "@jupyter-widgets/controls",
            "_view_module_version": "1.5.0",
            "_view_name": "HTMLView",
            "description": "",
            "description_tooltip": null,
            "layout": "IPY_MODEL_e8d99f9ae67d4bb585b76b9847aab2af",
            "placeholder": "​",
            "style": "IPY_MODEL_0e994015f2c1480bbeb1745a8ec6b661",
            "value": " 895k/895k [00:00&lt;00:00, 3.84MB/s]"
          }
        },
        "066e730e42d94dc2854c8e4567045b7a": {
          "model_module": "@jupyter-widgets/base",
          "model_name": "LayoutModel",
          "model_module_version": "1.2.0",
          "state": {
            "_model_module": "@jupyter-widgets/base",
            "_model_module_version": "1.2.0",
            "_model_name": "LayoutModel",
            "_view_count": null,
            "_view_module": "@jupyter-widgets/base",
            "_view_module_version": "1.2.0",
            "_view_name": "LayoutView",
            "align_content": null,
            "align_items": null,
            "align_self": null,
            "border": null,
            "bottom": null,
            "display": null,
            "flex": null,
            "flex_flow": null,
            "grid_area": null,
            "grid_auto_columns": null,
            "grid_auto_flow": null,
            "grid_auto_rows": null,
            "grid_column": null,
            "grid_gap": null,
            "grid_row": null,
            "grid_template_areas": null,
            "grid_template_columns": null,
            "grid_template_rows": null,
            "height": null,
            "justify_content": null,
            "justify_items": null,
            "left": null,
            "margin": null,
            "max_height": null,
            "max_width": null,
            "min_height": null,
            "min_width": null,
            "object_fit": null,
            "object_position": null,
            "order": null,
            "overflow": null,
            "overflow_x": null,
            "overflow_y": null,
            "padding": null,
            "right": null,
            "top": null,
            "visibility": null,
            "width": null
          }
        },
        "5a230c8e4b1547a4b4097bb48df34748": {
          "model_module": "@jupyter-widgets/base",
          "model_name": "LayoutModel",
          "model_module_version": "1.2.0",
          "state": {
            "_model_module": "@jupyter-widgets/base",
            "_model_module_version": "1.2.0",
            "_model_name": "LayoutModel",
            "_view_count": null,
            "_view_module": "@jupyter-widgets/base",
            "_view_module_version": "1.2.0",
            "_view_name": "LayoutView",
            "align_content": null,
            "align_items": null,
            "align_self": null,
            "border": null,
            "bottom": null,
            "display": null,
            "flex": null,
            "flex_flow": null,
            "grid_area": null,
            "grid_auto_columns": null,
            "grid_auto_flow": null,
            "grid_auto_rows": null,
            "grid_column": null,
            "grid_gap": null,
            "grid_row": null,
            "grid_template_areas": null,
            "grid_template_columns": null,
            "grid_template_rows": null,
            "height": null,
            "justify_content": null,
            "justify_items": null,
            "left": null,
            "margin": null,
            "max_height": null,
            "max_width": null,
            "min_height": null,
            "min_width": null,
            "object_fit": null,
            "object_position": null,
            "order": null,
            "overflow": null,
            "overflow_x": null,
            "overflow_y": null,
            "padding": null,
            "right": null,
            "top": null,
            "visibility": null,
            "width": null
          }
        },
        "e1f5e60203e04225924345070307e97b": {
          "model_module": "@jupyter-widgets/controls",
          "model_name": "DescriptionStyleModel",
          "model_module_version": "1.5.0",
          "state": {
            "_model_module": "@jupyter-widgets/controls",
            "_model_module_version": "1.5.0",
            "_model_name": "DescriptionStyleModel",
            "_view_count": null,
            "_view_module": "@jupyter-widgets/base",
            "_view_module_version": "1.2.0",
            "_view_name": "StyleView",
            "description_width": ""
          }
        },
        "e74cb9af5a41484d972b892190b52315": {
          "model_module": "@jupyter-widgets/base",
          "model_name": "LayoutModel",
          "model_module_version": "1.2.0",
          "state": {
            "_model_module": "@jupyter-widgets/base",
            "_model_module_version": "1.2.0",
            "_model_name": "LayoutModel",
            "_view_count": null,
            "_view_module": "@jupyter-widgets/base",
            "_view_module_version": "1.2.0",
            "_view_name": "LayoutView",
            "align_content": null,
            "align_items": null,
            "align_self": null,
            "border": null,
            "bottom": null,
            "display": null,
            "flex": null,
            "flex_flow": null,
            "grid_area": null,
            "grid_auto_columns": null,
            "grid_auto_flow": null,
            "grid_auto_rows": null,
            "grid_column": null,
            "grid_gap": null,
            "grid_row": null,
            "grid_template_areas": null,
            "grid_template_columns": null,
            "grid_template_rows": null,
            "height": null,
            "justify_content": null,
            "justify_items": null,
            "left": null,
            "margin": null,
            "max_height": null,
            "max_width": null,
            "min_height": null,
            "min_width": null,
            "object_fit": null,
            "object_position": null,
            "order": null,
            "overflow": null,
            "overflow_x": null,
            "overflow_y": null,
            "padding": null,
            "right": null,
            "top": null,
            "visibility": null,
            "width": null
          }
        },
        "ba7fd5c809a64e228ac44913b762d3a7": {
          "model_module": "@jupyter-widgets/controls",
          "model_name": "ProgressStyleModel",
          "model_module_version": "1.5.0",
          "state": {
            "_model_module": "@jupyter-widgets/controls",
            "_model_module_version": "1.5.0",
            "_model_name": "ProgressStyleModel",
            "_view_count": null,
            "_view_module": "@jupyter-widgets/base",
            "_view_module_version": "1.2.0",
            "_view_name": "StyleView",
            "bar_color": null,
            "description_width": ""
          }
        },
        "e8d99f9ae67d4bb585b76b9847aab2af": {
          "model_module": "@jupyter-widgets/base",
          "model_name": "LayoutModel",
          "model_module_version": "1.2.0",
          "state": {
            "_model_module": "@jupyter-widgets/base",
            "_model_module_version": "1.2.0",
            "_model_name": "LayoutModel",
            "_view_count": null,
            "_view_module": "@jupyter-widgets/base",
            "_view_module_version": "1.2.0",
            "_view_name": "LayoutView",
            "align_content": null,
            "align_items": null,
            "align_self": null,
            "border": null,
            "bottom": null,
            "display": null,
            "flex": null,
            "flex_flow": null,
            "grid_area": null,
            "grid_auto_columns": null,
            "grid_auto_flow": null,
            "grid_auto_rows": null,
            "grid_column": null,
            "grid_gap": null,
            "grid_row": null,
            "grid_template_areas": null,
            "grid_template_columns": null,
            "grid_template_rows": null,
            "height": null,
            "justify_content": null,
            "justify_items": null,
            "left": null,
            "margin": null,
            "max_height": null,
            "max_width": null,
            "min_height": null,
            "min_width": null,
            "object_fit": null,
            "object_position": null,
            "order": null,
            "overflow": null,
            "overflow_x": null,
            "overflow_y": null,
            "padding": null,
            "right": null,
            "top": null,
            "visibility": null,
            "width": null
          }
        },
        "0e994015f2c1480bbeb1745a8ec6b661": {
          "model_module": "@jupyter-widgets/controls",
          "model_name": "DescriptionStyleModel",
          "model_module_version": "1.5.0",
          "state": {
            "_model_module": "@jupyter-widgets/controls",
            "_model_module_version": "1.5.0",
            "_model_name": "DescriptionStyleModel",
            "_view_count": null,
            "_view_module": "@jupyter-widgets/base",
            "_view_module_version": "1.2.0",
            "_view_name": "StyleView",
            "description_width": ""
          }
        },
        "961c8e5a93a04abda0debde62b2f4e1d": {
          "model_module": "@jupyter-widgets/controls",
          "model_name": "HBoxModel",
          "model_module_version": "1.5.0",
          "state": {
            "_dom_classes": [],
            "_model_module": "@jupyter-widgets/controls",
            "_model_module_version": "1.5.0",
            "_model_name": "HBoxModel",
            "_view_count": null,
            "_view_module": "@jupyter-widgets/controls",
            "_view_module_version": "1.5.0",
            "_view_name": "HBoxView",
            "box_style": "",
            "children": [
              "IPY_MODEL_c5ea071a6d234bf3bdb73ced9e2c06d0",
              "IPY_MODEL_afa39e6a5b64409fbb2945be534fee2b",
              "IPY_MODEL_5a44b46fa9cf4fe28d26a99e8b38664b"
            ],
            "layout": "IPY_MODEL_09768338a9ae4f07b1a3f1642423a7ca"
          }
        },
        "c5ea071a6d234bf3bdb73ced9e2c06d0": {
          "model_module": "@jupyter-widgets/controls",
          "model_name": "HTMLModel",
          "model_module_version": "1.5.0",
          "state": {
            "_dom_classes": [],
            "_model_module": "@jupyter-widgets/controls",
            "_model_module_version": "1.5.0",
            "_model_name": "HTMLModel",
            "_view_count": null,
            "_view_module": "@jupyter-widgets/controls",
            "_view_module_version": "1.5.0",
            "_view_name": "HTMLView",
            "description": "",
            "description_tooltip": null,
            "layout": "IPY_MODEL_42d619c52bb54ebb8bb876726b6edfeb",
            "placeholder": "​",
            "style": "IPY_MODEL_f51019fd326145dc93e84bd553f5c56a",
            "value": "bpe.codes: 100%"
          }
        },
        "afa39e6a5b64409fbb2945be534fee2b": {
          "model_module": "@jupyter-widgets/controls",
          "model_name": "FloatProgressModel",
          "model_module_version": "1.5.0",
          "state": {
            "_dom_classes": [],
            "_model_module": "@jupyter-widgets/controls",
            "_model_module_version": "1.5.0",
            "_model_name": "FloatProgressModel",
            "_view_count": null,
            "_view_module": "@jupyter-widgets/controls",
            "_view_module_version": "1.5.0",
            "_view_name": "ProgressView",
            "bar_style": "success",
            "description": "",
            "description_tooltip": null,
            "layout": "IPY_MODEL_c99a518e6fcf46ac8d213dc39449a4c1",
            "max": 1135173,
            "min": 0,
            "orientation": "horizontal",
            "style": "IPY_MODEL_068b4c5a6f2f4b5f9bd475d8f38c940e",
            "value": 1135173
          }
        },
        "5a44b46fa9cf4fe28d26a99e8b38664b": {
          "model_module": "@jupyter-widgets/controls",
          "model_name": "HTMLModel",
          "model_module_version": "1.5.0",
          "state": {
            "_dom_classes": [],
            "_model_module": "@jupyter-widgets/controls",
            "_model_module_version": "1.5.0",
            "_model_name": "HTMLModel",
            "_view_count": null,
            "_view_module": "@jupyter-widgets/controls",
            "_view_module_version": "1.5.0",
            "_view_name": "HTMLView",
            "description": "",
            "description_tooltip": null,
            "layout": "IPY_MODEL_6e44310bcf7949d59cd3d40e54342c71",
            "placeholder": "​",
            "style": "IPY_MODEL_1072f32816f244f1b8ac8d00ec377782",
            "value": " 1.14M/1.14M [00:00&lt;00:00, 4.57MB/s]"
          }
        },
        "09768338a9ae4f07b1a3f1642423a7ca": {
          "model_module": "@jupyter-widgets/base",
          "model_name": "LayoutModel",
          "model_module_version": "1.2.0",
          "state": {
            "_model_module": "@jupyter-widgets/base",
            "_model_module_version": "1.2.0",
            "_model_name": "LayoutModel",
            "_view_count": null,
            "_view_module": "@jupyter-widgets/base",
            "_view_module_version": "1.2.0",
            "_view_name": "LayoutView",
            "align_content": null,
            "align_items": null,
            "align_self": null,
            "border": null,
            "bottom": null,
            "display": null,
            "flex": null,
            "flex_flow": null,
            "grid_area": null,
            "grid_auto_columns": null,
            "grid_auto_flow": null,
            "grid_auto_rows": null,
            "grid_column": null,
            "grid_gap": null,
            "grid_row": null,
            "grid_template_areas": null,
            "grid_template_columns": null,
            "grid_template_rows": null,
            "height": null,
            "justify_content": null,
            "justify_items": null,
            "left": null,
            "margin": null,
            "max_height": null,
            "max_width": null,
            "min_height": null,
            "min_width": null,
            "object_fit": null,
            "object_position": null,
            "order": null,
            "overflow": null,
            "overflow_x": null,
            "overflow_y": null,
            "padding": null,
            "right": null,
            "top": null,
            "visibility": null,
            "width": null
          }
        },
        "42d619c52bb54ebb8bb876726b6edfeb": {
          "model_module": "@jupyter-widgets/base",
          "model_name": "LayoutModel",
          "model_module_version": "1.2.0",
          "state": {
            "_model_module": "@jupyter-widgets/base",
            "_model_module_version": "1.2.0",
            "_model_name": "LayoutModel",
            "_view_count": null,
            "_view_module": "@jupyter-widgets/base",
            "_view_module_version": "1.2.0",
            "_view_name": "LayoutView",
            "align_content": null,
            "align_items": null,
            "align_self": null,
            "border": null,
            "bottom": null,
            "display": null,
            "flex": null,
            "flex_flow": null,
            "grid_area": null,
            "grid_auto_columns": null,
            "grid_auto_flow": null,
            "grid_auto_rows": null,
            "grid_column": null,
            "grid_gap": null,
            "grid_row": null,
            "grid_template_areas": null,
            "grid_template_columns": null,
            "grid_template_rows": null,
            "height": null,
            "justify_content": null,
            "justify_items": null,
            "left": null,
            "margin": null,
            "max_height": null,
            "max_width": null,
            "min_height": null,
            "min_width": null,
            "object_fit": null,
            "object_position": null,
            "order": null,
            "overflow": null,
            "overflow_x": null,
            "overflow_y": null,
            "padding": null,
            "right": null,
            "top": null,
            "visibility": null,
            "width": null
          }
        },
        "f51019fd326145dc93e84bd553f5c56a": {
          "model_module": "@jupyter-widgets/controls",
          "model_name": "DescriptionStyleModel",
          "model_module_version": "1.5.0",
          "state": {
            "_model_module": "@jupyter-widgets/controls",
            "_model_module_version": "1.5.0",
            "_model_name": "DescriptionStyleModel",
            "_view_count": null,
            "_view_module": "@jupyter-widgets/base",
            "_view_module_version": "1.2.0",
            "_view_name": "StyleView",
            "description_width": ""
          }
        },
        "c99a518e6fcf46ac8d213dc39449a4c1": {
          "model_module": "@jupyter-widgets/base",
          "model_name": "LayoutModel",
          "model_module_version": "1.2.0",
          "state": {
            "_model_module": "@jupyter-widgets/base",
            "_model_module_version": "1.2.0",
            "_model_name": "LayoutModel",
            "_view_count": null,
            "_view_module": "@jupyter-widgets/base",
            "_view_module_version": "1.2.0",
            "_view_name": "LayoutView",
            "align_content": null,
            "align_items": null,
            "align_self": null,
            "border": null,
            "bottom": null,
            "display": null,
            "flex": null,
            "flex_flow": null,
            "grid_area": null,
            "grid_auto_columns": null,
            "grid_auto_flow": null,
            "grid_auto_rows": null,
            "grid_column": null,
            "grid_gap": null,
            "grid_row": null,
            "grid_template_areas": null,
            "grid_template_columns": null,
            "grid_template_rows": null,
            "height": null,
            "justify_content": null,
            "justify_items": null,
            "left": null,
            "margin": null,
            "max_height": null,
            "max_width": null,
            "min_height": null,
            "min_width": null,
            "object_fit": null,
            "object_position": null,
            "order": null,
            "overflow": null,
            "overflow_x": null,
            "overflow_y": null,
            "padding": null,
            "right": null,
            "top": null,
            "visibility": null,
            "width": null
          }
        },
        "068b4c5a6f2f4b5f9bd475d8f38c940e": {
          "model_module": "@jupyter-widgets/controls",
          "model_name": "ProgressStyleModel",
          "model_module_version": "1.5.0",
          "state": {
            "_model_module": "@jupyter-widgets/controls",
            "_model_module_version": "1.5.0",
            "_model_name": "ProgressStyleModel",
            "_view_count": null,
            "_view_module": "@jupyter-widgets/base",
            "_view_module_version": "1.2.0",
            "_view_name": "StyleView",
            "bar_color": null,
            "description_width": ""
          }
        },
        "6e44310bcf7949d59cd3d40e54342c71": {
          "model_module": "@jupyter-widgets/base",
          "model_name": "LayoutModel",
          "model_module_version": "1.2.0",
          "state": {
            "_model_module": "@jupyter-widgets/base",
            "_model_module_version": "1.2.0",
            "_model_name": "LayoutModel",
            "_view_count": null,
            "_view_module": "@jupyter-widgets/base",
            "_view_module_version": "1.2.0",
            "_view_name": "LayoutView",
            "align_content": null,
            "align_items": null,
            "align_self": null,
            "border": null,
            "bottom": null,
            "display": null,
            "flex": null,
            "flex_flow": null,
            "grid_area": null,
            "grid_auto_columns": null,
            "grid_auto_flow": null,
            "grid_auto_rows": null,
            "grid_column": null,
            "grid_gap": null,
            "grid_row": null,
            "grid_template_areas": null,
            "grid_template_columns": null,
            "grid_template_rows": null,
            "height": null,
            "justify_content": null,
            "justify_items": null,
            "left": null,
            "margin": null,
            "max_height": null,
            "max_width": null,
            "min_height": null,
            "min_width": null,
            "object_fit": null,
            "object_position": null,
            "order": null,
            "overflow": null,
            "overflow_x": null,
            "overflow_y": null,
            "padding": null,
            "right": null,
            "top": null,
            "visibility": null,
            "width": null
          }
        },
        "1072f32816f244f1b8ac8d00ec377782": {
          "model_module": "@jupyter-widgets/controls",
          "model_name": "DescriptionStyleModel",
          "model_module_version": "1.5.0",
          "state": {
            "_model_module": "@jupyter-widgets/controls",
            "_model_module_version": "1.5.0",
            "_model_name": "DescriptionStyleModel",
            "_view_count": null,
            "_view_module": "@jupyter-widgets/base",
            "_view_module_version": "1.2.0",
            "_view_name": "StyleView",
            "description_width": ""
          }
        },
        "9e8515d6218b4ac1a749a49c35b6c5c5": {
          "model_module": "@jupyter-widgets/controls",
          "model_name": "HBoxModel",
          "model_module_version": "1.5.0",
          "state": {
            "_dom_classes": [],
            "_model_module": "@jupyter-widgets/controls",
            "_model_module_version": "1.5.0",
            "_model_name": "HBoxModel",
            "_view_count": null,
            "_view_module": "@jupyter-widgets/controls",
            "_view_module_version": "1.5.0",
            "_view_name": "HBoxView",
            "box_style": "",
            "children": [
              "IPY_MODEL_dba8bcc06fc645a3b4b13fe44ac02bd4",
              "IPY_MODEL_778b1afb7db44701a2ad1a50f7dc6bf6",
              "IPY_MODEL_bf9f5d8eda604dff8d3572cadf6ab333"
            ],
            "layout": "IPY_MODEL_c700362a6b4f49b4882c096d5b8ff50a"
          }
        },
        "dba8bcc06fc645a3b4b13fe44ac02bd4": {
          "model_module": "@jupyter-widgets/controls",
          "model_name": "HTMLModel",
          "model_module_version": "1.5.0",
          "state": {
            "_dom_classes": [],
            "_model_module": "@jupyter-widgets/controls",
            "_model_module_version": "1.5.0",
            "_model_name": "HTMLModel",
            "_view_count": null,
            "_view_module": "@jupyter-widgets/controls",
            "_view_module_version": "1.5.0",
            "_view_name": "HTMLView",
            "description": "",
            "description_tooltip": null,
            "layout": "IPY_MODEL_f86840fb5f374ded9bd9c87e8ff509ec",
            "placeholder": "​",
            "style": "IPY_MODEL_7187f357a8f842e982e4330ca19e7467",
            "value": "tokenizer.json: 100%"
          }
        },
        "778b1afb7db44701a2ad1a50f7dc6bf6": {
          "model_module": "@jupyter-widgets/controls",
          "model_name": "FloatProgressModel",
          "model_module_version": "1.5.0",
          "state": {
            "_dom_classes": [],
            "_model_module": "@jupyter-widgets/controls",
            "_model_module_version": "1.5.0",
            "_model_name": "FloatProgressModel",
            "_view_count": null,
            "_view_module": "@jupyter-widgets/controls",
            "_view_module_version": "1.5.0",
            "_view_name": "ProgressView",
            "bar_style": "success",
            "description": "",
            "description_tooltip": null,
            "layout": "IPY_MODEL_cef00abeb0a745049e10d3ba1bea0fbf",
            "max": 3132320,
            "min": 0,
            "orientation": "horizontal",
            "style": "IPY_MODEL_5aaac1f26c80408197f349445ad32e52",
            "value": 3132320
          }
        },
        "bf9f5d8eda604dff8d3572cadf6ab333": {
          "model_module": "@jupyter-widgets/controls",
          "model_name": "HTMLModel",
          "model_module_version": "1.5.0",
          "state": {
            "_dom_classes": [],
            "_model_module": "@jupyter-widgets/controls",
            "_model_module_version": "1.5.0",
            "_model_name": "HTMLModel",
            "_view_count": null,
            "_view_module": "@jupyter-widgets/controls",
            "_view_module_version": "1.5.0",
            "_view_name": "HTMLView",
            "description": "",
            "description_tooltip": null,
            "layout": "IPY_MODEL_73aafb2ea02b4becbc56788db1a00857",
            "placeholder": "​",
            "style": "IPY_MODEL_f193a851d86349779785ca0c91866813",
            "value": " 3.13M/3.13M [00:00&lt;00:00, 10.3MB/s]"
          }
        },
        "c700362a6b4f49b4882c096d5b8ff50a": {
          "model_module": "@jupyter-widgets/base",
          "model_name": "LayoutModel",
          "model_module_version": "1.2.0",
          "state": {
            "_model_module": "@jupyter-widgets/base",
            "_model_module_version": "1.2.0",
            "_model_name": "LayoutModel",
            "_view_count": null,
            "_view_module": "@jupyter-widgets/base",
            "_view_module_version": "1.2.0",
            "_view_name": "LayoutView",
            "align_content": null,
            "align_items": null,
            "align_self": null,
            "border": null,
            "bottom": null,
            "display": null,
            "flex": null,
            "flex_flow": null,
            "grid_area": null,
            "grid_auto_columns": null,
            "grid_auto_flow": null,
            "grid_auto_rows": null,
            "grid_column": null,
            "grid_gap": null,
            "grid_row": null,
            "grid_template_areas": null,
            "grid_template_columns": null,
            "grid_template_rows": null,
            "height": null,
            "justify_content": null,
            "justify_items": null,
            "left": null,
            "margin": null,
            "max_height": null,
            "max_width": null,
            "min_height": null,
            "min_width": null,
            "object_fit": null,
            "object_position": null,
            "order": null,
            "overflow": null,
            "overflow_x": null,
            "overflow_y": null,
            "padding": null,
            "right": null,
            "top": null,
            "visibility": null,
            "width": null
          }
        },
        "f86840fb5f374ded9bd9c87e8ff509ec": {
          "model_module": "@jupyter-widgets/base",
          "model_name": "LayoutModel",
          "model_module_version": "1.2.0",
          "state": {
            "_model_module": "@jupyter-widgets/base",
            "_model_module_version": "1.2.0",
            "_model_name": "LayoutModel",
            "_view_count": null,
            "_view_module": "@jupyter-widgets/base",
            "_view_module_version": "1.2.0",
            "_view_name": "LayoutView",
            "align_content": null,
            "align_items": null,
            "align_self": null,
            "border": null,
            "bottom": null,
            "display": null,
            "flex": null,
            "flex_flow": null,
            "grid_area": null,
            "grid_auto_columns": null,
            "grid_auto_flow": null,
            "grid_auto_rows": null,
            "grid_column": null,
            "grid_gap": null,
            "grid_row": null,
            "grid_template_areas": null,
            "grid_template_columns": null,
            "grid_template_rows": null,
            "height": null,
            "justify_content": null,
            "justify_items": null,
            "left": null,
            "margin": null,
            "max_height": null,
            "max_width": null,
            "min_height": null,
            "min_width": null,
            "object_fit": null,
            "object_position": null,
            "order": null,
            "overflow": null,
            "overflow_x": null,
            "overflow_y": null,
            "padding": null,
            "right": null,
            "top": null,
            "visibility": null,
            "width": null
          }
        },
        "7187f357a8f842e982e4330ca19e7467": {
          "model_module": "@jupyter-widgets/controls",
          "model_name": "DescriptionStyleModel",
          "model_module_version": "1.5.0",
          "state": {
            "_model_module": "@jupyter-widgets/controls",
            "_model_module_version": "1.5.0",
            "_model_name": "DescriptionStyleModel",
            "_view_count": null,
            "_view_module": "@jupyter-widgets/base",
            "_view_module_version": "1.2.0",
            "_view_name": "StyleView",
            "description_width": ""
          }
        },
        "cef00abeb0a745049e10d3ba1bea0fbf": {
          "model_module": "@jupyter-widgets/base",
          "model_name": "LayoutModel",
          "model_module_version": "1.2.0",
          "state": {
            "_model_module": "@jupyter-widgets/base",
            "_model_module_version": "1.2.0",
            "_model_name": "LayoutModel",
            "_view_count": null,
            "_view_module": "@jupyter-widgets/base",
            "_view_module_version": "1.2.0",
            "_view_name": "LayoutView",
            "align_content": null,
            "align_items": null,
            "align_self": null,
            "border": null,
            "bottom": null,
            "display": null,
            "flex": null,
            "flex_flow": null,
            "grid_area": null,
            "grid_auto_columns": null,
            "grid_auto_flow": null,
            "grid_auto_rows": null,
            "grid_column": null,
            "grid_gap": null,
            "grid_row": null,
            "grid_template_areas": null,
            "grid_template_columns": null,
            "grid_template_rows": null,
            "height": null,
            "justify_content": null,
            "justify_items": null,
            "left": null,
            "margin": null,
            "max_height": null,
            "max_width": null,
            "min_height": null,
            "min_width": null,
            "object_fit": null,
            "object_position": null,
            "order": null,
            "overflow": null,
            "overflow_x": null,
            "overflow_y": null,
            "padding": null,
            "right": null,
            "top": null,
            "visibility": null,
            "width": null
          }
        },
        "5aaac1f26c80408197f349445ad32e52": {
          "model_module": "@jupyter-widgets/controls",
          "model_name": "ProgressStyleModel",
          "model_module_version": "1.5.0",
          "state": {
            "_model_module": "@jupyter-widgets/controls",
            "_model_module_version": "1.5.0",
            "_model_name": "ProgressStyleModel",
            "_view_count": null,
            "_view_module": "@jupyter-widgets/base",
            "_view_module_version": "1.2.0",
            "_view_name": "StyleView",
            "bar_color": null,
            "description_width": ""
          }
        },
        "73aafb2ea02b4becbc56788db1a00857": {
          "model_module": "@jupyter-widgets/base",
          "model_name": "LayoutModel",
          "model_module_version": "1.2.0",
          "state": {
            "_model_module": "@jupyter-widgets/base",
            "_model_module_version": "1.2.0",
            "_model_name": "LayoutModel",
            "_view_count": null,
            "_view_module": "@jupyter-widgets/base",
            "_view_module_version": "1.2.0",
            "_view_name": "LayoutView",
            "align_content": null,
            "align_items": null,
            "align_self": null,
            "border": null,
            "bottom": null,
            "display": null,
            "flex": null,
            "flex_flow": null,
            "grid_area": null,
            "grid_auto_columns": null,
            "grid_auto_flow": null,
            "grid_auto_rows": null,
            "grid_column": null,
            "grid_gap": null,
            "grid_row": null,
            "grid_template_areas": null,
            "grid_template_columns": null,
            "grid_template_rows": null,
            "height": null,
            "justify_content": null,
            "justify_items": null,
            "left": null,
            "margin": null,
            "max_height": null,
            "max_width": null,
            "min_height": null,
            "min_width": null,
            "object_fit": null,
            "object_position": null,
            "order": null,
            "overflow": null,
            "overflow_x": null,
            "overflow_y": null,
            "padding": null,
            "right": null,
            "top": null,
            "visibility": null,
            "width": null
          }
        },
        "f193a851d86349779785ca0c91866813": {
          "model_module": "@jupyter-widgets/controls",
          "model_name": "DescriptionStyleModel",
          "model_module_version": "1.5.0",
          "state": {
            "_model_module": "@jupyter-widgets/controls",
            "_model_module_version": "1.5.0",
            "_model_name": "DescriptionStyleModel",
            "_view_count": null,
            "_view_module": "@jupyter-widgets/base",
            "_view_module_version": "1.2.0",
            "_view_name": "StyleView",
            "description_width": ""
          }
        },
        "403800341add42e1b652a389d04cbb60": {
          "model_module": "@jupyter-widgets/controls",
          "model_name": "HBoxModel",
          "model_module_version": "1.5.0",
          "state": {
            "_dom_classes": [],
            "_model_module": "@jupyter-widgets/controls",
            "_model_module_version": "1.5.0",
            "_model_name": "HBoxModel",
            "_view_count": null,
            "_view_module": "@jupyter-widgets/controls",
            "_view_module_version": "1.5.0",
            "_view_name": "HBoxView",
            "box_style": "",
            "children": [
              "IPY_MODEL_39dc6ad1324146b5ab9b064faa3831c2",
              "IPY_MODEL_086619e5d592433a86eecc3bf2309a32",
              "IPY_MODEL_28da8f2624c649b6964028a4ae8f3a95"
            ],
            "layout": "IPY_MODEL_f442842c7fde4693843387f71ee428a5"
          }
        },
        "39dc6ad1324146b5ab9b064faa3831c2": {
          "model_module": "@jupyter-widgets/controls",
          "model_name": "HTMLModel",
          "model_module_version": "1.5.0",
          "state": {
            "_dom_classes": [],
            "_model_module": "@jupyter-widgets/controls",
            "_model_module_version": "1.5.0",
            "_model_name": "HTMLModel",
            "_view_count": null,
            "_view_module": "@jupyter-widgets/controls",
            "_view_module_version": "1.5.0",
            "_view_name": "HTMLView",
            "description": "",
            "description_tooltip": null,
            "layout": "IPY_MODEL_b2b7d406895147d1a5cb2612013694d4",
            "placeholder": "​",
            "style": "IPY_MODEL_318bea871c4f4d92bf5c88d9fca37916",
            "value": "pytorch_model.bin: 100%"
          }
        },
        "086619e5d592433a86eecc3bf2309a32": {
          "model_module": "@jupyter-widgets/controls",
          "model_name": "FloatProgressModel",
          "model_module_version": "1.5.0",
          "state": {
            "_dom_classes": [],
            "_model_module": "@jupyter-widgets/controls",
            "_model_module_version": "1.5.0",
            "_model_name": "FloatProgressModel",
            "_view_count": null,
            "_view_module": "@jupyter-widgets/controls",
            "_view_module_version": "1.5.0",
            "_view_name": "ProgressView",
            "bar_style": "success",
            "description": "",
            "description_tooltip": null,
            "layout": "IPY_MODEL_2d9a62c97f0f4805a52222c978c0ca48",
            "max": 542923308,
            "min": 0,
            "orientation": "horizontal",
            "style": "IPY_MODEL_b84280e8189843ea81b0d70230943bc2",
            "value": 542923308
          }
        },
        "28da8f2624c649b6964028a4ae8f3a95": {
          "model_module": "@jupyter-widgets/controls",
          "model_name": "HTMLModel",
          "model_module_version": "1.5.0",
          "state": {
            "_dom_classes": [],
            "_model_module": "@jupyter-widgets/controls",
            "_model_module_version": "1.5.0",
            "_model_name": "HTMLModel",
            "_view_count": null,
            "_view_module": "@jupyter-widgets/controls",
            "_view_module_version": "1.5.0",
            "_view_name": "HTMLView",
            "description": "",
            "description_tooltip": null,
            "layout": "IPY_MODEL_aa79982be712400b8fc92a351846d119",
            "placeholder": "​",
            "style": "IPY_MODEL_815b475ea13e486ea7120329af1e5907",
            "value": " 543M/543M [00:04&lt;00:00, 123MB/s]"
          }
        },
        "f442842c7fde4693843387f71ee428a5": {
          "model_module": "@jupyter-widgets/base",
          "model_name": "LayoutModel",
          "model_module_version": "1.2.0",
          "state": {
            "_model_module": "@jupyter-widgets/base",
            "_model_module_version": "1.2.0",
            "_model_name": "LayoutModel",
            "_view_count": null,
            "_view_module": "@jupyter-widgets/base",
            "_view_module_version": "1.2.0",
            "_view_name": "LayoutView",
            "align_content": null,
            "align_items": null,
            "align_self": null,
            "border": null,
            "bottom": null,
            "display": null,
            "flex": null,
            "flex_flow": null,
            "grid_area": null,
            "grid_auto_columns": null,
            "grid_auto_flow": null,
            "grid_auto_rows": null,
            "grid_column": null,
            "grid_gap": null,
            "grid_row": null,
            "grid_template_areas": null,
            "grid_template_columns": null,
            "grid_template_rows": null,
            "height": null,
            "justify_content": null,
            "justify_items": null,
            "left": null,
            "margin": null,
            "max_height": null,
            "max_width": null,
            "min_height": null,
            "min_width": null,
            "object_fit": null,
            "object_position": null,
            "order": null,
            "overflow": null,
            "overflow_x": null,
            "overflow_y": null,
            "padding": null,
            "right": null,
            "top": null,
            "visibility": null,
            "width": null
          }
        },
        "b2b7d406895147d1a5cb2612013694d4": {
          "model_module": "@jupyter-widgets/base",
          "model_name": "LayoutModel",
          "model_module_version": "1.2.0",
          "state": {
            "_model_module": "@jupyter-widgets/base",
            "_model_module_version": "1.2.0",
            "_model_name": "LayoutModel",
            "_view_count": null,
            "_view_module": "@jupyter-widgets/base",
            "_view_module_version": "1.2.0",
            "_view_name": "LayoutView",
            "align_content": null,
            "align_items": null,
            "align_self": null,
            "border": null,
            "bottom": null,
            "display": null,
            "flex": null,
            "flex_flow": null,
            "grid_area": null,
            "grid_auto_columns": null,
            "grid_auto_flow": null,
            "grid_auto_rows": null,
            "grid_column": null,
            "grid_gap": null,
            "grid_row": null,
            "grid_template_areas": null,
            "grid_template_columns": null,
            "grid_template_rows": null,
            "height": null,
            "justify_content": null,
            "justify_items": null,
            "left": null,
            "margin": null,
            "max_height": null,
            "max_width": null,
            "min_height": null,
            "min_width": null,
            "object_fit": null,
            "object_position": null,
            "order": null,
            "overflow": null,
            "overflow_x": null,
            "overflow_y": null,
            "padding": null,
            "right": null,
            "top": null,
            "visibility": null,
            "width": null
          }
        },
        "318bea871c4f4d92bf5c88d9fca37916": {
          "model_module": "@jupyter-widgets/controls",
          "model_name": "DescriptionStyleModel",
          "model_module_version": "1.5.0",
          "state": {
            "_model_module": "@jupyter-widgets/controls",
            "_model_module_version": "1.5.0",
            "_model_name": "DescriptionStyleModel",
            "_view_count": null,
            "_view_module": "@jupyter-widgets/base",
            "_view_module_version": "1.2.0",
            "_view_name": "StyleView",
            "description_width": ""
          }
        },
        "2d9a62c97f0f4805a52222c978c0ca48": {
          "model_module": "@jupyter-widgets/base",
          "model_name": "LayoutModel",
          "model_module_version": "1.2.0",
          "state": {
            "_model_module": "@jupyter-widgets/base",
            "_model_module_version": "1.2.0",
            "_model_name": "LayoutModel",
            "_view_count": null,
            "_view_module": "@jupyter-widgets/base",
            "_view_module_version": "1.2.0",
            "_view_name": "LayoutView",
            "align_content": null,
            "align_items": null,
            "align_self": null,
            "border": null,
            "bottom": null,
            "display": null,
            "flex": null,
            "flex_flow": null,
            "grid_area": null,
            "grid_auto_columns": null,
            "grid_auto_flow": null,
            "grid_auto_rows": null,
            "grid_column": null,
            "grid_gap": null,
            "grid_row": null,
            "grid_template_areas": null,
            "grid_template_columns": null,
            "grid_template_rows": null,
            "height": null,
            "justify_content": null,
            "justify_items": null,
            "left": null,
            "margin": null,
            "max_height": null,
            "max_width": null,
            "min_height": null,
            "min_width": null,
            "object_fit": null,
            "object_position": null,
            "order": null,
            "overflow": null,
            "overflow_x": null,
            "overflow_y": null,
            "padding": null,
            "right": null,
            "top": null,
            "visibility": null,
            "width": null
          }
        },
        "b84280e8189843ea81b0d70230943bc2": {
          "model_module": "@jupyter-widgets/controls",
          "model_name": "ProgressStyleModel",
          "model_module_version": "1.5.0",
          "state": {
            "_model_module": "@jupyter-widgets/controls",
            "_model_module_version": "1.5.0",
            "_model_name": "ProgressStyleModel",
            "_view_count": null,
            "_view_module": "@jupyter-widgets/base",
            "_view_module_version": "1.2.0",
            "_view_name": "StyleView",
            "bar_color": null,
            "description_width": ""
          }
        },
        "aa79982be712400b8fc92a351846d119": {
          "model_module": "@jupyter-widgets/base",
          "model_name": "LayoutModel",
          "model_module_version": "1.2.0",
          "state": {
            "_model_module": "@jupyter-widgets/base",
            "_model_module_version": "1.2.0",
            "_model_name": "LayoutModel",
            "_view_count": null,
            "_view_module": "@jupyter-widgets/base",
            "_view_module_version": "1.2.0",
            "_view_name": "LayoutView",
            "align_content": null,
            "align_items": null,
            "align_self": null,
            "border": null,
            "bottom": null,
            "display": null,
            "flex": null,
            "flex_flow": null,
            "grid_area": null,
            "grid_auto_columns": null,
            "grid_auto_flow": null,
            "grid_auto_rows": null,
            "grid_column": null,
            "grid_gap": null,
            "grid_row": null,
            "grid_template_areas": null,
            "grid_template_columns": null,
            "grid_template_rows": null,
            "height": null,
            "justify_content": null,
            "justify_items": null,
            "left": null,
            "margin": null,
            "max_height": null,
            "max_width": null,
            "min_height": null,
            "min_width": null,
            "object_fit": null,
            "object_position": null,
            "order": null,
            "overflow": null,
            "overflow_x": null,
            "overflow_y": null,
            "padding": null,
            "right": null,
            "top": null,
            "visibility": null,
            "width": null
          }
        },
        "815b475ea13e486ea7120329af1e5907": {
          "model_module": "@jupyter-widgets/controls",
          "model_name": "DescriptionStyleModel",
          "model_module_version": "1.5.0",
          "state": {
            "_model_module": "@jupyter-widgets/controls",
            "_model_module_version": "1.5.0",
            "_model_name": "DescriptionStyleModel",
            "_view_count": null,
            "_view_module": "@jupyter-widgets/base",
            "_view_module_version": "1.2.0",
            "_view_name": "StyleView",
            "description_width": ""
          }
        }
      }
    },
    "accelerator": "GPU"
  },
  "cells": [
    {
      "cell_type": "markdown",
      "metadata": {
        "id": "view-in-github",
        "colab_type": "text"
      },
      "source": [
        "<a href=\"https://colab.research.google.com/github/nvhieu0163/ComparativeOpinionMining_KLTN2023/blob/main/2_joint_CEE_SC_using_phoBERT_CRF.ipynb\" target=\"_parent\"><img src=\"https://colab.research.google.com/assets/colab-badge.svg\" alt=\"Open In Colab\"/></a>"
      ]
    },
    {
      "cell_type": "code",
      "execution_count": 1,
      "metadata": {
        "colab": {
          "base_uri": "https://localhost:8080/"
        },
        "id": "YCX5csPcNYFc",
        "outputId": "82d07f3b-46fe-419f-cb1e-5d4a615535b6"
      },
      "outputs": [
        {
          "output_type": "stream",
          "name": "stdout",
          "text": [
            "Mounted at /content/drive\n"
          ]
        }
      ],
      "source": [
        "from google.colab import drive\n",
        "drive.mount('/content/drive')"
      ]
    },
    {
      "cell_type": "markdown",
      "source": [
        "## Tải thư viện"
      ],
      "metadata": {
        "id": "AnmFXlX8NtG_"
      }
    },
    {
      "cell_type": "code",
      "source": [
        "!pip install pytorch-crf"
      ],
      "metadata": {
        "colab": {
          "base_uri": "https://localhost:8080/"
        },
        "id": "c5IRb3TUQwBu",
        "outputId": "a1e38040-b838-42dc-bc97-d83debed939c"
      },
      "execution_count": 2,
      "outputs": [
        {
          "output_type": "stream",
          "name": "stdout",
          "text": [
            "Collecting pytorch-crf\n",
            "  Downloading pytorch_crf-0.7.2-py3-none-any.whl (9.5 kB)\n",
            "Installing collected packages: pytorch-crf\n",
            "Successfully installed pytorch-crf-0.7.2\n"
          ]
        }
      ]
    },
    {
      "cell_type": "code",
      "source": [
        "!pip install py_vncorenlp\n",
        "!pip install transformers\n",
        "!pip install tokenizers"
      ],
      "metadata": {
        "colab": {
          "base_uri": "https://localhost:8080/"
        },
        "id": "U05xHp4IUIIg",
        "outputId": "8af01d4a-7a19-429b-a93b-f878998d972a"
      },
      "execution_count": 3,
      "outputs": [
        {
          "output_type": "stream",
          "name": "stdout",
          "text": [
            "Collecting py_vncorenlp\n",
            "  Downloading py_vncorenlp-0.1.4.tar.gz (3.9 kB)\n",
            "  Preparing metadata (setup.py) ... \u001b[?25l\u001b[?25hdone\n",
            "Collecting pyjnius (from py_vncorenlp)\n",
            "  Downloading pyjnius-1.6.1-cp310-cp310-manylinux_2_17_x86_64.manylinux2014_x86_64.whl (1.5 MB)\n",
            "\u001b[2K     \u001b[90m━━━━━━━━━━━━━━━━━━━━━━━━━━━━━━━━━━━━━━━━\u001b[0m \u001b[32m1.5/1.5 MB\u001b[0m \u001b[31m8.2 MB/s\u001b[0m eta \u001b[36m0:00:00\u001b[0m\n",
            "\u001b[?25hBuilding wheels for collected packages: py_vncorenlp\n",
            "  Building wheel for py_vncorenlp (setup.py) ... \u001b[?25l\u001b[?25hdone\n",
            "  Created wheel for py_vncorenlp: filename=py_vncorenlp-0.1.4-py3-none-any.whl size=4307 sha256=c9bb8b5ecf7ad4e9dbf72ba8c13d92a45c8c892c50077df83e22fd6fee6f29bf\n",
            "  Stored in directory: /root/.cache/pip/wheels/d5/d9/bf/62632cdb007c702a0664091e92a0bb1f18a2fcecbe962d9827\n",
            "Successfully built py_vncorenlp\n",
            "Installing collected packages: pyjnius, py_vncorenlp\n",
            "Successfully installed py_vncorenlp-0.1.4 pyjnius-1.6.1\n",
            "Requirement already satisfied: transformers in /usr/local/lib/python3.10/dist-packages (4.35.2)\n",
            "Requirement already satisfied: filelock in /usr/local/lib/python3.10/dist-packages (from transformers) (3.13.1)\n",
            "Requirement already satisfied: huggingface-hub<1.0,>=0.16.4 in /usr/local/lib/python3.10/dist-packages (from transformers) (0.19.4)\n",
            "Requirement already satisfied: numpy>=1.17 in /usr/local/lib/python3.10/dist-packages (from transformers) (1.23.5)\n",
            "Requirement already satisfied: packaging>=20.0 in /usr/local/lib/python3.10/dist-packages (from transformers) (23.2)\n",
            "Requirement already satisfied: pyyaml>=5.1 in /usr/local/lib/python3.10/dist-packages (from transformers) (6.0.1)\n",
            "Requirement already satisfied: regex!=2019.12.17 in /usr/local/lib/python3.10/dist-packages (from transformers) (2023.6.3)\n",
            "Requirement already satisfied: requests in /usr/local/lib/python3.10/dist-packages (from transformers) (2.31.0)\n",
            "Requirement already satisfied: tokenizers<0.19,>=0.14 in /usr/local/lib/python3.10/dist-packages (from transformers) (0.15.0)\n",
            "Requirement already satisfied: safetensors>=0.3.1 in /usr/local/lib/python3.10/dist-packages (from transformers) (0.4.1)\n",
            "Requirement already satisfied: tqdm>=4.27 in /usr/local/lib/python3.10/dist-packages (from transformers) (4.66.1)\n",
            "Requirement already satisfied: fsspec>=2023.5.0 in /usr/local/lib/python3.10/dist-packages (from huggingface-hub<1.0,>=0.16.4->transformers) (2023.6.0)\n",
            "Requirement already satisfied: typing-extensions>=3.7.4.3 in /usr/local/lib/python3.10/dist-packages (from huggingface-hub<1.0,>=0.16.4->transformers) (4.5.0)\n",
            "Requirement already satisfied: charset-normalizer<4,>=2 in /usr/local/lib/python3.10/dist-packages (from requests->transformers) (3.3.2)\n",
            "Requirement already satisfied: idna<4,>=2.5 in /usr/local/lib/python3.10/dist-packages (from requests->transformers) (3.6)\n",
            "Requirement already satisfied: urllib3<3,>=1.21.1 in /usr/local/lib/python3.10/dist-packages (from requests->transformers) (2.0.7)\n",
            "Requirement already satisfied: certifi>=2017.4.17 in /usr/local/lib/python3.10/dist-packages (from requests->transformers) (2023.11.17)\n",
            "Requirement already satisfied: tokenizers in /usr/local/lib/python3.10/dist-packages (0.15.0)\n",
            "Requirement already satisfied: huggingface_hub<1.0,>=0.16.4 in /usr/local/lib/python3.10/dist-packages (from tokenizers) (0.19.4)\n",
            "Requirement already satisfied: filelock in /usr/local/lib/python3.10/dist-packages (from huggingface_hub<1.0,>=0.16.4->tokenizers) (3.13.1)\n",
            "Requirement already satisfied: fsspec>=2023.5.0 in /usr/local/lib/python3.10/dist-packages (from huggingface_hub<1.0,>=0.16.4->tokenizers) (2023.6.0)\n",
            "Requirement already satisfied: requests in /usr/local/lib/python3.10/dist-packages (from huggingface_hub<1.0,>=0.16.4->tokenizers) (2.31.0)\n",
            "Requirement already satisfied: tqdm>=4.42.1 in /usr/local/lib/python3.10/dist-packages (from huggingface_hub<1.0,>=0.16.4->tokenizers) (4.66.1)\n",
            "Requirement already satisfied: pyyaml>=5.1 in /usr/local/lib/python3.10/dist-packages (from huggingface_hub<1.0,>=0.16.4->tokenizers) (6.0.1)\n",
            "Requirement already satisfied: typing-extensions>=3.7.4.3 in /usr/local/lib/python3.10/dist-packages (from huggingface_hub<1.0,>=0.16.4->tokenizers) (4.5.0)\n",
            "Requirement already satisfied: packaging>=20.9 in /usr/local/lib/python3.10/dist-packages (from huggingface_hub<1.0,>=0.16.4->tokenizers) (23.2)\n",
            "Requirement already satisfied: charset-normalizer<4,>=2 in /usr/local/lib/python3.10/dist-packages (from requests->huggingface_hub<1.0,>=0.16.4->tokenizers) (3.3.2)\n",
            "Requirement already satisfied: idna<4,>=2.5 in /usr/local/lib/python3.10/dist-packages (from requests->huggingface_hub<1.0,>=0.16.4->tokenizers) (3.6)\n",
            "Requirement already satisfied: urllib3<3,>=1.21.1 in /usr/local/lib/python3.10/dist-packages (from requests->huggingface_hub<1.0,>=0.16.4->tokenizers) (2.0.7)\n",
            "Requirement already satisfied: certifi>=2017.4.17 in /usr/local/lib/python3.10/dist-packages (from requests->huggingface_hub<1.0,>=0.16.4->tokenizers) (2023.11.17)\n"
          ]
        }
      ]
    },
    {
      "cell_type": "markdown",
      "source": [
        "## Load dữ liệu"
      ],
      "metadata": {
        "id": "F9kqsLtMN6Aa"
      }
    },
    {
      "cell_type": "code",
      "source": [
        "cd \"/content/drive/MyDrive/\""
      ],
      "metadata": {
        "colab": {
          "base_uri": "https://localhost:8080/"
        },
        "id": "x_EF_nAnImq8",
        "outputId": "4bd61861-22da-4294-ce24-e9b7ccc6e0c9"
      },
      "execution_count": 4,
      "outputs": [
        {
          "output_type": "stream",
          "name": "stdout",
          "text": [
            "/content/drive/MyDrive\n"
          ]
        }
      ]
    },
    {
      "cell_type": "code",
      "source": [
        "import json"
      ],
      "metadata": {
        "id": "P2HzZpcYkS9a"
      },
      "execution_count": 5,
      "outputs": []
    },
    {
      "cell_type": "code",
      "source": [
        "list_of_stc = []\n",
        "list_of_list_token_of_stc = []\n",
        "list_of_list_label_of_stc = []\n",
        "list_of_list_postag_of_stc = []\n",
        "\n",
        "list_of_sentiment = []\n",
        "list_of_stc_id = []\n",
        "\n",
        "with open(\"./file12345_isPOStag_NER_phase_filter_UNK_oversampling.txt\", \"r\", encoding = \"utf-8\") as f:\n",
        "    while f:\n",
        "        info = f.readline()[:-1] # bỏ dấu xuống dòng\n",
        "        stc = f.readline()[:-1]\n",
        "        token = f.readline()[:-1]\n",
        "        label = f.readline()[:-1]\n",
        "        postag = f.readline()[:-1]\n",
        "\n",
        "        # check hết file\n",
        "        if info == \"\" and stc == \"\" and label == \"\":\n",
        "            break\n",
        "\n",
        "        # split info\n",
        "        info_split = info.split(\"\\t\")\n",
        "\n",
        "        # add idx, add sentiment\n",
        "        list_of_stc_id.append(int(info_split[0]))\n",
        "        sentiment = json.loads(info_split[1])\n",
        "        list_of_sentiment.append(sentiment)\n",
        "\n",
        "        # if sentiment[0] == 0:\n",
        "        #     list_of_sentiment.append([1])\n",
        "        # elif sentiment[0] in [1, 2]:\n",
        "        #     list_of_sentiment.append([2])\n",
        "        # else:\n",
        "        #     assert sentiment[0] in [-1, -2]\n",
        "        #     list_of_sentiment.append([0])\n",
        "\n",
        "        # add stc, add label\n",
        "        list_of_stc.append(json.loads(stc))\n",
        "        list_of_list_token_of_stc.append(json.loads(token))\n",
        "        list_of_list_label_of_stc.append(json.loads(label))\n",
        "        list_of_list_postag_of_stc.append(json.loads(postag))"
      ],
      "metadata": {
        "id": "46OLFYP0Nxt2"
      },
      "execution_count": 6,
      "outputs": []
    },
    {
      "cell_type": "code",
      "source": [
        "len(list_of_sentiment)"
      ],
      "metadata": {
        "colab": {
          "base_uri": "https://localhost:8080/"
        },
        "id": "gEIhoRxvNyz4",
        "outputId": "741abbc7-7096-4834-fe9e-82ad5e1a5400"
      },
      "execution_count": 7,
      "outputs": [
        {
          "output_type": "execute_result",
          "data": {
            "text/plain": [
              "9211"
            ]
          },
          "metadata": {},
          "execution_count": 7
        }
      ]
    },
    {
      "cell_type": "markdown",
      "source": [
        "## Check các nhãn trong tập dữ liệu"
      ],
      "metadata": {
        "id": "c1GFPo3dQi2M"
      }
    },
    {
      "cell_type": "code",
      "source": [
        "# Check how many labels are there in the dataset\n",
        "unique_labels = set()\n",
        "\n",
        "for list_lb in list_of_list_label_of_stc:\n",
        "  [unique_labels.add(lb) for lb in list_lb if lb not in unique_labels]\n",
        "\n",
        "print(unique_labels)"
      ],
      "metadata": {
        "colab": {
          "base_uri": "https://localhost:8080/"
        },
        "id": "Cn5hdzgvQUlw",
        "outputId": "d2e2a445-ddfc-4cdc-b5ff-5976d80a3642"
      },
      "execution_count": 8,
      "outputs": [
        {
          "output_type": "stream",
          "name": "stdout",
          "text": [
            "{'B-sub', 'B-ap', 'I-obj', 'O', 'I-ap', 'B-obj', 'I-sub'}\n"
          ]
        }
      ]
    },
    {
      "cell_type": "markdown",
      "source": [
        "## Load BERT Tokenizer"
      ],
      "metadata": {
        "id": "rw8dCpFOnZb5"
      }
    },
    {
      "cell_type": "code",
      "source": [
        "from transformers import AutoModel, AutoTokenizer\n",
        "tokenizer = AutoTokenizer.from_pretrained(\"vinai/phobert-base\")"
      ],
      "metadata": {
        "colab": {
          "base_uri": "https://localhost:8080/",
          "height": 145,
          "referenced_widgets": [
            "a598d71e262e4b9c9df6acbc2f4c3081",
            "18e5b2d3337c40a58ace0fade3936c58",
            "46ede49a0e5b45dc8d300536ae095287",
            "cf653966389343ca9c9bddb9b84afdfd",
            "4db47e47323648b9ab6f195865f0ccd0",
            "611d18f8eeb549b691d56173ae16a682",
            "fb64e498c8ef4c449ddbe9f9d5663e65",
            "a96c5314f4ef4162927ea07d712f7f1f",
            "c1ee5b96664c4863a88c49986ce18cf3",
            "9ccad81daee94fe18f1dfbdc1ca41736",
            "10a46023262d42399929f980b67ba3ee",
            "56cfa2d401aa47578bd747681c5c0967",
            "ca9aae3a542849919a80e4c3b7d1f3f8",
            "715225c772a14ec5a36dcec2b920e83b",
            "989ad0ab691c4b0b92aaca94ccb1e889",
            "066e730e42d94dc2854c8e4567045b7a",
            "5a230c8e4b1547a4b4097bb48df34748",
            "e1f5e60203e04225924345070307e97b",
            "e74cb9af5a41484d972b892190b52315",
            "ba7fd5c809a64e228ac44913b762d3a7",
            "e8d99f9ae67d4bb585b76b9847aab2af",
            "0e994015f2c1480bbeb1745a8ec6b661",
            "961c8e5a93a04abda0debde62b2f4e1d",
            "c5ea071a6d234bf3bdb73ced9e2c06d0",
            "afa39e6a5b64409fbb2945be534fee2b",
            "5a44b46fa9cf4fe28d26a99e8b38664b",
            "09768338a9ae4f07b1a3f1642423a7ca",
            "42d619c52bb54ebb8bb876726b6edfeb",
            "f51019fd326145dc93e84bd553f5c56a",
            "c99a518e6fcf46ac8d213dc39449a4c1",
            "068b4c5a6f2f4b5f9bd475d8f38c940e",
            "6e44310bcf7949d59cd3d40e54342c71",
            "1072f32816f244f1b8ac8d00ec377782",
            "9e8515d6218b4ac1a749a49c35b6c5c5",
            "dba8bcc06fc645a3b4b13fe44ac02bd4",
            "778b1afb7db44701a2ad1a50f7dc6bf6",
            "bf9f5d8eda604dff8d3572cadf6ab333",
            "c700362a6b4f49b4882c096d5b8ff50a",
            "f86840fb5f374ded9bd9c87e8ff509ec",
            "7187f357a8f842e982e4330ca19e7467",
            "cef00abeb0a745049e10d3ba1bea0fbf",
            "5aaac1f26c80408197f349445ad32e52",
            "73aafb2ea02b4becbc56788db1a00857",
            "f193a851d86349779785ca0c91866813"
          ]
        },
        "id": "llYBdq9PnYUE",
        "outputId": "afe96c8b-5834-4edc-f356-c94481726930"
      },
      "execution_count": 9,
      "outputs": [
        {
          "output_type": "display_data",
          "data": {
            "text/plain": [
              "config.json:   0%|          | 0.00/557 [00:00<?, ?B/s]"
            ],
            "application/vnd.jupyter.widget-view+json": {
              "version_major": 2,
              "version_minor": 0,
              "model_id": "a598d71e262e4b9c9df6acbc2f4c3081"
            }
          },
          "metadata": {}
        },
        {
          "output_type": "display_data",
          "data": {
            "text/plain": [
              "vocab.txt:   0%|          | 0.00/895k [00:00<?, ?B/s]"
            ],
            "application/vnd.jupyter.widget-view+json": {
              "version_major": 2,
              "version_minor": 0,
              "model_id": "56cfa2d401aa47578bd747681c5c0967"
            }
          },
          "metadata": {}
        },
        {
          "output_type": "display_data",
          "data": {
            "text/plain": [
              "bpe.codes:   0%|          | 0.00/1.14M [00:00<?, ?B/s]"
            ],
            "application/vnd.jupyter.widget-view+json": {
              "version_major": 2,
              "version_minor": 0,
              "model_id": "961c8e5a93a04abda0debde62b2f4e1d"
            }
          },
          "metadata": {}
        },
        {
          "output_type": "display_data",
          "data": {
            "text/plain": [
              "tokenizer.json:   0%|          | 0.00/3.13M [00:00<?, ?B/s]"
            ],
            "application/vnd.jupyter.widget-view+json": {
              "version_major": 2,
              "version_minor": 0,
              "model_id": "9e8515d6218b4ac1a749a49c35b6c5c5"
            }
          },
          "metadata": {}
        }
      ]
    },
    {
      "cell_type": "markdown",
      "source": [
        "## Mapping CEE label trước và sau khi BERT tokenize"
      ],
      "metadata": {
        "id": "0rmq9575m1x9"
      }
    },
    {
      "cell_type": "code",
      "source": [
        "MAX_LENGTH_SENTENCE = 256"
      ],
      "metadata": {
        "id": "NLg5Z5nElKW9"
      },
      "execution_count": 10,
      "outputs": []
    },
    {
      "cell_type": "code",
      "source": [
        "# Padding\n",
        "list_of_bert_padding_tokenized_stc = []\n",
        "for stc in list_of_stc:\n",
        "    list_of_bert_padding_tokenized_stc.append(tokenizer(stc, truncation=True ,padding='max_length' , max_length = MAX_LENGTH_SENTENCE, return_tensors=\"pt\"))"
      ],
      "metadata": {
        "id": "JP7DRyi3mkxH"
      },
      "execution_count": 11,
      "outputs": []
    },
    {
      "cell_type": "code",
      "source": [
        "# print(len(list_of_bert_padding_tokenized_stc[0]['input_ids'][0]))\n",
        "# print(list_of_bert_padding_tokenized_stc[0])"
      ],
      "metadata": {
        "id": "kjqoGG34Iwx4"
      },
      "execution_count": 12,
      "outputs": []
    },
    {
      "cell_type": "code",
      "source": [
        "# decode: Convert ids to token\n",
        "list_of_bert_decode_padding_tokenized_stc = []\n",
        "\n",
        "for tokenized_stc in list_of_bert_padding_tokenized_stc:\n",
        "    list_of_bert_decode_padding_tokenized_stc.append(tokenizer.convert_ids_to_tokens(tokenized_stc[\"input_ids\"][0]))"
      ],
      "metadata": {
        "id": "XvhcYMgDnjQD"
      },
      "execution_count": 13,
      "outputs": []
    },
    {
      "cell_type": "code",
      "source": [
        "print(list_of_list_token_of_stc[0])\n",
        "print(list_of_bert_decode_padding_tokenized_stc[0])"
      ],
      "metadata": {
        "colab": {
          "base_uri": "https://localhost:8080/"
        },
        "id": "6ohi6XR_jRXj",
        "outputId": "09ad9221-0d73-43b9-a58d-1fc3cb567ffb"
      },
      "execution_count": 14,
      "outputs": [
        {
          "output_type": "stream",
          "name": "stdout",
          "text": [
            "['Nhìn', 'vào', 'những', 'thông_số', 'kích_thước', 'trên', ',', 'VinFast_Lux_SA', '2.0', 'đang', 'nhỉnh', 'hơn', 'Kia_Sorento', 'về', 'mọi', 'chỉ_số', ',', 'điều', 'này', 'giúp', 'xe', 'vạm_vỡ', 'hơn', 'khi', 'nhìn', 'từ', 'phần', 'thân']\n",
            "['<s>', 'Nhìn', 'vào', 'những', 'thông_số', 'kích_thước', 'trên', ',', 'Vin@@', 'Fast_@@', 'Lu@@', 'x_S@@', 'A', '2.0', 'đang', 'nhỉnh', 'hơn', 'Kia_@@', 'Sorento', 'về', 'mọi', 'chỉ_số', ',', 'điều', 'này', 'giúp', 'xe', 'vạm_vỡ', 'hơn', 'khi', 'nhìn', 'từ', 'phần', 'thân', '</s>', '<pad>', '<pad>', '<pad>', '<pad>', '<pad>', '<pad>', '<pad>', '<pad>', '<pad>', '<pad>', '<pad>', '<pad>', '<pad>', '<pad>', '<pad>', '<pad>', '<pad>', '<pad>', '<pad>', '<pad>', '<pad>', '<pad>', '<pad>', '<pad>', '<pad>', '<pad>', '<pad>', '<pad>', '<pad>', '<pad>', '<pad>', '<pad>', '<pad>', '<pad>', '<pad>', '<pad>', '<pad>', '<pad>', '<pad>', '<pad>', '<pad>', '<pad>', '<pad>', '<pad>', '<pad>', '<pad>', '<pad>', '<pad>', '<pad>', '<pad>', '<pad>', '<pad>', '<pad>', '<pad>', '<pad>', '<pad>', '<pad>', '<pad>', '<pad>', '<pad>', '<pad>', '<pad>', '<pad>', '<pad>', '<pad>', '<pad>', '<pad>', '<pad>', '<pad>', '<pad>', '<pad>', '<pad>', '<pad>', '<pad>', '<pad>', '<pad>', '<pad>', '<pad>', '<pad>', '<pad>', '<pad>', '<pad>', '<pad>', '<pad>', '<pad>', '<pad>', '<pad>', '<pad>', '<pad>', '<pad>', '<pad>', '<pad>', '<pad>', '<pad>', '<pad>', '<pad>', '<pad>', '<pad>', '<pad>', '<pad>', '<pad>', '<pad>', '<pad>', '<pad>', '<pad>', '<pad>', '<pad>', '<pad>', '<pad>', '<pad>', '<pad>', '<pad>', '<pad>', '<pad>', '<pad>', '<pad>', '<pad>', '<pad>', '<pad>', '<pad>', '<pad>', '<pad>', '<pad>', '<pad>', '<pad>', '<pad>', '<pad>', '<pad>', '<pad>', '<pad>', '<pad>', '<pad>', '<pad>', '<pad>', '<pad>', '<pad>', '<pad>', '<pad>', '<pad>', '<pad>', '<pad>', '<pad>', '<pad>', '<pad>', '<pad>', '<pad>', '<pad>', '<pad>', '<pad>', '<pad>', '<pad>', '<pad>', '<pad>', '<pad>', '<pad>', '<pad>', '<pad>', '<pad>', '<pad>', '<pad>', '<pad>', '<pad>', '<pad>', '<pad>', '<pad>', '<pad>', '<pad>', '<pad>', '<pad>', '<pad>', '<pad>', '<pad>', '<pad>', '<pad>', '<pad>', '<pad>', '<pad>', '<pad>', '<pad>', '<pad>', '<pad>', '<pad>', '<pad>', '<pad>', '<pad>', '<pad>', '<pad>', '<pad>', '<pad>', '<pad>', '<pad>', '<pad>', '<pad>', '<pad>', '<pad>', '<pad>', '<pad>', '<pad>', '<pad>', '<pad>', '<pad>', '<pad>', '<pad>', '<pad>', '<pad>', '<pad>', '<pad>', '<pad>', '<pad>', '<pad>', '<pad>', '<pad>', '<pad>', '<pad>', '<pad>', '<pad>', '<pad>', '<pad>', '<pad>', '<pad>', '<pad>']\n"
          ]
        }
      ]
    },
    {
      "cell_type": "code",
      "source": [
        "def token_mapping_bert(bert_token_col, gold_token_col):\n",
        "    \"\"\"\n",
        "    :param bert_token_col: a list of token list by BertTokenizer (with [cls] and [sep])\n",
        "    :param gold_token_col: a list char list\n",
        "    :return: a map: {bert_index: [char_index]}\n",
        "    \"\"\"\n",
        "    assert len(bert_token_col) == len(gold_token_col), \"bert data length not equal to char data length\"\n",
        "\n",
        "    mapping_col = []\n",
        "    for index in range(len(bert_token_col)):\n",
        "        seq_map, bert_index, token_index = {0: -1}, 1, 0    # Do bert_index nên bắt đầu từ 1, vì token đầu tiên là '<s>'\n",
        "        seq_bert_token, seq_gold_token = bert_token_col[index], gold_token_col[index]   # khởi tạo seq_bert_token và seq_gold_token với giá trị index 0.\n",
        "\n",
        "        while bert_index < len(seq_bert_token) and token_index < len(seq_gold_token):   # check chưa hết câu văn (không tính 'PAD')\n",
        "            # print(index)\n",
        "            seq_map[bert_index] = token_index\n",
        "\n",
        "            # [UNK] denote special symbol\n",
        "            if seq_bert_token[bert_index] == \"<unk>\":\n",
        "                print(index)\n",
        "                pass\n",
        "\n",
        "            # get cur index correspond length\n",
        "            token_length = len(seq_gold_token[token_index])     # độ dài của token\n",
        "            bert_length = len(seq_bert_token[bert_index])       # độ dài của bert_token\n",
        "\n",
        "            # drop \"@@\" prefix\n",
        "            if seq_bert_token[bert_index].find(\"@@\") != -1:     # tìm thấy subword\n",
        "                bert_length = len(seq_bert_token[bert_index]) - 2   # sẽ không tính '@@', độ dài thực tế của bert_length phải trừ đi 2\n",
        "\n",
        "            while token_length > bert_length:                       # chừng nào bert_length < token_length thì chưa đúng\n",
        "                bert_index += 1\n",
        "                seq_map[bert_index] = token_index\n",
        "                bert_length += len(seq_bert_token[bert_index])\n",
        "                if seq_bert_token[bert_index].find(\"@@\") != -1:     # nếu vẫn còn subword, lặp lại quy trình\n",
        "                    bert_length -= 2\n",
        "\n",
        "            assert bert_length == token_length, \"appear mapping error! {}?{}\\n{}\\n{}\".format(bert_length,token_length,gold_token_col[index],bert_token_col[index])\n",
        "\n",
        "            token_index = token_index + 1       # cập nhật index\n",
        "            bert_index = bert_index + 1         # cập nhật index\n",
        "\n",
        "        # Do độ dài seq_bert_token lớn hơn seq_gold_token 2 (thêm '<s>' và '</s>')\n",
        "        seq_map[bert_index] = -1    # token_index đã out of range, còn bert_index sẽ là '</s>'\n",
        "\n",
        "        mapping_col.append(seq_map)\n",
        "\n",
        "    return mapping_col"
      ],
      "metadata": {
        "id": "kP-h7n_v2GH7"
      },
      "execution_count": 15,
      "outputs": []
    },
    {
      "cell_type": "code",
      "source": [
        "mapping_dict = token_mapping_bert(list_of_bert_decode_padding_tokenized_stc, list_of_list_token_of_stc)"
      ],
      "metadata": {
        "id": "2Z8lSwEl223j"
      },
      "execution_count": 16,
      "outputs": []
    },
    {
      "cell_type": "code",
      "source": [
        "print(mapping_dict[282])"
      ],
      "metadata": {
        "colab": {
          "base_uri": "https://localhost:8080/"
        },
        "id": "BeCF4Thq56Fb",
        "outputId": "432e20a1-0387-4abc-d3cf-3c0384c10267"
      },
      "execution_count": 17,
      "outputs": [
        {
          "output_type": "stream",
          "name": "stdout",
          "text": [
            "{0: -1, 1: 0, 2: 1, 3: 2, 4: 3, 5: 4, 6: 5, 7: 6, 8: 7, 9: 8, 10: 9, 11: 10, 12: 11, 13: 12, 14: 13, 15: 14, 16: 15, 17: 16, 18: 16, 19: 17, 20: 18, 21: 19, 22: 20, 23: 21, 24: 22, 25: 23, 26: 24, 27: -1}\n"
          ]
        }
      ]
    },
    {
      "cell_type": "markdown",
      "source": [
        "## Tạo dữ liệu"
      ],
      "metadata": {
        "id": "k535gplAd6rp"
      }
    },
    {
      "cell_type": "code",
      "source": [
        "sub_labels = []\n",
        "obj_labels = []\n",
        "aspect_labels = []\n",
        "\n",
        "for stc_idx in range(len(list_of_bert_padding_tokenized_stc)):    # _ là index cho câu thứ _ trong tập dữ liệu\n",
        "    sub_label_stc = []\n",
        "    obj_label_stc = []\n",
        "    aspect_label_stc = []\n",
        "\n",
        "    for bert_token_idx in range(MAX_LENGTH_SENTENCE):\n",
        "        if bert_token_idx in mapping_dict[stc_idx].keys():      # CÓ TRONG CÂU. Tức không tính '<PAD>'\n",
        "            gold_token_index = mapping_dict[stc_idx][bert_token_idx]\n",
        "\n",
        "            if gold_token_index != -1:\n",
        "                label_token = list_of_list_label_of_stc[stc_idx][gold_token_index]\n",
        "                if label_token in ['I-sub', 'B-sub']:\n",
        "                    sub_label_stc.append(1)\n",
        "                    obj_label_stc.append(0)\n",
        "                    aspect_label_stc.append(0)\n",
        "                    continue\n",
        "                elif label_token in ['I-obj','B-obj']:\n",
        "                    sub_label_stc.append(0)\n",
        "                    obj_label_stc.append(1)\n",
        "                    aspect_label_stc.append(0)\n",
        "                    continue\n",
        "                elif label_token in ['I-ap', 'B-ap']:\n",
        "                    sub_label_stc.append(0)\n",
        "                    obj_label_stc.append(0)\n",
        "                    aspect_label_stc.append(1)\n",
        "                    continue\n",
        "                else:\n",
        "                    assert label_token == 'O', f'Không có label {label_token} trong câu'\n",
        "                    sub_label_stc.append(0)\n",
        "                    obj_label_stc.append(0)\n",
        "                    aspect_label_stc.append(0)\n",
        "            else:   # hai token đầu cuối\n",
        "                assert list_of_bert_decode_padding_tokenized_stc[stc_idx][bert_token_idx] in ['<s>', '</s>']\n",
        "                sub_label_stc.append(0)\n",
        "                obj_label_stc.append(0)\n",
        "                aspect_label_stc.append(0)\n",
        "\n",
        "        else:       # CHỈ CÒN PAD\n",
        "            assert list_of_bert_decode_padding_tokenized_stc[stc_idx][bert_token_idx] == '<pad>'\n",
        "            sub_label_stc.append(0)\n",
        "            obj_label_stc.append(0)\n",
        "            aspect_label_stc.append(0)\n",
        "\n",
        "    assert len(sub_label_stc) == len(obj_label_stc)     # đảm bảo label có độ dài như nhau\n",
        "    assert len(obj_label_stc) == len(aspect_label_stc)\n",
        "    assert len(sub_label_stc) == MAX_LENGTH_SENTENCE\n",
        "\n",
        "    sub_labels.append(sub_label_stc)\n",
        "    obj_labels.append(obj_label_stc)\n",
        "    aspect_labels.append(aspect_label_stc)"
      ],
      "metadata": {
        "id": "RUyoVzo7o4Hx"
      },
      "execution_count": 18,
      "outputs": []
    },
    {
      "cell_type": "code",
      "source": [
        "dataset_dict = {\n",
        "    'sub_labels': sub_labels,                # [[256], [256], [256], ..., [256], [256], [256]]\n",
        "    'obj_labels': obj_labels,                # [[256], [256], [256], ..., [256], [256], [256]]\n",
        "    'aspect_labels': aspect_labels,          # [[256], [256], [256], ..., [256], [256], [256]]\n",
        "    'sentiment_labels': list_of_sentiment    # [[0]  , [1]  , [2],   ..., [0]  , [1]  , [1]  ]\n",
        "}"
      ],
      "metadata": {
        "id": "IDFfZANro9yi"
      },
      "execution_count": 19,
      "outputs": []
    },
    {
      "cell_type": "code",
      "source": [
        "dataset_list = []\n",
        "\n",
        "for i in range(len(sub_labels)):\n",
        "    dataset_list.append([sub_labels[i], obj_labels[i], aspect_labels[i], list_of_sentiment[i]])\n",
        "\n",
        "# dataset_list  = [ [[256],[256],[256],[1]], [[256],[256],[256],[1]], [[256],[256],[256],[1]], [[256],[256],[256],[1]], ...... ]"
      ],
      "metadata": {
        "id": "VZAWhupsmE5k"
      },
      "execution_count": 20,
      "outputs": []
    },
    {
      "cell_type": "code",
      "source": [
        "print(dataset_list[0][0])\n",
        "print(dataset_list[0][1])\n",
        "print(dataset_list[0][2])\n",
        "print(dataset_list[0][3])"
      ],
      "metadata": {
        "colab": {
          "base_uri": "https://localhost:8080/"
        },
        "id": "OvLi4xkzNfDF",
        "outputId": "c22274e4-7490-4433-c8fa-258ae3d87ca4"
      },
      "execution_count": 21,
      "outputs": [
        {
          "output_type": "stream",
          "name": "stdout",
          "text": [
            "[0, 0, 0, 0, 0, 0, 0, 0, 1, 1, 1, 1, 1, 1, 0, 0, 0, 0, 0, 0, 0, 0, 0, 0, 0, 0, 0, 0, 0, 0, 0, 0, 0, 0, 0, 0, 0, 0, 0, 0, 0, 0, 0, 0, 0, 0, 0, 0, 0, 0, 0, 0, 0, 0, 0, 0, 0, 0, 0, 0, 0, 0, 0, 0, 0, 0, 0, 0, 0, 0, 0, 0, 0, 0, 0, 0, 0, 0, 0, 0, 0, 0, 0, 0, 0, 0, 0, 0, 0, 0, 0, 0, 0, 0, 0, 0, 0, 0, 0, 0, 0, 0, 0, 0, 0, 0, 0, 0, 0, 0, 0, 0, 0, 0, 0, 0, 0, 0, 0, 0, 0, 0, 0, 0, 0, 0, 0, 0, 0, 0, 0, 0, 0, 0, 0, 0, 0, 0, 0, 0, 0, 0, 0, 0, 0, 0, 0, 0, 0, 0, 0, 0, 0, 0, 0, 0, 0, 0, 0, 0, 0, 0, 0, 0, 0, 0, 0, 0, 0, 0, 0, 0, 0, 0, 0, 0, 0, 0, 0, 0, 0, 0, 0, 0, 0, 0, 0, 0, 0, 0, 0, 0, 0, 0, 0, 0, 0, 0, 0, 0, 0, 0, 0, 0, 0, 0, 0, 0, 0, 0, 0, 0, 0, 0, 0, 0, 0, 0, 0, 0, 0, 0, 0, 0, 0, 0, 0, 0, 0, 0, 0, 0, 0, 0, 0, 0, 0, 0, 0, 0, 0, 0, 0, 0, 0, 0, 0, 0, 0, 0, 0, 0, 0, 0, 0, 0]\n",
            "[0, 0, 0, 0, 0, 0, 0, 0, 0, 0, 0, 0, 0, 0, 0, 0, 0, 1, 1, 0, 0, 0, 0, 0, 0, 0, 0, 0, 0, 0, 0, 0, 0, 0, 0, 0, 0, 0, 0, 0, 0, 0, 0, 0, 0, 0, 0, 0, 0, 0, 0, 0, 0, 0, 0, 0, 0, 0, 0, 0, 0, 0, 0, 0, 0, 0, 0, 0, 0, 0, 0, 0, 0, 0, 0, 0, 0, 0, 0, 0, 0, 0, 0, 0, 0, 0, 0, 0, 0, 0, 0, 0, 0, 0, 0, 0, 0, 0, 0, 0, 0, 0, 0, 0, 0, 0, 0, 0, 0, 0, 0, 0, 0, 0, 0, 0, 0, 0, 0, 0, 0, 0, 0, 0, 0, 0, 0, 0, 0, 0, 0, 0, 0, 0, 0, 0, 0, 0, 0, 0, 0, 0, 0, 0, 0, 0, 0, 0, 0, 0, 0, 0, 0, 0, 0, 0, 0, 0, 0, 0, 0, 0, 0, 0, 0, 0, 0, 0, 0, 0, 0, 0, 0, 0, 0, 0, 0, 0, 0, 0, 0, 0, 0, 0, 0, 0, 0, 0, 0, 0, 0, 0, 0, 0, 0, 0, 0, 0, 0, 0, 0, 0, 0, 0, 0, 0, 0, 0, 0, 0, 0, 0, 0, 0, 0, 0, 0, 0, 0, 0, 0, 0, 0, 0, 0, 0, 0, 0, 0, 0, 0, 0, 0, 0, 0, 0, 0, 0, 0, 0, 0, 0, 0, 0, 0, 0, 0, 0, 0, 0, 0, 0, 0, 0, 0, 0]\n",
            "[0, 0, 0, 0, 1, 1, 0, 0, 0, 0, 0, 0, 0, 0, 0, 0, 0, 0, 0, 0, 0, 0, 0, 0, 0, 0, 0, 0, 0, 0, 0, 0, 0, 0, 0, 0, 0, 0, 0, 0, 0, 0, 0, 0, 0, 0, 0, 0, 0, 0, 0, 0, 0, 0, 0, 0, 0, 0, 0, 0, 0, 0, 0, 0, 0, 0, 0, 0, 0, 0, 0, 0, 0, 0, 0, 0, 0, 0, 0, 0, 0, 0, 0, 0, 0, 0, 0, 0, 0, 0, 0, 0, 0, 0, 0, 0, 0, 0, 0, 0, 0, 0, 0, 0, 0, 0, 0, 0, 0, 0, 0, 0, 0, 0, 0, 0, 0, 0, 0, 0, 0, 0, 0, 0, 0, 0, 0, 0, 0, 0, 0, 0, 0, 0, 0, 0, 0, 0, 0, 0, 0, 0, 0, 0, 0, 0, 0, 0, 0, 0, 0, 0, 0, 0, 0, 0, 0, 0, 0, 0, 0, 0, 0, 0, 0, 0, 0, 0, 0, 0, 0, 0, 0, 0, 0, 0, 0, 0, 0, 0, 0, 0, 0, 0, 0, 0, 0, 0, 0, 0, 0, 0, 0, 0, 0, 0, 0, 0, 0, 0, 0, 0, 0, 0, 0, 0, 0, 0, 0, 0, 0, 0, 0, 0, 0, 0, 0, 0, 0, 0, 0, 0, 0, 0, 0, 0, 0, 0, 0, 0, 0, 0, 0, 0, 0, 0, 0, 0, 0, 0, 0, 0, 0, 0, 0, 0, 0, 0, 0, 0, 0, 0, 0, 0, 0, 0]\n",
            "[2]\n"
          ]
        }
      ]
    },
    {
      "cell_type": "markdown",
      "source": [
        "### Train/test dataset split"
      ],
      "metadata": {
        "id": "Y1ua3dVLVOBW"
      }
    },
    {
      "cell_type": "code",
      "source": [
        "DATASET_SPLIT = 9000"
      ],
      "metadata": {
        "id": "H19uiyARyQVk"
      },
      "execution_count": 22,
      "outputs": []
    },
    {
      "cell_type": "code",
      "source": [
        "X_train = list_of_bert_padding_tokenized_stc[:DATASET_SPLIT]   # [ {'input_idx': , 'attn_mask': }, {'input_idx': , 'attn_mask': },  {'input_idx': , 'attn_mask': }, ....]\n",
        "y_train = dataset_list[:DATASET_SPLIT]                         # [ [[256],[256],[256],[1]]       , [[256],[256],[256],[1]]       ,  [[256], [256],[256],[1]],     , ....]\n",
        "                                                                #     sub , obj , asp , s\n",
        "\n",
        "X_test = list_of_bert_padding_tokenized_stc[DATASET_SPLIT:]\n",
        "y_test = dataset_list[DATASET_SPLIT:]"
      ],
      "metadata": {
        "id": "JPfSl41CPi8M"
      },
      "execution_count": 23,
      "outputs": []
    },
    {
      "cell_type": "code",
      "source": [
        "len(y_test)"
      ],
      "metadata": {
        "colab": {
          "base_uri": "https://localhost:8080/"
        },
        "id": "4c9lva8SApW0",
        "outputId": "97f2e2cb-384b-440b-cf6f-7339dd6f6007"
      },
      "execution_count": 24,
      "outputs": [
        {
          "output_type": "execute_result",
          "data": {
            "text/plain": [
              "211"
            ]
          },
          "metadata": {},
          "execution_count": 24
        }
      ]
    },
    {
      "cell_type": "markdown",
      "source": [
        "## Định nghĩa mô hình"
      ],
      "metadata": {
        "id": "hIr-qUKsU4fy"
      }
    },
    {
      "cell_type": "code",
      "source": [
        "import torch\n",
        "import torch.nn as nn\n",
        "import torch.nn.functional as F\n",
        "from torchcrf import CRF"
      ],
      "metadata": {
        "id": "DTJb7dJfRsmL"
      },
      "execution_count": 25,
      "outputs": []
    },
    {
      "cell_type": "markdown",
      "source": [
        "### Định nghĩa Dataloader"
      ],
      "metadata": {
        "id": "LVc2Wk73HsKG"
      }
    },
    {
      "cell_type": "code",
      "source": [
        "class DataSequence(torch.utils.data.Dataset):\n",
        "    def __init__(self, tokenize_list, multi_label):\n",
        "        self.tokenize = tokenize_list\n",
        "        self.multi_label = multi_label\n",
        "\n",
        "    def __len__(self):\n",
        "        return len(self.tokenize)\n",
        "\n",
        "    def __getitem__(self, idx):\n",
        "        token_stc = self.tokenize[idx]\n",
        "        sub, obj, aspect, sentiment = self.multi_label[idx]\n",
        "        return token_stc, torch.LongTensor(sub), torch.LongTensor(obj), torch.LongTensor(aspect), torch.LongTensor(sentiment)"
      ],
      "metadata": {
        "id": "CsmPW_suNPMC"
      },
      "execution_count": 26,
      "outputs": []
    },
    {
      "cell_type": "markdown",
      "source": [
        "### Định nghĩa CRF layer"
      ],
      "metadata": {
        "id": "rFkpP39yHwho"
      }
    },
    {
      "cell_type": "code",
      "source": [
        "class CRFCell(nn.Module):\n",
        "    def __init__(self, num_classes, batch_first=True):\n",
        "        super(CRFCell, self).__init__()\n",
        "        self.crf = CRF(num_tags=num_classes, batch_first=batch_first)\n",
        "\n",
        "    def forward(self, feature, mask, target):\n",
        "        mask = mask.bool()\n",
        "        # feature : batch_size * seq_length * num_tags\n",
        "        # mask : batch_size * seq_length\n",
        "        # target : batch_size * seq_length\n",
        "\n",
        "        # target is None means decode sequence\n",
        "        if target is None:\n",
        "            max_seq_len = feature.size(1)\n",
        "            output = self.crf.decode(feature, mask)\n",
        "            output = torch.as_tensor(\n",
        "                [e + [0] * (max_seq_len - len(e)) for e in output],\n",
        "                dtype=torch.long,\n",
        "                device=feature.device\n",
        "            )\n",
        "\n",
        "        # target is not None means get loss\n",
        "        else:\n",
        "            output = self.crf(feature, target, mask, reduction='mean')\n",
        "            output = output.neg()      # output: BATCH_SIZE\n",
        "        return output"
      ],
      "metadata": {
        "id": "cbKq4gj-FpYJ"
      },
      "execution_count": 27,
      "outputs": []
    },
    {
      "cell_type": "markdown",
      "source": [
        "### Định nghĩa mô hình joint learning CEE + SC"
      ],
      "metadata": {
        "id": "_YyDAgaqH0gK"
      }
    },
    {
      "cell_type": "code",
      "source": [
        "# from transformers import BertForTokenClassification\n",
        "\n",
        "class Baseline(torch.nn.Module):\n",
        "    def __init__(self, model_type, model_config):\n",
        "        super(Baseline, self).__init__()\n",
        "\n",
        "        self.model_type = model_type\n",
        "        self.gamma_sc = model_config.get('gamma_sc')\n",
        "        self.gamma_cee = model_config.get('gamma_cee')\n",
        "        self.encoder = AutoModel.from_pretrained('vinai/phobert-base')\n",
        "        self.embedding_dropout = nn.Dropout(p = model_config.get('dropout_threshold'))\n",
        "\n",
        "        self.sentiment_linear_1 = nn.Linear(self.encoder.config.hidden_size, 96)\n",
        "        self.sentiment_linear_2 = nn.Linear(96, 3)         # better, equal, worse\n",
        "\n",
        "        self.subject_linear =  nn.Linear(self.encoder.config.hidden_size, 2)    # O: outside, 1: Begin, 2: Inside\n",
        "        self.object_linear =  nn.Linear(self.encoder.config.hidden_size, 2)\n",
        "        self.aspect_linear = nn.Linear(self.encoder.config.hidden_size, 2)\n",
        "\n",
        "        self.crf_subject_layer = CRFCell(2, batch_first = True)\n",
        "        self.crf_object_layer = CRFCell(2, batch_first = True)\n",
        "        self.crf_aspect_layer = CRFCell(2, batch_first = True)\n",
        "\n",
        "\n",
        "    def forward(self, input_ids, attn_mask, sentiment_label=None, sub=None, obj=None, aspect=None):\n",
        "        # get hidden representation (token embedding)\n",
        "        token_embedding, pooled_output = self.encoder(input_ids, attn_mask, return_dict=False) # token_embedding = last_hidden_state\n",
        "        batch_size, sequence_length, hidden_size = token_embedding.size()\n",
        "\n",
        "        # drop out\n",
        "        final_embedding = self.embedding_dropout(token_embedding)       # batch_size * sequence_length * hidden_size\n",
        "        # class_embedding = self.embedding_dropout(pooled_output)\n",
        "\n",
        "        # linear mapping.\n",
        "        subject_linear_output = self.subject_linear(final_embedding)    # batch_size * sequence_length * num_label\n",
        "        object_linear_output = self.object_linear(final_embedding)      # tức là bây h mỗi token chỉ được biểu diễn bởi vector 3 giá trị\n",
        "        aspect_linear_output = self.aspect_linear(final_embedding)\n",
        "\n",
        "        # get SC\n",
        "        sentiment_avg_output = torch.mean(final_embedding, dim = 1)     # batch_size * hidden_size\n",
        "        sentiment_linear_1_output = self.sentiment_linear_1(sentiment_avg_output)    # batch_size * 96\n",
        "        sentiment_class_prob = self.sentiment_linear_2(sentiment_linear_1_output)     # batch_size * 3\n",
        "        # sent_class_prob = self.sent_linear(class_embedding)\n",
        "\n",
        "        # TESTING: Chỉ lấy đầu ra\n",
        "        if sub is None and sentiment_label is None and obj is None and aspect is None:\n",
        "            sentiment_class_output = sentiment_class_prob                       # batch_size * num_label\n",
        "\n",
        "            subject_crf_output = self.crf_subject_layer(subject_linear_output, attn_mask, None)     # batch_size * sequence_length\n",
        "            object_crf_output = self.crf_object_layer(object_linear_output, attn_mask, None)\n",
        "            aspect_crf_output = self.crf_aspect_layer(aspect_linear_output, attn_mask, None)\n",
        "\n",
        "            return sentiment_class_output, subject_crf_output, object_crf_output, aspect_crf_output\n",
        "\n",
        "        # TRAINING: Lấy loss\n",
        "        sentiment_loss = F.cross_entropy(sentiment_class_prob, sentiment_label.view(-1).to(device))\n",
        "\n",
        "        sub_loss = self.crf_subject_layer(subject_linear_output, attn_mask, sub.to(device))\n",
        "        obj_loss = self.crf_object_layer(object_linear_output, attn_mask, obj.to(device))\n",
        "        asp_loss = self.crf_aspect_layer(aspect_linear_output, attn_mask, aspect.to(device))\n",
        "        element_loss = sub_loss + obj_loss + asp_loss\n",
        "\n",
        "        # according different model type to get different loss type.\n",
        "        if self.model_type == \"classification\":\n",
        "            return sentiment_loss\n",
        "        elif self.model_type == \"extraction\":\n",
        "            return element_loss\n",
        "        else:\n",
        "            assert self.model_type == 'joint'\n",
        "            return self.gamma_sc * sentiment_loss + self.gamma_cee * element_loss"
      ],
      "metadata": {
        "id": "P_St7V9VQg61"
      },
      "execution_count": 28,
      "outputs": []
    },
    {
      "cell_type": "markdown",
      "source": [
        "## Định nghĩa hàm Trainning"
      ],
      "metadata": {
        "id": "TgW9jvytU98e"
      }
    },
    {
      "cell_type": "code",
      "source": [
        "from torch.utils.data import DataLoader\n",
        "from torch import optim\n",
        "from tqdm import tqdm\n",
        "\n",
        "def train(model, X_train, y_train, trainning_config):\n",
        "    train_dataset = DataSequence(X_train, y_train)\n",
        "    # val_dataset = DataSequence(X_val, y_val)\n",
        "\n",
        "    train_dataloader = DataLoader(train_dataset, num_workers = 2, batch_size = trainning_config.get('batch_size'), shuffle = True)\n",
        "    # val_dataloader = DataLoader(val_dataset, num_workers=2, batch_size=BATCH_SIZE)\n",
        "\n",
        "    if use_cuda:\n",
        "        model = model.cuda()\n",
        "\n",
        "    if torch.cuda.device_count() > 1:\n",
        "        model = nn.DataParallel(model)\n",
        "        optimizer_need_model = model.module\n",
        "    else:\n",
        "        optimizer_need_model = model\n",
        "\n",
        "    # Optimizer parameter defines\n",
        "    optimizer = optim.Adam(\n",
        "        [\n",
        "            {'params': optimizer_need_model.encoder.parameters(), 'lr': trainning_config.get('bert_lr')},\n",
        "            {'params': optimizer_need_model.sentiment_linear_1.parameters(), 'lr': trainning_config.get('sentiment_lr')},\n",
        "            {'params': optimizer_need_model.sentiment_linear_2.parameters(), 'lr': trainning_config.get('sentiment_lr')},\n",
        "            {'params': optimizer_need_model.subject_linear.parameters(), 'lr': trainning_config.get('element_lr')},\n",
        "            {'params': optimizer_need_model.object_linear.parameters(), 'lr': trainning_config.get('element_lr')},\n",
        "            {'params': optimizer_need_model.aspect_linear.parameters(), 'lr': trainning_config.get('element_lr')},\n",
        "            {'params': optimizer_need_model.crf_subject_layer.parameters(), 'lr': trainning_config.get('crf_lr')},\n",
        "            {'params': optimizer_need_model.crf_object_layer.parameters(), 'lr': trainning_config.get('crf_lr')},\n",
        "            {'params': optimizer_need_model.crf_aspect_layer.parameters(), 'lr': trainning_config.get('crf_lr')}\n",
        "        ],\n",
        "        betas=(0.9, 0.99)\n",
        "    )\n",
        "\n",
        "    model.train()\n",
        "    for epoch in range(trainning_config.get('epochs')):\n",
        "        epoch_loss_train = 0\n",
        "\n",
        "        for tokenize, sub, obj, aspect, sentiment in tqdm(train_dataloader):\n",
        "            # print(tokenize)\n",
        "            # print(feature_label)\n",
        "\n",
        "            input_id = tokenize['input_ids'].squeeze(1).long().to(device)\n",
        "            attn_mask = tokenize['attention_mask'].squeeze(1).long().to(device)\n",
        "\n",
        "            sentiment.to(device)\n",
        "            sub.to(device)\n",
        "            obj.to(device)\n",
        "            aspect.to(device)\n",
        "\n",
        "            loss = model(input_id, attn_mask, sentiment, sub, obj, aspect)\n",
        "            loss = torch.sum(loss)\n",
        "            epoch_loss_train += loss.item()\n",
        "\n",
        "            optimizer.zero_grad()\n",
        "            loss.backward()\n",
        "            optimizer.step()\n",
        "\n",
        "        print(\"Epoch is {} and Loss: {:.2f}\".format(epoch + 1, epoch_loss_train))"
      ],
      "metadata": {
        "id": "ya5QaNnkQ329"
      },
      "execution_count": 29,
      "outputs": []
    },
    {
      "cell_type": "markdown",
      "source": [
        "## Định nghĩa hàm Evaluating"
      ],
      "metadata": {
        "id": "D5x2hNYiGRRS"
      }
    },
    {
      "cell_type": "markdown",
      "source": [
        "### Định nghĩa hàm đánh giá sử dụng classification report"
      ],
      "metadata": {
        "id": "_KV5gEJgcukn"
      }
    },
    {
      "cell_type": "code",
      "source": [
        "from sklearn.metrics import classification_report"
      ],
      "metadata": {
        "id": "BsDvTaweruX6"
      },
      "execution_count": 30,
      "outputs": []
    },
    {
      "cell_type": "code",
      "source": [
        "from itertools import chain\n",
        "def convert_list_of_list2list(nested_list):\n",
        "    return list(chain(*nested_list))"
      ],
      "metadata": {
        "id": "8QC40TUdN__Y"
      },
      "execution_count": 31,
      "outputs": []
    },
    {
      "cell_type": "code",
      "source": [
        "def evaluate_metrics(y_label, y_pred):\n",
        "    y_label_1D = convert_list_of_list2list(y_label)\n",
        "    y_pred_1D = convert_list_of_list2list(y_pred)\n",
        "    print('\\n', classification_report(y_label_1D, y_pred_1D, digits=4))"
      ],
      "metadata": {
        "id": "9w8v8_CQwCif"
      },
      "execution_count": 32,
      "outputs": []
    },
    {
      "cell_type": "markdown",
      "source": [
        "### CEE: Định nghĩa hàm mapping output về gold_sequence"
      ],
      "metadata": {
        "id": "hdsx7EDndB8L"
      }
    },
    {
      "cell_type": "code",
      "source": [
        "from collections import defaultdict\n",
        "\n",
        "def mapping_output_to_actual_seq(y_label, y_pred, dataset_split = DATASET_SPLIT):\n",
        "    assert len(y_label) == len(y_pred), 'Kích thước tập pred và tập test không giống nhau'\n",
        "    actual_y_pred, actual_y_label = [], []\n",
        "\n",
        "    for stc_index in range(len(y_label)):\n",
        "        output = y_pred[stc_index]          # output hiện tại, kích thước 256\n",
        "        label = y_label[stc_index]           # label hiện tại, kích thước 256\n",
        "        assert len(output) == len(label)\n",
        "        assert len(output) == MAX_LENGTH_SENTENCE, {f'Error: {len(output)}'}\n",
        "\n",
        "        # chuyển đổi dict từ bert2gold về gold2bert\n",
        "        dict_bert2gold = mapping_dict[dataset_split+stc_index]\n",
        "        dict_gold2bert = defaultdict(list)\n",
        "        for key, value in dict_bert2gold.items():\n",
        "            if value == -1:\n",
        "                continue\n",
        "            dict_gold2bert[value].append(key)\n",
        "\n",
        "        # bỏ padding\n",
        "        trancated_output = output[:len(dict_bert2gold)]\n",
        "        trancated_label = label[:len(dict_bert2gold)]\n",
        "\n",
        "        pred, label = [], []\n",
        "        for key in dict_gold2bert.keys():\n",
        "            pred.append(trancated_output[dict_gold2bert[key][0]])\n",
        "            label.append(trancated_label[dict_gold2bert[key][0]])\n",
        "\n",
        "        assert len(pred) == len(list_of_list_token_of_stc[dataset_split+stc_index]), 'Đầu ra không bằng độ dài câu ban đầu'\n",
        "        actual_y_pred.append(pred)\n",
        "        actual_y_label.append(label)\n",
        "\n",
        "    assert len(actual_y_pred) == len(y_pred)\n",
        "    return actual_y_label, actual_y_pred"
      ],
      "metadata": {
        "id": "PQaXYUsf64z6"
      },
      "execution_count": 33,
      "outputs": []
    },
    {
      "cell_type": "markdown",
      "source": [
        "### CEE: Định nghĩa hàm đánh giá full-name entity"
      ],
      "metadata": {
        "id": "NCYV6CYZftel"
      }
    },
    {
      "cell_type": "code",
      "source": [
        "# Trả về 0 hoặc 1 nếu là exact hoặc binary\n",
        "# Trả về tỉ lệ độ dài nếu là proportional\n",
        "\n",
        "def get_first_index(stc : list, element_type):\n",
        "    for index, e in enumerate(stc):\n",
        "        if e == element_type:\n",
        "            return index\n",
        "    return -1\n",
        "\n",
        "\n",
        "def get_last_index(stc : list, element_type):\n",
        "    for index, e in enumerate(stc):\n",
        "        if e == element_type and index < len(stc) -1:\n",
        "            if stc[index+1] in ['O', 0]:\n",
        "                return index\n",
        "        elif e == element_type and index == len(stc) -1:\n",
        "            return index\n",
        "    return -1\n",
        "\n",
        "\n",
        "def get_span_index(stc : list, element_type):\n",
        "    return [get_first_index(stc, element_type), get_last_index(stc, element_type)]\n",
        "\n",
        "\n",
        "def get_overlapping(span_test, span_pred):\n",
        "    # span_test = [-1, -1]            # test\n",
        "    # span_pred = [-1, -1]          # pred\n",
        "    set1 = set(range(span_test[0], span_test[1] + 1))\n",
        "    set2 = set(range(span_pred[0], span_pred[1] + 1))\n",
        "    overlap = set1.intersection(set2)\n",
        "\n",
        "    len_span_test = len(set1) if -1 not in set1 else 0  # không có span thì len_span_test là 0 chứ không phải là 1\n",
        "    len_span_pred = len(set2) if -1 not in set2 else 0\n",
        "    len_overlap = len(overlap) if ((-1 not in set1) and (-1 not in set2)) else 0 # Giải thích: cả 2 thằng đều là [-1, -1](không tồn tại) thì bản chất chúng không hề overlap\n",
        "\n",
        "    # print(f'Kích thước test: {len_span_test}')\n",
        "    # print(f'Kích thước pred: {len_span_pred}')\n",
        "    # print(f'Kích thước overlap: {len_overlap}')\n",
        "\n",
        "    return [len_span_test, len_span_pred, len_overlap]\n",
        "\n",
        "\n",
        "def check_ovelapping_each_element(stc_test, stc_pred, element_type, evaluate_type):\n",
        "    assert evaluate_type in [\"exact\", \"partial\", \"binary\"], \"Wrong type of evaluate\"\n",
        "    assert element_type in [1, \"SUB\", \"AP\", \"OBJ\"], \"Wrong type of element\"\n",
        "    assert len(stc_test) == len(stc_pred)\n",
        "\n",
        "    span_test = get_span_index(stc_test, element_type)\n",
        "    span_pred = get_span_index(stc_pred, element_type)\n",
        "    len_span_test, len_span_pred, len_overlap = get_overlapping(span_test, span_pred)\n",
        "\n",
        "    if evaluate_type == 'binary':\n",
        "        if len_span_test == 0 and len_span_pred == 0:\n",
        "            return 1\n",
        "        elif len_overlap > 0 and len_span_test > 0 and len_span_pred > 0:       # chỉ cần có overlap là đúng rồi (bao gồm dù 1 có 1 ko có hay cả 2 cùng có)\n",
        "            return 1\n",
        "        return 0\n",
        "    elif evaluate_type == 'exact':\n",
        "        if len_span_test == 0 and len_span_pred == 0:\n",
        "            return 1\n",
        "        elif len_span_test == len_overlap and len_span_pred == len_overlap:\n",
        "            return 1\n",
        "        return 0\n",
        "    elif evaluate_type == 'partial':\n",
        "        if len_span_test == 0 and len_span_pred == 0:\n",
        "            return [0, 0]                               # không ảnh hưởng gì, tỉ lệ đúng khi cộng vào vẫn được giữ nguyên\n",
        "        elif len_overlap > 0 and len_span_test > 0 and len_span_pred > 0:\n",
        "            return [len_overlap, len_span_test]\n",
        "        return [-1, -1]\n",
        "    else:\n",
        "        raise Exception(\"No evaluate type found.\")\n",
        "\n",
        "\n",
        "def evaluate_full_named_entity(y_test, y_pred, element_type, evaluate_type, ovelapping_ratio = 0.75):\n",
        "    assert evaluate_type in [\"exact\", \"partial\", \"binary\"], \"Wrong type of evaluate\"\n",
        "    assert element_type in [1, \"SUB\", \"AP\", \"OBJ\"], \"Wrong type of element\"\n",
        "    assert len(y_test) == len(y_pred)\n",
        "\n",
        "    total_1_test, total_1_pred_true, total_1_pred = 0, 0, 0  #toàn bộ tập test\n",
        "\n",
        "    for i in range(len(y_test)):\n",
        "        assert len(y_test[i]) ==  len(y_pred[i]), 'Kích thước câu văn test và pred không bằng nhau'\n",
        "        span_test = get_span_index(y_test[i], element_type)\n",
        "        span_pred = get_span_index(y_pred[i], element_type)\n",
        "        len_span_test, len_span_pred, len_overlap = get_overlapping(span_test, span_pred)\n",
        "\n",
        "        if len_span_test > 0:   # Tức là nhãn có element này trong câu văn này\n",
        "            total_1_test += 1\n",
        "\n",
        "        if len_span_pred > 0:   # Tức là đoán có element\n",
        "            total_1_pred +=1\n",
        "\n",
        "        if len_span_pred > 0:   # y[0] !=-1 and y[1] != -1\n",
        "            if evaluate_type == 'binary':\n",
        "                if len_overlap > 0:\n",
        "                    total_1_pred_true += 1\n",
        "\n",
        "            elif evaluate_type == 'exact':\n",
        "                if len_span_test == len_overlap and len_span_pred == len_overlap:\n",
        "                    total_1_pred_true += 1\n",
        "\n",
        "            elif evaluate_type == 'partial' and ovelapping_ratio is not None:\n",
        "                if len_span_test != 0 and (len_overlap >= ovelapping_ratio * len_span_test):\n",
        "                    total_1_pred_true += 1\n",
        "            else:\n",
        "                raise Exception(\"No evaluate type found. Or ovelapping_ratio is None\")\n",
        "\n",
        "    # print(total_1_test, total_1_pred, total_1_pred_true)\n",
        "    precision = total_1_pred_true / total_1_pred\n",
        "    recall = total_1_pred_true / total_1_test\n",
        "    f1_score = 2*precision*recall/(precision+recall)\n",
        "    # print(f'Precision: {round(precision, 4)*100}, Recall: {round(recall,4)*100}, F1-Score: {round(f1_score,4)*100}')\n",
        "    print(f'Precision: {round(precision, 4)}, Recall: {round(recall,4)}, F1-Score: {round(f1_score,4)}')"
      ],
      "metadata": {
        "id": "S5YeuYifE99E"
      },
      "execution_count": 34,
      "outputs": []
    },
    {
      "cell_type": "markdown",
      "source": [
        "### Định nghĩa hàm đánh giá all tuple"
      ],
      "metadata": {
        "id": "c8LjOBhFc-cX"
      }
    },
    {
      "cell_type": "code",
      "source": [
        "def check_correct_prediction_tuple(tuple_test, tuple_pred, evaluate_type):\n",
        "    assert evaluate_type in [\"exact\", \"partial\", \"binary\"], \"Wrong type of evaluate\"\n",
        "\n",
        "    sub_test, obj_test, aspect_test, sentiment_test = tuple_test\n",
        "    sub_pred, obj_pred, aspect_pred, sentiment_pred = tuple_pred\n",
        "\n",
        "    if sentiment_test != sentiment_pred:\n",
        "        return 0\n",
        "\n",
        "    if evaluate_type in [\"exact\", \"binary\"]:\n",
        "        a = check_ovelapping_each_element(sub_test, sub_pred, 1, evaluate_type) # 0 hoặc 1 refer to False or True\n",
        "        b = check_ovelapping_each_element(obj_test, obj_pred, 1, evaluate_type) # 0 hoặc 1\n",
        "        c = check_ovelapping_each_element(aspect_test, aspect_pred, 1, evaluate_type) # 0 hoặc 1\n",
        "        # print(a, b, c)\n",
        "        if a + b + c == 3:\n",
        "            return 1\n",
        "        else:\n",
        "            return 0\n",
        "    elif evaluate_type == \"partial\":\n",
        "        s1, s2  = check_ovelapping_each_element(sub_test, sub_pred, 1, evaluate_type)\n",
        "        o1, o2 = check_ovelapping_each_element(obj_test, obj_pred, 1, evaluate_type)\n",
        "        a1, a2 = check_ovelapping_each_element(aspect_test, aspect_pred, 1, evaluate_type)\n",
        "        assert s1 <= s2\n",
        "        assert o1 <= o2\n",
        "        assert a1 <= a2\n",
        "\n",
        "        if s1 == -1 or o1 == -1 or a1 == -1:\n",
        "            return 0\n",
        "        return (s1 + o1 + a1) / (s2 + o2 + a2)\n",
        "    else:\n",
        "        raise Exception(\"No evaluate type found.\")\n",
        "    return 0\n",
        "\n",
        "\n",
        "def evaluate_all_tuple(all_label_dict, evaluate_type):\n",
        "    num_correct_tuple = 0\n",
        "    num_total_tuple = len(all_label_dict['SUBJECT']['test'])\n",
        "    assert num_total_tuple == 211\n",
        "    for i in range(num_total_tuple):\n",
        "        tuple_test = [all_label_dict['SUBJECT']['test'][i], all_label_dict['OBJECT']['test'][i], all_label_dict['ASPECT']['test'][i], all_label_dict['SENTIMENT']['test'][i]]\n",
        "        tuple_pred = [all_label_dict['SUBJECT']['pred'][i], all_label_dict['OBJECT']['pred'][i], all_label_dict['ASPECT']['pred'][i], all_label_dict['SENTIMENT']['pred'][i]]\n",
        "\n",
        "        num_correct_tuple += check_correct_prediction_tuple(tuple_test, tuple_pred, evaluate_type)\n",
        "        # print(num_correct_tuple)\n",
        "\n",
        "    precision = num_correct_tuple / num_total_tuple\n",
        "    recall = num_correct_tuple / num_total_tuple\n",
        "    f1_score = 2*precision*recall/(precision+recall)\n",
        "    print(f'Precision: {round(precision, 4)}, Recall: {round(recall,4)}, F1-Score: {round(f1_score,4)}')"
      ],
      "metadata": {
        "id": "Dm1toUNgAOxn"
      },
      "execution_count": 35,
      "outputs": []
    },
    {
      "cell_type": "markdown",
      "source": [
        "### Định nghĩa hàm evaluate joint-learning"
      ],
      "metadata": {
        "id": "IdcRlnMHjEMN"
      }
    },
    {
      "cell_type": "code",
      "source": [
        "def evaluate_joint(model, X_test, y_test, testing_config):\n",
        "    test_dataset = DataSequence(X_test, y_test)\n",
        "    test_dataloader = DataLoader(test_dataset, num_workers = 2, batch_size = testing_config.get('batch_size'))\n",
        "\n",
        "    if use_cuda:\n",
        "        model = model.cuda()\n",
        "    model.eval()\n",
        "    with torch.no_grad():\n",
        "        # khởi tạo torch rỗng\n",
        "        dict_ = {\n",
        "            \"SUBJECT\" : {'test': [], 'pred' : []},\n",
        "            \"OBJECT\" : {'test': [], 'pred' : []},\n",
        "            \"ASPECT\" : {'test': [], 'pred' : []},\n",
        "            \"SENTIMENT\" : {'test': [], 'pred' : []}\n",
        "        }\n",
        "\n",
        "        for tokenize, sub, obj, aspect, sentiment in tqdm(test_dataloader):\n",
        "            input_id = tokenize['input_ids'].squeeze(1).long().to(device)\n",
        "            attn_mask = tokenize['attention_mask'].squeeze(1).long().to(device)\n",
        "\n",
        "            sentiment.to(device)\n",
        "            sub.to(device)\n",
        "            obj.to(device)\n",
        "            aspect.to(device)\n",
        "\n",
        "            sent_output_pred, sub_pred, obj_pred, aspect_pred = model(input_id, attn_mask)\n",
        "            _, sent_output_pred = torch.max(torch.softmax(sent_output_pred, dim=1), dim=1) # Batchsize\n",
        "\n",
        "            dict_['SENTIMENT']['pred'].extend(sent_output_pred.type(torch.int64).cpu().numpy())\n",
        "            dict_['SENTIMENT']['test'].extend(sentiment.type(torch.int64).cpu().numpy())\n",
        "\n",
        "            for batch in range(len(sub_pred)):\n",
        "                dict_['SUBJECT']['pred'].append(sub_pred[batch].type(torch.int64).cpu().numpy())\n",
        "                dict_['OBJECT']['pred'].append(obj_pred[batch].type(torch.int64).cpu().numpy())\n",
        "                dict_['ASPECT']['pred'].append(aspect_pred[batch].type(torch.int64).cpu().numpy())\n",
        "\n",
        "                dict_['SUBJECT']['test'].append(sub[batch].type(torch.int64).cpu().numpy())\n",
        "                dict_['OBJECT']['test'].append(obj[batch].type(torch.int64).cpu().numpy())\n",
        "                dict_['ASPECT']['test'].append(aspect[batch].type(torch.int64).cpu().numpy())\n",
        "\n",
        "    print(\"\\n------------------------------SENTIMENT EVALUATION--------------------------------------\")\n",
        "    print(classification_report(dict_['SENTIMENT']['test'], dict_['SENTIMENT']['pred'], digits=4))\n",
        "\n",
        "    for element_type in [\"SUBJECT\", \"OBJECT\", \"ASPECT\"]:\n",
        "        print(f\"\\n------------------------------{element_type} EVALUATION--------------------------------------\")\n",
        "\n",
        "        y_label, y_pred = mapping_output_to_actual_seq(dict_[element_type]['test'], dict_[element_type]['pred'])\n",
        "        for evaluate_type in [\"binary\", \"partial\", \"exact\"]:\n",
        "            print(f'{evaluate_type.upper()}', end = ':  ')\n",
        "            evaluate_full_named_entity(y_label, y_pred, 1, evaluate_type)\n",
        "\n",
        "        evaluate_metrics(y_label, y_pred)\n",
        "\n",
        "    print(\"\\n------------------------------FINAL TUPLE EVALUATION--------------------------------------\")\n",
        "    for evaluate_type in [\"binary\", \"partial\", \"exact\"]:\n",
        "        print(f'{evaluate_type.upper()}', end = ':  ')\n",
        "        evaluate_all_tuple(dict_, evaluate_type)\n"
      ],
      "metadata": {
        "id": "s__RYQUQcYrG"
      },
      "execution_count": 36,
      "outputs": []
    },
    {
      "cell_type": "code",
      "source": [
        "def evaluate_sequential(model_sc, model_cee, X_test, y_test, testing_config):\n",
        "    test_dataset = DataSequence(X_test, y_test)\n",
        "    test_dataloader = DataLoader(test_dataset, num_workers = 2, batch_size = testing_config.get('batch_size'))\n",
        "\n",
        "    if use_cuda:\n",
        "        model_sc = model_sc.cuda()\n",
        "        model_cee = model_cee.cuda()\n",
        "    model_sc.eval()\n",
        "    model_cee.eval()\n",
        "    with torch.no_grad():\n",
        "        # khởi tạo torch rỗng\n",
        "        dict_ = {\n",
        "            \"SUBJECT\" : {'test': [], 'pred' : []},\n",
        "            \"OBJECT\" : {'test': [], 'pred' : []},\n",
        "            \"ASPECT\" : {'test': [], 'pred' : []},\n",
        "            \"SENTIMENT\" : {'test': [], 'pred' : []}\n",
        "        }\n",
        "\n",
        "        for tokenize, sub, obj, aspect, sentiment in tqdm(test_dataloader):\n",
        "            input_id = tokenize['input_ids'].squeeze(1).long().to(device)\n",
        "            attn_mask = tokenize['attention_mask'].squeeze(1).long().to(device)\n",
        "\n",
        "            sentiment.to(device)\n",
        "            sub.to(device)\n",
        "            obj.to(device)\n",
        "            aspect.to(device)\n",
        "\n",
        "            sent_output_pred, _, _, _ = model_sc(input_id, attn_mask)\n",
        "            _, sent_output_pred = torch.max(torch.softmax(sent_output_pred, dim=1), dim=1) # Batchsize\n",
        "            _, sub_pred, obj_pred, aspect_pred = model_cee(input_id, attn_mask)\n",
        "\n",
        "            dict_['SENTIMENT']['pred'].extend(sent_output_pred.type(torch.int64).cpu().numpy())\n",
        "            dict_['SENTIMENT']['test'].extend(sentiment.type(torch.int64).cpu().numpy())\n",
        "\n",
        "            for batch in range(len(sub_pred)):\n",
        "                dict_['SUBJECT']['pred'].append(sub_pred[batch].type(torch.int64).cpu().numpy())\n",
        "                dict_['OBJECT']['pred'].append(obj_pred[batch].type(torch.int64).cpu().numpy())\n",
        "                dict_['ASPECT']['pred'].append(aspect_pred[batch].type(torch.int64).cpu().numpy())\n",
        "\n",
        "                dict_['SUBJECT']['test'].append(sub[batch].type(torch.int64).cpu().numpy())\n",
        "                dict_['OBJECT']['test'].append(obj[batch].type(torch.int64).cpu().numpy())\n",
        "                dict_['ASPECT']['test'].append(aspect[batch].type(torch.int64).cpu().numpy())\n",
        "\n",
        "    print(\"\\n------------------------------SENTIMENT EVALUATION--------------------------------------\")\n",
        "    print(classification_report(dict_['SENTIMENT']['test'], dict_['SENTIMENT']['pred'], digits=4))\n",
        "\n",
        "    for element_type in [\"SUBJECT\", \"OBJECT\", \"ASPECT\"]:\n",
        "        print(f\"\\n------------------------------{element_type} EVALUATION--------------------------------------\")\n",
        "\n",
        "        y_label, y_pred = mapping_output_to_actual_seq(dict_[element_type]['test'], dict_[element_type]['pred'])\n",
        "        for evaluate_type in [\"binary\", \"partial\", \"exact\"]:\n",
        "            print(f'{evaluate_type.upper()}', end = ':  ')\n",
        "            evaluate_full_named_entity(y_label, y_pred, 1, evaluate_type)\n",
        "\n",
        "        evaluate_metrics(y_label, y_pred)\n",
        "\n",
        "    print(\"\\n------------------------------FINAL TUPLE EVALUATION--------------------------------------\")\n",
        "    for evaluate_type in [\"binary\", \"partial\", \"exact\"]:\n",
        "        print(f'{evaluate_type.upper()}', end = ':  ')\n",
        "        evaluate_all_tuple(dict_, evaluate_type)"
      ],
      "metadata": {
        "id": "edXcgCgFPMkx"
      },
      "execution_count": 42,
      "outputs": []
    },
    {
      "cell_type": "markdown",
      "source": [
        "## Main"
      ],
      "metadata": {
        "id": "ebVh2bTSVBtj"
      }
    },
    {
      "cell_type": "markdown",
      "source": [
        "### Running main"
      ],
      "metadata": {
        "id": "L_1oVQWip_6c"
      }
    },
    {
      "cell_type": "code",
      "source": [
        "use_cuda = torch.cuda.is_available()\n",
        "device = torch.device(\"cuda\" if use_cuda else \"cpu\")\n",
        "!mkdir -p phase2_saved_model"
      ],
      "metadata": {
        "id": "mrssUUnHvi0X"
      },
      "execution_count": 38,
      "outputs": []
    },
    {
      "cell_type": "code",
      "source": [
        "MODE_PROGRAM = \"JOINT\"\n",
        "\n",
        "if MODE_PROGRAM == 'JOINT':\n",
        "    # Khởi tạo\n",
        "    model_config = {\n",
        "        'gamma_sc' : 1.1,\n",
        "        'gamma_cee' : 1,\n",
        "        'dropout_threshold' : 0.2\n",
        "    }\n",
        "    model = Baseline(model_type = 'joint', model_config = model_config)\n",
        "\n",
        "    # trainning\n",
        "    trainning_config = {\n",
        "        'epochs' : 5,\n",
        "        'batch_size' : 32,\n",
        "        'bert_lr' : 2e-5,\n",
        "        'sentiment_lr' : 2e-3,\n",
        "        'element_lr' : 2e-5,\n",
        "        'crf_lr' : 5e-3\n",
        "    }\n",
        "    train(model, X_train, y_train, trainning_config)\n",
        "\n",
        "    # testing\n",
        "    testing_config = {\n",
        "        'batch_size' : 32\n",
        "    }\n",
        "    evaluate_joint(model, X_test, y_test, testing_config)\n",
        "    torch.save(model.state_dict(), 'phase2_saved_model/joint_model.pth')"
      ],
      "metadata": {
        "id": "NjlPtDvxR76K",
        "colab": {
          "base_uri": "https://localhost:8080/",
          "height": 1000,
          "referenced_widgets": [
            "403800341add42e1b652a389d04cbb60",
            "39dc6ad1324146b5ab9b064faa3831c2",
            "086619e5d592433a86eecc3bf2309a32",
            "28da8f2624c649b6964028a4ae8f3a95",
            "f442842c7fde4693843387f71ee428a5",
            "b2b7d406895147d1a5cb2612013694d4",
            "318bea871c4f4d92bf5c88d9fca37916",
            "2d9a62c97f0f4805a52222c978c0ca48",
            "b84280e8189843ea81b0d70230943bc2",
            "aa79982be712400b8fc92a351846d119",
            "815b475ea13e486ea7120329af1e5907"
          ]
        },
        "outputId": "84d8214d-ebca-4092-dcb8-658a6ab229e6"
      },
      "execution_count": 39,
      "outputs": [
        {
          "output_type": "display_data",
          "data": {
            "text/plain": [
              "pytorch_model.bin:   0%|          | 0.00/543M [00:00<?, ?B/s]"
            ],
            "application/vnd.jupyter.widget-view+json": {
              "version_major": 2,
              "version_minor": 0,
              "model_id": "403800341add42e1b652a389d04cbb60"
            }
          },
          "metadata": {}
        },
        {
          "output_type": "stream",
          "name": "stderr",
          "text": [
            "100%|██████████| 282/282 [09:42<00:00,  2.07s/it]\n"
          ]
        },
        {
          "output_type": "stream",
          "name": "stdout",
          "text": [
            "Epoch is 1 and Loss: 2171.71\n"
          ]
        },
        {
          "output_type": "stream",
          "name": "stderr",
          "text": [
            "100%|██████████| 282/282 [09:44<00:00,  2.07s/it]\n"
          ]
        },
        {
          "output_type": "stream",
          "name": "stdout",
          "text": [
            "Epoch is 2 and Loss: 488.43\n"
          ]
        },
        {
          "output_type": "stream",
          "name": "stderr",
          "text": [
            "100%|██████████| 282/282 [09:43<00:00,  2.07s/it]\n"
          ]
        },
        {
          "output_type": "stream",
          "name": "stdout",
          "text": [
            "Epoch is 3 and Loss: 235.23\n"
          ]
        },
        {
          "output_type": "stream",
          "name": "stderr",
          "text": [
            "100%|██████████| 282/282 [09:44<00:00,  2.07s/it]\n"
          ]
        },
        {
          "output_type": "stream",
          "name": "stdout",
          "text": [
            "Epoch is 4 and Loss: 225.76\n"
          ]
        },
        {
          "output_type": "stream",
          "name": "stderr",
          "text": [
            "100%|██████████| 282/282 [09:42<00:00,  2.07s/it]\n"
          ]
        },
        {
          "output_type": "stream",
          "name": "stdout",
          "text": [
            "Epoch is 5 and Loss: 118.21\n"
          ]
        },
        {
          "output_type": "stream",
          "name": "stderr",
          "text": [
            "100%|██████████| 7/7 [00:03<00:00,  1.91it/s]\n"
          ]
        },
        {
          "output_type": "stream",
          "name": "stdout",
          "text": [
            "\n",
            "------------------------------SENTIMENT EVALUATION--------------------------------------\n",
            "              precision    recall  f1-score   support\n",
            "\n",
            "           0     0.8537    0.9211    0.8861        38\n",
            "           1     0.8810    0.9250    0.9024        40\n",
            "           2     0.9609    0.9248    0.9425       133\n",
            "\n",
            "    accuracy                         0.9242       211\n",
            "   macro avg     0.8985    0.9236    0.9103       211\n",
            "weighted avg     0.9265    0.9242    0.9248       211\n",
            "\n",
            "\n",
            "------------------------------SUBJECT EVALUATION--------------------------------------\n",
            "BINARY:  Precision: 0.9804, Recall: 0.9756, F1-Score: 0.978\n",
            "PARTIAL:  Precision: 0.9706, Recall: 0.9659, F1-Score: 0.9682\n",
            "EXACT:  Precision: 0.9216, Recall: 0.9171, F1-Score: 0.9193\n",
            "\n",
            "               precision    recall  f1-score   support\n",
            "\n",
            "           0     0.9976    0.9922    0.9949      4516\n",
            "           1     0.9266    0.9757    0.9505       453\n",
            "\n",
            "    accuracy                         0.9907      4969\n",
            "   macro avg     0.9621    0.9840    0.9727      4969\n",
            "weighted avg     0.9911    0.9907    0.9908      4969\n",
            "\n",
            "\n",
            "------------------------------OBJECT EVALUATION--------------------------------------\n",
            "BINARY:  Precision: 0.966, Recall: 0.9103, F1-Score: 0.9373\n",
            "PARTIAL:  Precision: 0.9592, Recall: 0.9038, F1-Score: 0.9307\n",
            "EXACT:  Precision: 0.8912, Recall: 0.8397, F1-Score: 0.8647\n",
            "\n",
            "               precision    recall  f1-score   support\n",
            "\n",
            "           0     0.9950    0.9929    0.9939      4626\n",
            "           1     0.9065    0.9329    0.9195       343\n",
            "\n",
            "    accuracy                         0.9887      4969\n",
            "   macro avg     0.9508    0.9629    0.9567      4969\n",
            "weighted avg     0.9889    0.9887    0.9888      4969\n",
            "\n",
            "\n",
            "------------------------------ASPECT EVALUATION--------------------------------------\n",
            "BINARY:  Precision: 0.9211, Recall: 0.9309, F1-Score: 0.9259\n",
            "PARTIAL:  Precision: 0.8842, Recall: 0.8936, F1-Score: 0.8889\n",
            "EXACT:  Precision: 0.8684, Recall: 0.8777, F1-Score: 0.873\n",
            "\n",
            "               precision    recall  f1-score   support\n",
            "\n",
            "           0     0.9929    0.9871    0.9900      4561\n",
            "           1     0.8644    0.9216    0.8921       408\n",
            "\n",
            "    accuracy                         0.9817      4969\n",
            "   macro avg     0.9287    0.9543    0.9410      4969\n",
            "weighted avg     0.9824    0.9817    0.9820      4969\n",
            "\n",
            "\n",
            "------------------------------FINAL TUPLE EVALUATION--------------------------------------\n",
            "BINARY:  Precision: 0.782, Recall: 0.782, F1-Score: 0.782\n",
            "PARTIAL:  Precision: 0.7739, Recall: 0.7739, F1-Score: 0.7739\n",
            "EXACT:  Precision: 0.6635, Recall: 0.6635, F1-Score: 0.6635\n"
          ]
        }
      ]
    },
    {
      "cell_type": "code",
      "source": [
        "del model"
      ],
      "metadata": {
        "id": "2Q9m0ynUW11h"
      },
      "execution_count": 40,
      "outputs": []
    },
    {
      "cell_type": "code",
      "source": [
        "MODE_PROGRAM = \"SEQUENTIAL\"\n",
        "if MODE_PROGRAM == 'SEQUENTIAL':\n",
        "    # Khởi tạo\n",
        "    model_config = {\n",
        "        'gamma_sc' : 0,\n",
        "        'gamma_cee' : 0,\n",
        "        'dropout_threshold' : 0.2\n",
        "    }\n",
        "    model_sc = Baseline(model_type = 'classification', model_config = model_config)\n",
        "    model_cee = Baseline(model_type = 'extraction', model_config = model_config)\n",
        "\n",
        "    # trainning\n",
        "    trainning_config = {\n",
        "        'epochs' : 5,\n",
        "        'batch_size' : 32,\n",
        "        'bert_lr' : 2e-5,\n",
        "        'sentiment_lr' : 2e-4,\n",
        "        'element_lr' : 2e-5,\n",
        "        'crf_lr' : 5e-3\n",
        "    }\n",
        "    train(model_sc, X_train, y_train, trainning_config)\n",
        "    train(model_cee, X_train, y_train, trainning_config)\n",
        "\n",
        "    # testing\n",
        "    testing_config = {\n",
        "        'batch_size' : 32\n",
        "    }\n",
        "    torch.save(model_sc.state_dict(), 'phase2_saved_model/sc_model.pth')\n",
        "    torch.save(model_cee.state_dict(), 'phase2_saved_model/cee_model.pth')"
      ],
      "metadata": {
        "id": "OnzNlKUiT_yw"
      },
      "execution_count": null,
      "outputs": []
    },
    {
      "cell_type": "code",
      "source": [
        "evaluate_sequential(model_sc, model_cee, X_test, y_test, testing_config)"
      ],
      "metadata": {
        "colab": {
          "base_uri": "https://localhost:8080/"
        },
        "id": "re4e06uT_mCL",
        "outputId": "67f0424a-413f-4726-d123-f360c00970c8"
      },
      "execution_count": 45,
      "outputs": [
        {
          "output_type": "stream",
          "name": "stderr",
          "text": [
            "100%|██████████| 7/7 [00:08<00:00,  1.25s/it]\n"
          ]
        },
        {
          "output_type": "stream",
          "name": "stdout",
          "text": [
            "\n",
            "------------------------------SENTIMENT EVALUATION--------------------------------------\n",
            "              precision    recall  f1-score   support\n",
            "\n",
            "           0     0.8718    0.8947    0.8831        38\n",
            "           1     1.0000    0.9250    0.9610        40\n",
            "           2     0.9481    0.9624    0.9552       133\n",
            "\n",
            "    accuracy                         0.9431       211\n",
            "   macro avg     0.9400    0.9274    0.9331       211\n",
            "weighted avg     0.9442    0.9431    0.9433       211\n",
            "\n",
            "\n",
            "------------------------------SUBJECT EVALUATION--------------------------------------\n",
            "BINARY:  Precision: 0.9755, Recall: 0.9707, F1-Score: 0.9731\n",
            "PARTIAL:  Precision: 0.951, Recall: 0.9463, F1-Score: 0.9487\n",
            "EXACT:  Precision: 0.9314, Recall: 0.9268, F1-Score: 0.9291\n",
            "\n",
            "               precision    recall  f1-score   support\n",
            "\n",
            "           0     0.9945    0.9942    0.9944      4516\n",
            "           1     0.9427    0.9448    0.9438       453\n",
            "\n",
            "    accuracy                         0.9897      4969\n",
            "   macro avg     0.9686    0.9695    0.9691      4969\n",
            "weighted avg     0.9897    0.9897    0.9897      4969\n",
            "\n",
            "\n",
            "------------------------------OBJECT EVALUATION--------------------------------------\n",
            "BINARY:  Precision: 0.966, Recall: 0.9103, F1-Score: 0.9373\n",
            "PARTIAL:  Precision: 0.932, Recall: 0.8782, F1-Score: 0.9043\n",
            "EXACT:  Precision: 0.8776, Recall: 0.8269, F1-Score: 0.8515\n",
            "\n",
            "               precision    recall  f1-score   support\n",
            "\n",
            "           0     0.9918    0.9935    0.9927      4626\n",
            "           1     0.9104    0.8892    0.8997       343\n",
            "\n",
            "    accuracy                         0.9863      4969\n",
            "   macro avg     0.9511    0.9414    0.9462      4969\n",
            "weighted avg     0.9862    0.9863    0.9862      4969\n",
            "\n",
            "\n",
            "------------------------------ASPECT EVALUATION--------------------------------------\n",
            "BINARY:  Precision: 0.9026, Recall: 0.9362, F1-Score: 0.9191\n",
            "PARTIAL:  Precision: 0.8462, Recall: 0.8777, F1-Score: 0.8616\n",
            "EXACT:  Precision: 0.8154, Recall: 0.8457, F1-Score: 0.8303\n",
            "\n",
            "               precision    recall  f1-score   support\n",
            "\n",
            "           0     0.9931    0.9829    0.9880      4561\n",
            "           1     0.8286    0.9240    0.8737       408\n",
            "\n",
            "    accuracy                         0.9781      4969\n",
            "   macro avg     0.9109    0.9535    0.9308      4969\n",
            "weighted avg     0.9796    0.9781    0.9786      4969\n",
            "\n",
            "\n",
            "------------------------------FINAL TUPLE EVALUATION--------------------------------------\n",
            "BINARY:  Precision: 0.7962, Recall: 0.7962, F1-Score: 0.7962\n",
            "PARTIAL:  Precision: 0.7746, Recall: 0.7746, F1-Score: 0.7746\n",
            "EXACT:  Precision: 0.6398, Recall: 0.6398, F1-Score: 0.6398\n"
          ]
        }
      ]
    },
    {
      "cell_type": "code",
      "source": [
        "del model_sc\n",
        "del model_cee"
      ],
      "metadata": {
        "id": "FazMEtVPXITq"
      },
      "execution_count": null,
      "outputs": []
    },
    {
      "cell_type": "markdown",
      "source": [
        "### Lưu model"
      ],
      "metadata": {
        "id": "8s4eSaW-qFS_"
      }
    },
    {
      "cell_type": "code",
      "source": [
        "#\n",
        "# tokenizer.save_pretrained(f'phase2_saved_model/tokenizer')\n",
        "# if MODE_PROGRAM == 'JOINT':\n",
        "#     model.save_pretrained('phase2_saved_model/joint_model')\n",
        "# else:\n",
        "#"
      ],
      "metadata": {
        "id": "cuP2g1sziseF"
      },
      "execution_count": null,
      "outputs": []
    },
    {
      "cell_type": "code",
      "source": [
        "# if MODEL_TYPE == \"classification\":\n",
        "#     !mkdir -p saved_model\n",
        "#     torch.save(cls.state_dict(), 'saved_model/SC')\n",
        "\n",
        "# if MODEL_TYPE == \"extraction\":\n",
        "#     !mkdir -p saved_model\n",
        "#     torch.save(cee.state_dict(), 'saved_model/CEE')"
      ],
      "metadata": {
        "id": "qdYuA36zi6vb"
      },
      "execution_count": null,
      "outputs": []
    },
    {
      "cell_type": "code",
      "source": [
        "# model.bert.save_pretrained('saved_model/bertforNER')"
      ],
      "metadata": {
        "id": "1Uoa6TOYk7Y7"
      },
      "execution_count": null,
      "outputs": []
    },
    {
      "cell_type": "markdown",
      "source": [
        "## Thực nghiệm"
      ],
      "metadata": {
        "id": "baiRpZfFErNb"
      }
    },
    {
      "cell_type": "code",
      "source": [
        "# prediction = []\n",
        "# BATCHSIZE = 20\n",
        "# num_class = 3\n",
        "# sequence_length = 3\n",
        "\n",
        "# for i in range(10):\n",
        "#     input = torch.randn(BATCHSIZE, num_class)\n",
        "#     output_softmax = torch.softmax(input, dim=1)\n",
        "#     # print('-------')\n",
        "#     # print(output_softmax.shape)\n",
        "#     # print(output_softmax)\n",
        "#     _, output_max = torch.max(output_softmax, dim=1)\n",
        "#     # print(output_max)\n",
        "#     # break\n",
        "#     prediction.extend(output_max.cpu().numpy())\n",
        "\n",
        "# print(prediction)\n",
        "\n",
        "# for i in range(10):\n",
        "#     output = torch.randn(BATCHSIZE, sequence_length)\n",
        "    # output_softmax = torch.softmax(output, dim=1)\n",
        "    # print('-------')\n",
        "    # print(output_softmax.shape)\n",
        "    # print(output_softmax)\n",
        "    # _, output_max = torch.max(output_softmax, dim=1)\n",
        "    # print(output_max)\n",
        "    # break\n",
        "    # print(len(output))\n",
        "    # for i, stc in enumerate(output):\n",
        "    #     # print(i)\n",
        "    #     prediction.append(stc.cpu().numpy())\n",
        "\n",
        "# print(prediction)"
      ],
      "metadata": {
        "id": "ndkUzvc7kRGE"
      },
      "execution_count": null,
      "outputs": []
    },
    {
      "cell_type": "code",
      "source": [
        "# import torch\n",
        "# import torch.nn.functional as F\n",
        "\n",
        "# x = torch.tensor([1.0, 2.0, 3.0, 4.0, 5.0, 6.0])\n",
        "# x = x.view(1, 1, -1)  # Adding batch and channel dimensions for 1D convolution\n",
        "# print(x)\n",
        "# pooled_x = F.avg_pool1d(x, kernel_size=2, stride=1)\n",
        "# print(pooled_x)"
      ],
      "metadata": {
        "id": "fE2hze0YGZi9"
      },
      "execution_count": null,
      "outputs": []
    },
    {
      "cell_type": "code",
      "source": [
        "# import torch\n",
        "\n",
        "# Assuming you have token_embeddings with shape (batch_size, sequence_length, hidden_size)\n",
        "# For example, you may get this from BERT using the Hugging Face Transformers library\n",
        "\n",
        "# Mock token embeddings (replace this with actual token embeddings)\n",
        "# token_embeddings = torch.rand((2, 10, 768))  # Assuming batch_size=2, sequence_length=10, hidden_size=768\n",
        "# attn_mask = torch.rand((2, 10)) * 0 + 1\n",
        "\n",
        "# linear = nn.Linear(768, 2)\n",
        "# output = linear(token_embeddings)\n",
        "# print(f'After linear shape: {output.shape}')\n",
        "\n",
        "# crf_layer = CRFCell(2, batch_first = True)\n",
        "# output = crf_layer(output, attn_mask, None)\n",
        "# print(f'After crf shape: {output.shape}')\n",
        "# print(output)\n",
        "# Apply mean pooling along the sequence dimension\n",
        "# mean_pooled_output = torch.mean(output, dim=1)\n",
        "\n",
        "# token_embeddings = torch.mean(token_embeddings, dim = 1)\n",
        "# output_after_avg = avg_layer(token_embeddings, dim = 1)\n",
        "# print(token_embeddings.shape)\n",
        "\n",
        "\n",
        "# print(\"Token Embeddings shape:\", token_embeddings.shape)\n",
        "# print(\"Mean Pooled Output shape:\", mean_pooled_output.shape)\n",
        "# print(mean_pooled_output)\n",
        "# print(mean_pooled_output.view(-1).shape)\n",
        "# print(mean_pooled_output.view(-1))\n",
        "# print(mean_pooled_output.size(1))"
      ],
      "metadata": {
        "id": "HczI2tCF_AVB"
      },
      "execution_count": null,
      "outputs": []
    }
  ]
}